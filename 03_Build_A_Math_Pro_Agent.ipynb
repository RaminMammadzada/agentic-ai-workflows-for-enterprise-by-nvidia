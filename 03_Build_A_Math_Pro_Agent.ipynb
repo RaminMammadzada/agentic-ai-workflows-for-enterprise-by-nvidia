{
 "cells": [
  {
   "cell_type": "markdown",
   "metadata": {},
   "source": [
    "<a href=\"https://www.nvidia.com/dli\"> <img src=\"images/nvidia_header.png\" style=\"margin-left: -30px; width: 300px; float: left;\"> </a>"
   ]
  },
  {
   "cell_type": "markdown",
   "metadata": {},
   "source": [
    "# Creating and Running a Custom AgentIQ Workflow\n",
    "\n",
    "## Agent Types in AgentIQ\n",
    "\n",
    "AgentIQ supports several types of agents, each with different capabilities and use cases:\n",
    "\n",
    "1. **ReAct Agent**: Based on the Reasoning + Acting paradigm, this agent performs reasoning between tool calls and can use multiple tools to solve complex problems. It follows an iterative thought process of observation, reasoning, action, and feedback.\n",
    "\n",
    "2. **Tool Calling Agent**: Leverages the native function/tool calling capabilities of modern LLMs. This agent uses tool input schemas to appropriately route requests to the correct tools without requiring explicit reasoning steps between calls.\n",
    "\n",
    "3. **Reasoning Agent**: Builds on top of an underlying function (like a ReAct or Tool Calling agent) and adds additional reasoning capabilities. This agent type is useful when you need enhanced reasoning on top of another agent's functionality.\n",
    "\n",
    "4. **Custom Agents**: AgentIQ is pluggable, so you can create or integrate other agentic workflows\n",
    "\n",
    "In this notebook, we'll start with a simple agent, and then we'll be working with a **ReAct Agent** to build our math tools workflow.\n",
    "\n",
    "Let's define a semi-difficult math problem for our agent to attempt to solve."
   ]
  },
  {
   "cell_type": "code",
   "execution_count": 1,
   "metadata": {},
   "outputs": [
    {
     "name": "stdout",
     "output_type": "stream",
     "text": [
      "env: MATH_PROBLEM=\"2 + (4 + 1) * (9 - 3 + 4) * 2 + 2 + 3\"\n"
     ]
    }
   ],
   "source": [
    "%env MATH_PROBLEM=\"2 + (4 + 1) * (9 - 3 + 4) * 2 + 2 + 3\""
   ]
  },
  {
   "cell_type": "markdown",
   "metadata": {},
   "source": [
    "(spoiler alert: it's 107)"
   ]
  },
  {
   "cell_type": "markdown",
   "metadata": {},
   "source": [
    "## Creating an AgentIQ Workflow\n",
    "\n",
    "First, we'll create a workflow using existing AgentIQ components. This will be a simple LLM-powered agent that can respond to text."
   ]
  },
  {
   "cell_type": "markdown",
   "metadata": {},
   "source": [
    "### 1. Put the Workflow Config Anywhere\n",
    "\n",
    "Workflow configurations are yaml files that compose the components that AgentIQ is aware of. They can go anywhere, so let's create a directory to hold the workflow files that we will be working with."
   ]
  },
  {
   "cell_type": "code",
   "execution_count": 2,
   "metadata": {},
   "outputs": [],
   "source": [
    "!mkdir -p workflows"
   ]
  },
  {
   "cell_type": "markdown",
   "metadata": {},
   "source": [
    "### 2. Create a Workflow Config\n",
    "\n",
    "Now we'll create a workflow configuration file. This YAML file will define the components of our agent, including:\n",
    " \n",
    "1. The type of the workflow (or, in other words, the type of the agent)\n",
    "2. The configuration for the workflow\n",
    "3. Any tools the agent can use\n",
    " \n",
    "The workflow configuration is the composition blueprint for how our agent will function. We'll start with a basic configuration and then enhance it with math capabilities later."
   ]
  },
  {
   "cell_type": "code",
   "execution_count": 4,
   "metadata": {},
   "outputs": [
    {
     "name": "stdout",
     "output_type": "stream",
     "text": [
      "Overwriting workflows/simple_llm_config.yml\n"
     ]
    }
   ],
   "source": [
    "%%writefile workflows/simple_llm_config.yml\n",
    "\n",
    "general:\n",
    "  use_uvloop: true\n",
    "\n",
    "llms:\n",
    "  nim_llm:\n",
    "    _type: nim\n",
    "    model_name: meta/llama-3.1-70b-instruct\n",
    "    temperature: 0.0\n",
    "    max_tokens: 2048\n",
    "\n",
    "workflow:\n",
    "  _type: simple_llm_call\n",
    "  llm_name: nim_llm\n"
   ]
  },
  {
   "cell_type": "markdown",
   "metadata": {},
   "source": [
    "Let's break down the configuration file:\n",
    "\n",
    "- **general**: Contains general settings for the workflow\n",
    "  - `use_uvloop: true`: Enables uvloop for better async performance\n",
    "\n",
    "- **llms**: Defines the language models used in the workflow\n",
    "  - `nim_llm`: A NIM-based LLM configuration\n",
    "    - `_type: nim`: Specifies that this is a NIM model\n",
    "    - `model_name: meta/llama-3.1-70b-instruct`: Uses the 70B parameter Llama 3.1 model\n",
    "    - `temperature: 0.0`: Sets deterministic output (no randomness)\n",
    "\n",
    "- **workflow**: Defines the agent workflow\n",
    "  - `_type: simple_llm_call`: Uses a simple agent that makes a single call to an LLM\n",
    "  - `llm_name: nim_llm`: References the LLM defined above\n",
    "\n",
    "This configuration creates a simple agent that relies solely on the LLM's pre-trained knowledge to answer questions."
   ]
  },
  {
   "cell_type": "markdown",
   "metadata": {},
   "source": [
    "### 3. Run the Workflow\n",
    "\n",
    "Now let's run our workflow to see it in action. We'll use the `aiq workflow run` command, specifying the path to our configuration file.\n",
    "\n",
    "This command will start the workflow defined in our configuration file. The workflow will use the specified LLM (nim_llm) to process inputs and generate responses.\n",
    "\n",
    "Even given the semi-complex math equation, the LLM will still likely return the right answer (107)."
   ]
  },
  {
   "cell_type": "code",
   "execution_count": 5,
   "metadata": {},
   "outputs": [
    {
     "name": "stdout",
     "output_type": "stream",
     "text": [
      "Math Problem: \"2 + (4 + 1) * (9 - 3 + 4) * 2 + 2 + 3\"\n",
      "2025-07-11 08:47:18,404 - aiq.runtime.loader - WARNING - Loading module 'aiq.agent.register' from entry point 'aiq_agents' took a long time (324.617147 ms). Ensure all imports are inside your registered functions.\n",
      "2025-07-11 08:47:18,535 - aiq.cli.commands.start - INFO - Starting AIQ Toolkit from config file: 'workflows/simple_llm_config.yml'\n",
      "2025-07-11 08:47:18,537 - aiq.cli.commands.start - WARNING - The front end type in the config file (fastapi) does not match the command name (console). Overwriting the config file front end.\n",
      "2025-07-11 08:47:18,541 - aiq.profiler.utils - WARNING - Discovered frameworks: {<LLMFrameworkEnum.LANGCHAIN: 'langchain'>} in function simple_llm_call_function by inspecting source. It is recommended and more reliable to instead add the used LLMFrameworkEnum types in the framework_wrappers argument when calling @register_function.\n",
      "\n",
      "Configuration Summary:\n",
      "--------------------\n",
      "Workflow Type: simple_llm_call\n",
      "Number of Functions: 0\n",
      "Number of LLMs: 1\n",
      "Number of Embedders: 0\n",
      "Number of Memory: 0\n",
      "Number of Retrievers: 0\n",
      "\n",
      "2025-07-11 08:47:21,246 - aiq.front_ends.console.console_front_end_plugin - INFO - \n",
      "--------------------------------------------------\n",
      "\u001b[32mWorkflow Result:\n",
      "['To solve the expression \"2 + (4 + 1) * (9 - 3 + 4) * 2 + 2 + 3\", we need to follow the order of operations (PEMDAS):\\n\\n1. Evaluate the expressions inside the parentheses:\\n\\t* (4 + 1) = 5\\n\\t* (9 - 3 + 4) = 10\\n2. Multiply 5 and 10:\\n\\t* 5 * 10 = 50\\n3. Multiply 50 by 2:\\n\\t* 50 * 2 = 100\\n4. Add 2, 2, and 3 to 100:\\n\\t* 100 + 2 + 2 + 3 = 107\\n\\nTherefore, the solution to the expression is 107.']\u001b[39m\n",
      "--------------------------------------------------\n",
      "Cleaning up simple_llm_call workflow.\n",
      "\u001b[0m\u001b[0m"
     ]
    }
   ],
   "source": [
    "!echo \"Math Problem: $MATH_PROBLEM\"\n",
    "!aiq run --config_file workflows/simple_llm_config.yml --input \"Reasoning off. Solve $MATH_PROBLEM\""
   ]
  },
  {
   "cell_type": "markdown",
   "metadata": {},
   "source": [
    "But... if the equation gets harder, we may go beyond what Llama 3.1 70B can handle."
   ]
  },
  {
   "cell_type": "code",
   "execution_count": 6,
   "metadata": {},
   "outputs": [
    {
     "name": "stdout",
     "output_type": "stream",
     "text": [
      "env: MATH_PROBLEM=\"(2 + sqrt(50) + 23^9) mod 13\"\n"
     ]
    }
   ],
   "source": [
    "%env MATH_PROBLEM=\"(2 + sqrt(50) + 23^9) mod 13\""
   ]
  },
  {
   "cell_type": "markdown",
   "metadata": {},
   "source": [
    "This number is 8.07006-ish (obviously).\n",
    "\n",
    "Let's ask our llm to do this entirely on its own in one shot. I'm so sorry, Llama 3.1 70B."
   ]
  },
  {
   "cell_type": "code",
   "execution_count": 7,
   "metadata": {},
   "outputs": [
    {
     "name": "stdout",
     "output_type": "stream",
     "text": [
      "Math Problem: \"(2 + sqrt(50) + 23^9) mod 13\"\n",
      "2025-07-11 08:49:25,616 - aiq.runtime.loader - WARNING - Loading module 'aiq.agent.register' from entry point 'aiq_agents' took a long time (315.707684 ms). Ensure all imports are inside your registered functions.\n",
      "2025-07-11 08:49:25,749 - aiq.cli.commands.start - INFO - Starting AIQ Toolkit from config file: 'workflows/simple_llm_config.yml'\n",
      "2025-07-11 08:49:25,750 - aiq.cli.commands.start - WARNING - The front end type in the config file (fastapi) does not match the command name (console). Overwriting the config file front end.\n",
      "2025-07-11 08:49:25,754 - aiq.profiler.utils - WARNING - Discovered frameworks: {<LLMFrameworkEnum.LANGCHAIN: 'langchain'>} in function simple_llm_call_function by inspecting source. It is recommended and more reliable to instead add the used LLMFrameworkEnum types in the framework_wrappers argument when calling @register_function.\n",
      "\n",
      "Configuration Summary:\n",
      "--------------------\n",
      "Workflow Type: simple_llm_call\n",
      "Number of Functions: 0\n",
      "Number of LLMs: 1\n",
      "Number of Embedders: 0\n",
      "Number of Memory: 0\n",
      "Number of Retrievers: 0\n",
      "\n",
      "2025-07-11 08:49:32,496 - aiq.front_ends.console.console_front_end_plugin - INFO - \n",
      "--------------------------------------------------\n",
      "\u001b[32mWorkflow Result:\n",
      "['To evaluate the expression \"(2 + sqrt(50) + 23^9) mod 13\", we need to follow the order of operations (PEMDAS):\\n\\n1. Calculate the square root of 50: sqrt(50) = 7.071 (approximately)\\n2. Calculate 23^9: 23^9 = 1,208,925,819,614,629,174,706,176 (a very large number!)\\n3. Add 2, sqrt(50), and 23^9: 2 + 7.071 + 1,208,925,819,614,629,174,706,176 ≈ 1,208,925,819,614,629,174,706,185\\n4. Take the result modulo 13: \\n\\nTo simplify the calculation, we can take advantage of the fact that 23 ≡ 10 (mod 13). Therefore, we can rewrite 23^9 as 10^9 (mod 13).\\n\\n10^9 (mod 13) ≡ 10^3 × 10^3 × 10^3 (mod 13)\\n≡ 1000 × 1000 × 1000 (mod 13)\\n≡ 1 × 1 × 1 (mod 13) (since 1000 ≡ 1 (mod 13))\\n≡ 1 (mod 13)\\n\\nNow, let\\'s recalculate the original expression:\\n\\n(2 + sqrt(50) + 23^9) mod 13\\n≡ (2 + 7.071 + 1) mod 13 (since 23^9 ≡ 1 (mod 13))\\n≡ 10.071 mod 13\\n≡ 10 mod 13 (since 0.071 is negligible in modulo 13 arithmetic)\\n\\nTherefore, the final result is:\\n\\n(2 + sqrt(50) + 23^9) mod 13 ≡ 10 (mod 13)']\u001b[39m\n",
      "--------------------------------------------------\n",
      "Cleaning up simple_llm_call workflow.\n",
      "\u001b[0m\u001b[0m"
     ]
    }
   ],
   "source": [
    "!echo \"Math Problem: $MATH_PROBLEM\"\n",
    "!aiq run --config_file workflows/simple_llm_config.yml --input \"$MATH_PROBLEM\""
   ]
  },
  {
   "cell_type": "markdown",
   "metadata": {},
   "source": [
    "It just gives up and cannot solve this complicated equation. Good try anyway, Llama 3.1 70B. Help is on the way."
   ]
  },
  {
   "cell_type": "markdown",
   "metadata": {},
   "source": [
    "## Creating a Custom AgentIQ Workflow\n",
    "\n",
    "Now we'll create a custom workflow for our math tools agent. The workflow will be a ReAct agent that can perform various mathematical operations that we provide for it as well as doing general reasoning on its own."
   ]
  },
  {
   "cell_type": "markdown",
   "metadata": {},
   "source": [
    "## ReAct Agents in AgentIQ\n",
    "\n",
    "ReAct agents are based on the [ReAct paper](https://react-lm.github.io/) and follow an iterative thought process to solve problems:\n",
    "\n",
    "1. **Observation** – The agent receives an input or problem to solve.\n",
    "2. **Reasoning (Thought)** – The agent thinks about what to do next.\n",
    "3. **Action** – The agent calls a tool (like a calculator, search API, etc.).\n",
    "4. **Observation (Feedback)** – The agent examines the tool's response.\n",
    "5. **Repeat** – If more steps are needed, it repeats the process.\n",
    "\n",
    "ReAct agents are particularly powerful because they can reason between tool calls and use multiple tools to answer a question, making them flexible for complex tasks."
   ]
  },
  {
   "cell_type": "markdown",
   "metadata": {},
   "source": [
    "### 1. Creating New Workflow Components\n",
    "\n",
    "Now we'll create a new AgentIQ workflow named `math_tools`.\n",
    "\n",
    "The `--no-install` flag prevents AgentIQ from installing the tool during creation (so we can see how to manually install it later), and the `--workflow-dir` flag specifies where to create the workflow. We'll put it in the workflows directory we created earlier, though we could put it anywhere."
   ]
  },
  {
   "cell_type": "code",
   "execution_count": 8,
   "metadata": {},
   "outputs": [
    {
     "name": "stdout",
     "output_type": "stream",
     "text": [
      "Workflow 'math_tools' created successfully in '/dli/task/workflows/math_tools'.\n",
      "\u001b[0m\u001b[0m"
     ]
    }
   ],
   "source": [
    "!aiq workflow create --no-install --workflow-dir workflows math_tools"
   ]
  },
  {
   "cell_type": "markdown",
   "metadata": {},
   "source": [
    "Let's examine what was just created:"
   ]
  },
  {
   "cell_type": "code",
   "execution_count": 9,
   "metadata": {},
   "outputs": [
    {
     "name": "stdout",
     "output_type": "stream",
     "text": [
      "\u001b[01;34mworkflows/math_tools\u001b[0m\n",
      "├── \u001b[01;34mconfigs\u001b[0m\n",
      "│   └── \u001b[01;36mconfig.yml\u001b[0m -> \u001b[00m/dli/task/workflows/math_tools/src/math_tools/configs/config.yml\u001b[0m\n",
      "├── \u001b[00mpyproject.toml\u001b[0m\n",
      "└── \u001b[01;34msrc\u001b[0m\n",
      "    └── \u001b[01;34mmath_tools\u001b[0m\n",
      "        ├── \u001b[00m__init__.py\u001b[0m\n",
      "        ├── \u001b[01;34mconfigs\u001b[0m\n",
      "        │   └── \u001b[00mconfig.yml\u001b[0m\n",
      "        ├── \u001b[00mmath_tools_function.py\u001b[0m\n",
      "        └── \u001b[00mregister.py\u001b[0m\n",
      "\n",
      "5 directories, 6 files\n"
     ]
    }
   ],
   "source": [
    "!tree workflows/math_tools"
   ]
  },
  {
   "cell_type": "markdown",
   "metadata": {},
   "source": [
    "`aiq workflow create` has given us a basic library directory with the following:\n",
    "- boilerplate `pyproject.toml`\n",
    "- `src/math_tools/` directory with the following files:\n",
    "    - `__init__.py` - empty initialization file (we will not be using this in this course)\n",
    "    - `math_tools_function.py` - the file containing the (now-empty) logic for the function component we will write. The boilerplate tool code currently simply parrots back what it is given.\n",
    "    - `register.py` - AgentIQ entrypoint for defining tools or other extensions.\n",
    "\n",
    "These files are not very useful initially, but we will build on them during this notebook."
   ]
  },
  {
   "cell_type": "markdown",
   "metadata": {},
   "source": [
    "### 2. Updating the Package Configuration\n",
    "\n",
    "Our first customizations will be to update the `pyproject.toml` file that defines our workflow as an installable Python package. This file specifies:\n",
    "\n",
    "- Package metadata (name, version, description)\n",
    "- Dependencies (we'll use `agentiq[langchain]` for ReAct agent support)\n",
    "- Entry point registration so AgentIQ can discover our components\n",
    "\n",
    "The entry point maps the `math_tools.register` module to the AgentIQ component system."
   ]
  },
  {
   "cell_type": "code",
   "execution_count": 11,
   "metadata": {},
   "outputs": [
    {
     "name": "stdout",
     "output_type": "stream",
     "text": [
      "Overwriting workflows/math_tools/pyproject.toml\n"
     ]
    }
   ],
   "source": [
    "%%writefile workflows/math_tools/pyproject.toml\n",
    "[build-system]\n",
    "build-backend = \"setuptools.build_meta\"\n",
    "requires = [\"setuptools >= 64\"]\n",
    "\n",
    "[project]\n",
    "name = \"math_tools\"\n",
    "version = \"0.1.0\"\n",
    "dependencies = [\n",
    "  \"agentiq[langchain]\",\n",
    "]\n",
    "requires-python = \">=3.12\"\n",
    "description = \"AgentIQ workflow for mathematical operations\"\n",
    "classifiers = [\"Programming Language :: Python\"]\n",
    "\n",
    "\n",
    "[project.entry-points.'aiq.components']\n",
    "math_tools = \"math_tools.register\""
   ]
  },
  {
   "cell_type": "markdown",
   "metadata": {},
   "source": [
    "Let's look at that `math_tools.register` module:"
   ]
  },
  {
   "cell_type": "code",
   "execution_count": 12,
   "metadata": {},
   "outputs": [
    {
     "data": {
      "text/html": [
       "<style>pre { line-height: 125%; }\n",
       "td.linenos .normal { color: inherit; background-color: transparent; padding-left: 5px; padding-right: 5px; }\n",
       "span.linenos { color: inherit; background-color: transparent; padding-left: 5px; padding-right: 5px; }\n",
       "td.linenos .special { color: #000000; background-color: #ffffc0; padding-left: 5px; padding-right: 5px; }\n",
       "span.linenos.special { color: #000000; background-color: #ffffc0; padding-left: 5px; padding-right: 5px; }\n",
       ".output_html .hll { background-color: #ffffcc }\n",
       ".output_html { background: #f8f8f8; }\n",
       ".output_html .c { color: #3D7B7B; font-style: italic } /* Comment */\n",
       ".output_html .err { border: 1px solid #F00 } /* Error */\n",
       ".output_html .k { color: #008000; font-weight: bold } /* Keyword */\n",
       ".output_html .o { color: #666 } /* Operator */\n",
       ".output_html .ch { color: #3D7B7B; font-style: italic } /* Comment.Hashbang */\n",
       ".output_html .cm { color: #3D7B7B; font-style: italic } /* Comment.Multiline */\n",
       ".output_html .cp { color: #9C6500 } /* Comment.Preproc */\n",
       ".output_html .cpf { color: #3D7B7B; font-style: italic } /* Comment.PreprocFile */\n",
       ".output_html .c1 { color: #3D7B7B; font-style: italic } /* Comment.Single */\n",
       ".output_html .cs { color: #3D7B7B; font-style: italic } /* Comment.Special */\n",
       ".output_html .gd { color: #A00000 } /* Generic.Deleted */\n",
       ".output_html .ge { font-style: italic } /* Generic.Emph */\n",
       ".output_html .ges { font-weight: bold; font-style: italic } /* Generic.EmphStrong */\n",
       ".output_html .gr { color: #E40000 } /* Generic.Error */\n",
       ".output_html .gh { color: #000080; font-weight: bold } /* Generic.Heading */\n",
       ".output_html .gi { color: #008400 } /* Generic.Inserted */\n",
       ".output_html .go { color: #717171 } /* Generic.Output */\n",
       ".output_html .gp { color: #000080; font-weight: bold } /* Generic.Prompt */\n",
       ".output_html .gs { font-weight: bold } /* Generic.Strong */\n",
       ".output_html .gu { color: #800080; font-weight: bold } /* Generic.Subheading */\n",
       ".output_html .gt { color: #04D } /* Generic.Traceback */\n",
       ".output_html .kc { color: #008000; font-weight: bold } /* Keyword.Constant */\n",
       ".output_html .kd { color: #008000; font-weight: bold } /* Keyword.Declaration */\n",
       ".output_html .kn { color: #008000; font-weight: bold } /* Keyword.Namespace */\n",
       ".output_html .kp { color: #008000 } /* Keyword.Pseudo */\n",
       ".output_html .kr { color: #008000; font-weight: bold } /* Keyword.Reserved */\n",
       ".output_html .kt { color: #B00040 } /* Keyword.Type */\n",
       ".output_html .m { color: #666 } /* Literal.Number */\n",
       ".output_html .s { color: #BA2121 } /* Literal.String */\n",
       ".output_html .na { color: #687822 } /* Name.Attribute */\n",
       ".output_html .nb { color: #008000 } /* Name.Builtin */\n",
       ".output_html .nc { color: #00F; font-weight: bold } /* Name.Class */\n",
       ".output_html .no { color: #800 } /* Name.Constant */\n",
       ".output_html .nd { color: #A2F } /* Name.Decorator */\n",
       ".output_html .ni { color: #717171; font-weight: bold } /* Name.Entity */\n",
       ".output_html .ne { color: #CB3F38; font-weight: bold } /* Name.Exception */\n",
       ".output_html .nf { color: #00F } /* Name.Function */\n",
       ".output_html .nl { color: #767600 } /* Name.Label */\n",
       ".output_html .nn { color: #00F; font-weight: bold } /* Name.Namespace */\n",
       ".output_html .nt { color: #008000; font-weight: bold } /* Name.Tag */\n",
       ".output_html .nv { color: #19177C } /* Name.Variable */\n",
       ".output_html .ow { color: #A2F; font-weight: bold } /* Operator.Word */\n",
       ".output_html .w { color: #BBB } /* Text.Whitespace */\n",
       ".output_html .mb { color: #666 } /* Literal.Number.Bin */\n",
       ".output_html .mf { color: #666 } /* Literal.Number.Float */\n",
       ".output_html .mh { color: #666 } /* Literal.Number.Hex */\n",
       ".output_html .mi { color: #666 } /* Literal.Number.Integer */\n",
       ".output_html .mo { color: #666 } /* Literal.Number.Oct */\n",
       ".output_html .sa { color: #BA2121 } /* Literal.String.Affix */\n",
       ".output_html .sb { color: #BA2121 } /* Literal.String.Backtick */\n",
       ".output_html .sc { color: #BA2121 } /* Literal.String.Char */\n",
       ".output_html .dl { color: #BA2121 } /* Literal.String.Delimiter */\n",
       ".output_html .sd { color: #BA2121; font-style: italic } /* Literal.String.Doc */\n",
       ".output_html .s2 { color: #BA2121 } /* Literal.String.Double */\n",
       ".output_html .se { color: #AA5D1F; font-weight: bold } /* Literal.String.Escape */\n",
       ".output_html .sh { color: #BA2121 } /* Literal.String.Heredoc */\n",
       ".output_html .si { color: #A45A77; font-weight: bold } /* Literal.String.Interpol */\n",
       ".output_html .sx { color: #008000 } /* Literal.String.Other */\n",
       ".output_html .sr { color: #A45A77 } /* Literal.String.Regex */\n",
       ".output_html .s1 { color: #BA2121 } /* Literal.String.Single */\n",
       ".output_html .ss { color: #19177C } /* Literal.String.Symbol */\n",
       ".output_html .bp { color: #008000 } /* Name.Builtin.Pseudo */\n",
       ".output_html .fm { color: #00F } /* Name.Function.Magic */\n",
       ".output_html .vc { color: #19177C } /* Name.Variable.Class */\n",
       ".output_html .vg { color: #19177C } /* Name.Variable.Global */\n",
       ".output_html .vi { color: #19177C } /* Name.Variable.Instance */\n",
       ".output_html .vm { color: #19177C } /* Name.Variable.Magic */\n",
       ".output_html .il { color: #666 } /* Literal.Number.Integer.Long */</style><div class=\"highlight\"><pre><span></span><span class=\"c1\"># pylint: disable=unused-import</span>\n",
       "<span class=\"c1\"># flake8: noqa</span>\n",
       "\n",
       "<span class=\"c1\"># Import any tools which need to be automatically registered here</span>\n",
       "<span class=\"kn\">from</span><span class=\"w\"> </span><span class=\"nn\">math_tools</span><span class=\"w\"> </span><span class=\"kn\">import</span> <span class=\"n\">math_tools_function</span>\n",
       "</pre></div>\n"
      ],
      "text/latex": [
       "\\begin{Verbatim}[commandchars=\\\\\\{\\}]\n",
       "\\PY{c+c1}{\\PYZsh{} pylint: disable=unused\\PYZhy{}import}\n",
       "\\PY{c+c1}{\\PYZsh{} flake8: noqa}\n",
       "\n",
       "\\PY{c+c1}{\\PYZsh{} Import any tools which need to be automatically registered here}\n",
       "\\PY{k+kn}{from}\\PY{+w}{ }\\PY{n+nn}{math\\PYZus{}tools}\\PY{+w}{ }\\PY{k+kn}{import} \\PY{n}{math\\PYZus{}tools\\PYZus{}function}\n",
       "\\end{Verbatim}\n"
      ],
      "text/plain": [
       "# pylint: disable=unused-import\n",
       "# flake8: noqa\n",
       "\n",
       "# Import any tools which need to be automatically registered here\n",
       "from math_tools import math_tools_function"
      ]
     },
     "metadata": {},
     "output_type": "display_data"
    }
   ],
   "source": [
    "from IPython.display import display, Code\n",
    "\n",
    "with open('workflows/math_tools/src/math_tools/register.py', 'r') as f:\n",
    "    code_content = f.read()\n",
    "\n",
    "display(Code(code_content, language='python'))"
   ]
  },
  {
   "cell_type": "markdown",
   "metadata": {},
   "source": [
    "And let's look at the `math_tools` module that it imports:"
   ]
  },
  {
   "cell_type": "code",
   "execution_count": 14,
   "metadata": {},
   "outputs": [
    {
     "data": {
      "text/html": [
       "<style>pre { line-height: 125%; }\n",
       "td.linenos .normal { color: inherit; background-color: transparent; padding-left: 5px; padding-right: 5px; }\n",
       "span.linenos { color: inherit; background-color: transparent; padding-left: 5px; padding-right: 5px; }\n",
       "td.linenos .special { color: #000000; background-color: #ffffc0; padding-left: 5px; padding-right: 5px; }\n",
       "span.linenos.special { color: #000000; background-color: #ffffc0; padding-left: 5px; padding-right: 5px; }\n",
       ".output_html .hll { background-color: #ffffcc }\n",
       ".output_html { background: #f8f8f8; }\n",
       ".output_html .c { color: #3D7B7B; font-style: italic } /* Comment */\n",
       ".output_html .err { border: 1px solid #F00 } /* Error */\n",
       ".output_html .k { color: #008000; font-weight: bold } /* Keyword */\n",
       ".output_html .o { color: #666 } /* Operator */\n",
       ".output_html .ch { color: #3D7B7B; font-style: italic } /* Comment.Hashbang */\n",
       ".output_html .cm { color: #3D7B7B; font-style: italic } /* Comment.Multiline */\n",
       ".output_html .cp { color: #9C6500 } /* Comment.Preproc */\n",
       ".output_html .cpf { color: #3D7B7B; font-style: italic } /* Comment.PreprocFile */\n",
       ".output_html .c1 { color: #3D7B7B; font-style: italic } /* Comment.Single */\n",
       ".output_html .cs { color: #3D7B7B; font-style: italic } /* Comment.Special */\n",
       ".output_html .gd { color: #A00000 } /* Generic.Deleted */\n",
       ".output_html .ge { font-style: italic } /* Generic.Emph */\n",
       ".output_html .ges { font-weight: bold; font-style: italic } /* Generic.EmphStrong */\n",
       ".output_html .gr { color: #E40000 } /* Generic.Error */\n",
       ".output_html .gh { color: #000080; font-weight: bold } /* Generic.Heading */\n",
       ".output_html .gi { color: #008400 } /* Generic.Inserted */\n",
       ".output_html .go { color: #717171 } /* Generic.Output */\n",
       ".output_html .gp { color: #000080; font-weight: bold } /* Generic.Prompt */\n",
       ".output_html .gs { font-weight: bold } /* Generic.Strong */\n",
       ".output_html .gu { color: #800080; font-weight: bold } /* Generic.Subheading */\n",
       ".output_html .gt { color: #04D } /* Generic.Traceback */\n",
       ".output_html .kc { color: #008000; font-weight: bold } /* Keyword.Constant */\n",
       ".output_html .kd { color: #008000; font-weight: bold } /* Keyword.Declaration */\n",
       ".output_html .kn { color: #008000; font-weight: bold } /* Keyword.Namespace */\n",
       ".output_html .kp { color: #008000 } /* Keyword.Pseudo */\n",
       ".output_html .kr { color: #008000; font-weight: bold } /* Keyword.Reserved */\n",
       ".output_html .kt { color: #B00040 } /* Keyword.Type */\n",
       ".output_html .m { color: #666 } /* Literal.Number */\n",
       ".output_html .s { color: #BA2121 } /* Literal.String */\n",
       ".output_html .na { color: #687822 } /* Name.Attribute */\n",
       ".output_html .nb { color: #008000 } /* Name.Builtin */\n",
       ".output_html .nc { color: #00F; font-weight: bold } /* Name.Class */\n",
       ".output_html .no { color: #800 } /* Name.Constant */\n",
       ".output_html .nd { color: #A2F } /* Name.Decorator */\n",
       ".output_html .ni { color: #717171; font-weight: bold } /* Name.Entity */\n",
       ".output_html .ne { color: #CB3F38; font-weight: bold } /* Name.Exception */\n",
       ".output_html .nf { color: #00F } /* Name.Function */\n",
       ".output_html .nl { color: #767600 } /* Name.Label */\n",
       ".output_html .nn { color: #00F; font-weight: bold } /* Name.Namespace */\n",
       ".output_html .nt { color: #008000; font-weight: bold } /* Name.Tag */\n",
       ".output_html .nv { color: #19177C } /* Name.Variable */\n",
       ".output_html .ow { color: #A2F; font-weight: bold } /* Operator.Word */\n",
       ".output_html .w { color: #BBB } /* Text.Whitespace */\n",
       ".output_html .mb { color: #666 } /* Literal.Number.Bin */\n",
       ".output_html .mf { color: #666 } /* Literal.Number.Float */\n",
       ".output_html .mh { color: #666 } /* Literal.Number.Hex */\n",
       ".output_html .mi { color: #666 } /* Literal.Number.Integer */\n",
       ".output_html .mo { color: #666 } /* Literal.Number.Oct */\n",
       ".output_html .sa { color: #BA2121 } /* Literal.String.Affix */\n",
       ".output_html .sb { color: #BA2121 } /* Literal.String.Backtick */\n",
       ".output_html .sc { color: #BA2121 } /* Literal.String.Char */\n",
       ".output_html .dl { color: #BA2121 } /* Literal.String.Delimiter */\n",
       ".output_html .sd { color: #BA2121; font-style: italic } /* Literal.String.Doc */\n",
       ".output_html .s2 { color: #BA2121 } /* Literal.String.Double */\n",
       ".output_html .se { color: #AA5D1F; font-weight: bold } /* Literal.String.Escape */\n",
       ".output_html .sh { color: #BA2121 } /* Literal.String.Heredoc */\n",
       ".output_html .si { color: #A45A77; font-weight: bold } /* Literal.String.Interpol */\n",
       ".output_html .sx { color: #008000 } /* Literal.String.Other */\n",
       ".output_html .sr { color: #A45A77 } /* Literal.String.Regex */\n",
       ".output_html .s1 { color: #BA2121 } /* Literal.String.Single */\n",
       ".output_html .ss { color: #19177C } /* Literal.String.Symbol */\n",
       ".output_html .bp { color: #008000 } /* Name.Builtin.Pseudo */\n",
       ".output_html .fm { color: #00F } /* Name.Function.Magic */\n",
       ".output_html .vc { color: #19177C } /* Name.Variable.Class */\n",
       ".output_html .vg { color: #19177C } /* Name.Variable.Global */\n",
       ".output_html .vi { color: #19177C } /* Name.Variable.Instance */\n",
       ".output_html .vm { color: #19177C } /* Name.Variable.Magic */\n",
       ".output_html .il { color: #666 } /* Literal.Number.Integer.Long */</style><div class=\"highlight\"><pre><span></span><span class=\"kn\">import</span><span class=\"w\"> </span><span class=\"nn\">logging</span>\n",
       "\n",
       "<span class=\"kn\">from</span><span class=\"w\"> </span><span class=\"nn\">pydantic</span><span class=\"w\"> </span><span class=\"kn\">import</span> <span class=\"n\">Field</span>\n",
       "\n",
       "<span class=\"kn\">from</span><span class=\"w\"> </span><span class=\"nn\">aiq.builder.builder</span><span class=\"w\"> </span><span class=\"kn\">import</span> <span class=\"n\">Builder</span>\n",
       "<span class=\"kn\">from</span><span class=\"w\"> </span><span class=\"nn\">aiq.builder.function_info</span><span class=\"w\"> </span><span class=\"kn\">import</span> <span class=\"n\">FunctionInfo</span>\n",
       "<span class=\"kn\">from</span><span class=\"w\"> </span><span class=\"nn\">aiq.cli.register_workflow</span><span class=\"w\"> </span><span class=\"kn\">import</span> <span class=\"n\">register_function</span>\n",
       "<span class=\"kn\">from</span><span class=\"w\"> </span><span class=\"nn\">aiq.data_models.function</span><span class=\"w\"> </span><span class=\"kn\">import</span> <span class=\"n\">FunctionBaseConfig</span>\n",
       "\n",
       "<span class=\"n\">logger</span> <span class=\"o\">=</span> <span class=\"n\">logging</span><span class=\"o\">.</span><span class=\"n\">getLogger</span><span class=\"p\">(</span><span class=\"vm\">__name__</span><span class=\"p\">)</span>\n",
       "\n",
       "\n",
       "<span class=\"k\">class</span><span class=\"w\"> </span><span class=\"nc\">MathToolsFunctionConfig</span><span class=\"p\">(</span><span class=\"n\">FunctionBaseConfig</span><span class=\"p\">,</span> <span class=\"n\">name</span><span class=\"o\">=</span><span class=\"s2\">&quot;math_tools&quot;</span><span class=\"p\">):</span>\n",
       "<span class=\"w\">    </span><span class=\"sd\">&quot;&quot;&quot;</span>\n",
       "<span class=\"sd\">    AIQ Toolkit function template. Please update the description.</span>\n",
       "<span class=\"sd\">    &quot;&quot;&quot;</span>\n",
       "    <span class=\"c1\"># Add your custom configuration parameters here</span>\n",
       "    <span class=\"n\">parameter</span><span class=\"p\">:</span> <span class=\"nb\">str</span> <span class=\"o\">=</span> <span class=\"n\">Field</span><span class=\"p\">(</span><span class=\"n\">default</span><span class=\"o\">=</span><span class=\"s2\">&quot;default_value&quot;</span><span class=\"p\">,</span> <span class=\"n\">description</span><span class=\"o\">=</span><span class=\"s2\">&quot;Notional description for this parameter&quot;</span><span class=\"p\">)</span>\n",
       "\n",
       "\n",
       "<span class=\"nd\">@register_function</span><span class=\"p\">(</span><span class=\"n\">config_type</span><span class=\"o\">=</span><span class=\"n\">MathToolsFunctionConfig</span><span class=\"p\">)</span>\n",
       "<span class=\"k\">async</span> <span class=\"k\">def</span><span class=\"w\"> </span><span class=\"nf\">math_tools_function</span><span class=\"p\">(</span>\n",
       "    <span class=\"n\">config</span><span class=\"p\">:</span> <span class=\"n\">MathToolsFunctionConfig</span><span class=\"p\">,</span> <span class=\"n\">builder</span><span class=\"p\">:</span> <span class=\"n\">Builder</span>\n",
       "<span class=\"p\">):</span>\n",
       "    <span class=\"c1\"># Implement your function logic here</span>\n",
       "    <span class=\"k\">async</span> <span class=\"k\">def</span><span class=\"w\"> </span><span class=\"nf\">_response_fn</span><span class=\"p\">(</span><span class=\"n\">input_message</span><span class=\"p\">:</span> <span class=\"nb\">str</span><span class=\"p\">)</span> <span class=\"o\">-&gt;</span> <span class=\"nb\">str</span><span class=\"p\">:</span>\n",
       "        <span class=\"c1\"># Process the input_message and generate output</span>\n",
       "        <span class=\"n\">output_message</span> <span class=\"o\">=</span> <span class=\"sa\">f</span><span class=\"s2\">&quot;Hello from math_tools workflow! You said: </span><span class=\"si\">{</span><span class=\"n\">input_message</span><span class=\"si\">}</span><span class=\"s2\">&quot;</span>\n",
       "        <span class=\"k\">return</span> <span class=\"n\">output_message</span>\n",
       "\n",
       "    <span class=\"k\">try</span><span class=\"p\">:</span>\n",
       "        <span class=\"k\">yield</span> <span class=\"n\">FunctionInfo</span><span class=\"o\">.</span><span class=\"n\">create</span><span class=\"p\">(</span><span class=\"n\">single_fn</span><span class=\"o\">=</span><span class=\"n\">_response_fn</span><span class=\"p\">)</span>\n",
       "    <span class=\"k\">except</span> <span class=\"ne\">GeneratorExit</span><span class=\"p\">:</span>\n",
       "        <span class=\"nb\">print</span><span class=\"p\">(</span><span class=\"s2\">&quot;Function exited early!&quot;</span><span class=\"p\">)</span>\n",
       "    <span class=\"k\">finally</span><span class=\"p\">:</span>\n",
       "        <span class=\"nb\">print</span><span class=\"p\">(</span><span class=\"s2\">&quot;Cleaning up math_tools workflow.&quot;</span><span class=\"p\">)</span>\n",
       "</pre></div>\n"
      ],
      "text/latex": [
       "\\begin{Verbatim}[commandchars=\\\\\\{\\}]\n",
       "\\PY{k+kn}{import}\\PY{+w}{ }\\PY{n+nn}{logging}\n",
       "\n",
       "\\PY{k+kn}{from}\\PY{+w}{ }\\PY{n+nn}{pydantic}\\PY{+w}{ }\\PY{k+kn}{import} \\PY{n}{Field}\n",
       "\n",
       "\\PY{k+kn}{from}\\PY{+w}{ }\\PY{n+nn}{aiq}\\PY{n+nn}{.}\\PY{n+nn}{builder}\\PY{n+nn}{.}\\PY{n+nn}{builder}\\PY{+w}{ }\\PY{k+kn}{import} \\PY{n}{Builder}\n",
       "\\PY{k+kn}{from}\\PY{+w}{ }\\PY{n+nn}{aiq}\\PY{n+nn}{.}\\PY{n+nn}{builder}\\PY{n+nn}{.}\\PY{n+nn}{function\\PYZus{}info}\\PY{+w}{ }\\PY{k+kn}{import} \\PY{n}{FunctionInfo}\n",
       "\\PY{k+kn}{from}\\PY{+w}{ }\\PY{n+nn}{aiq}\\PY{n+nn}{.}\\PY{n+nn}{cli}\\PY{n+nn}{.}\\PY{n+nn}{register\\PYZus{}workflow}\\PY{+w}{ }\\PY{k+kn}{import} \\PY{n}{register\\PYZus{}function}\n",
       "\\PY{k+kn}{from}\\PY{+w}{ }\\PY{n+nn}{aiq}\\PY{n+nn}{.}\\PY{n+nn}{data\\PYZus{}models}\\PY{n+nn}{.}\\PY{n+nn}{function}\\PY{+w}{ }\\PY{k+kn}{import} \\PY{n}{FunctionBaseConfig}\n",
       "\n",
       "\\PY{n}{logger} \\PY{o}{=} \\PY{n}{logging}\\PY{o}{.}\\PY{n}{getLogger}\\PY{p}{(}\\PY{n+nv+vm}{\\PYZus{}\\PYZus{}name\\PYZus{}\\PYZus{}}\\PY{p}{)}\n",
       "\n",
       "\n",
       "\\PY{k}{class}\\PY{+w}{ }\\PY{n+nc}{MathToolsFunctionConfig}\\PY{p}{(}\\PY{n}{FunctionBaseConfig}\\PY{p}{,} \\PY{n}{name}\\PY{o}{=}\\PY{l+s+s2}{\\PYZdq{}}\\PY{l+s+s2}{math\\PYZus{}tools}\\PY{l+s+s2}{\\PYZdq{}}\\PY{p}{)}\\PY{p}{:}\n",
       "\\PY{+w}{    }\\PY{l+s+sd}{\\PYZdq{}\\PYZdq{}\\PYZdq{}}\n",
       "\\PY{l+s+sd}{    AIQ Toolkit function template. Please update the description.}\n",
       "\\PY{l+s+sd}{    \\PYZdq{}\\PYZdq{}\\PYZdq{}}\n",
       "    \\PY{c+c1}{\\PYZsh{} Add your custom configuration parameters here}\n",
       "    \\PY{n}{parameter}\\PY{p}{:} \\PY{n+nb}{str} \\PY{o}{=} \\PY{n}{Field}\\PY{p}{(}\\PY{n}{default}\\PY{o}{=}\\PY{l+s+s2}{\\PYZdq{}}\\PY{l+s+s2}{default\\PYZus{}value}\\PY{l+s+s2}{\\PYZdq{}}\\PY{p}{,} \\PY{n}{description}\\PY{o}{=}\\PY{l+s+s2}{\\PYZdq{}}\\PY{l+s+s2}{Notional description for this parameter}\\PY{l+s+s2}{\\PYZdq{}}\\PY{p}{)}\n",
       "\n",
       "\n",
       "\\PY{n+nd}{@register\\PYZus{}function}\\PY{p}{(}\\PY{n}{config\\PYZus{}type}\\PY{o}{=}\\PY{n}{MathToolsFunctionConfig}\\PY{p}{)}\n",
       "\\PY{k}{async} \\PY{k}{def}\\PY{+w}{ }\\PY{n+nf}{math\\PYZus{}tools\\PYZus{}function}\\PY{p}{(}\n",
       "    \\PY{n}{config}\\PY{p}{:} \\PY{n}{MathToolsFunctionConfig}\\PY{p}{,} \\PY{n}{builder}\\PY{p}{:} \\PY{n}{Builder}\n",
       "\\PY{p}{)}\\PY{p}{:}\n",
       "    \\PY{c+c1}{\\PYZsh{} Implement your function logic here}\n",
       "    \\PY{k}{async} \\PY{k}{def}\\PY{+w}{ }\\PY{n+nf}{\\PYZus{}response\\PYZus{}fn}\\PY{p}{(}\\PY{n}{input\\PYZus{}message}\\PY{p}{:} \\PY{n+nb}{str}\\PY{p}{)} \\PY{o}{\\PYZhy{}}\\PY{o}{\\PYZgt{}} \\PY{n+nb}{str}\\PY{p}{:}\n",
       "        \\PY{c+c1}{\\PYZsh{} Process the input\\PYZus{}message and generate output}\n",
       "        \\PY{n}{output\\PYZus{}message} \\PY{o}{=} \\PY{l+s+sa}{f}\\PY{l+s+s2}{\\PYZdq{}}\\PY{l+s+s2}{Hello from math\\PYZus{}tools workflow! You said: }\\PY{l+s+si}{\\PYZob{}}\\PY{n}{input\\PYZus{}message}\\PY{l+s+si}{\\PYZcb{}}\\PY{l+s+s2}{\\PYZdq{}}\n",
       "        \\PY{k}{return} \\PY{n}{output\\PYZus{}message}\n",
       "\n",
       "    \\PY{k}{try}\\PY{p}{:}\n",
       "        \\PY{k}{yield} \\PY{n}{FunctionInfo}\\PY{o}{.}\\PY{n}{create}\\PY{p}{(}\\PY{n}{single\\PYZus{}fn}\\PY{o}{=}\\PY{n}{\\PYZus{}response\\PYZus{}fn}\\PY{p}{)}\n",
       "    \\PY{k}{except} \\PY{n+ne}{GeneratorExit}\\PY{p}{:}\n",
       "        \\PY{n+nb}{print}\\PY{p}{(}\\PY{l+s+s2}{\\PYZdq{}}\\PY{l+s+s2}{Function exited early!}\\PY{l+s+s2}{\\PYZdq{}}\\PY{p}{)}\n",
       "    \\PY{k}{finally}\\PY{p}{:}\n",
       "        \\PY{n+nb}{print}\\PY{p}{(}\\PY{l+s+s2}{\\PYZdq{}}\\PY{l+s+s2}{Cleaning up math\\PYZus{}tools workflow.}\\PY{l+s+s2}{\\PYZdq{}}\\PY{p}{)}\n",
       "\\end{Verbatim}\n"
      ],
      "text/plain": [
       "import logging\n",
       "\n",
       "from pydantic import Field\n",
       "\n",
       "from aiq.builder.builder import Builder\n",
       "from aiq.builder.function_info import FunctionInfo\n",
       "from aiq.cli.register_workflow import register_function\n",
       "from aiq.data_models.function import FunctionBaseConfig\n",
       "\n",
       "logger = logging.getLogger(__name__)\n",
       "\n",
       "\n",
       "class MathToolsFunctionConfig(FunctionBaseConfig, name=\"math_tools\"):\n",
       "    \"\"\"\n",
       "    AIQ Toolkit function template. Please update the description.\n",
       "    \"\"\"\n",
       "    # Add your custom configuration parameters here\n",
       "    parameter: str = Field(default=\"default_value\", description=\"Notional description for this parameter\")\n",
       "\n",
       "\n",
       "@register_function(config_type=MathToolsFunctionConfig)\n",
       "async def math_tools_function(\n",
       "    config: MathToolsFunctionConfig, builder: Builder\n",
       "):\n",
       "    # Implement your function logic here\n",
       "    async def _response_fn(input_message: str) -> str:\n",
       "        # Process the input_message and generate output\n",
       "        output_message = f\"Hello from math_tools workflow! You said: {input_message}\"\n",
       "        return output_message\n",
       "\n",
       "    try:\n",
       "        yield FunctionInfo.create(single_fn=_response_fn)\n",
       "    except GeneratorExit:\n",
       "        print(\"Function exited early!\")\n",
       "    finally:\n",
       "        print(\"Cleaning up math_tools workflow.\")"
      ]
     },
     "metadata": {},
     "output_type": "display_data"
    }
   ],
   "source": [
    "from IPython.display import display, Code\n",
    "\n",
    "with open('workflows/math_tools/src/math_tools/math_tools_function.py', 'r') as f:\n",
    "    code_content = f.read()\n",
    "\n",
    "display(Code(code_content, language='python'))"
   ]
  },
  {
   "cell_type": "markdown",
   "metadata": {},
   "source": [
    "As you can see, it doesn't do anything yet, but we can install it to ensure that AgentIQ is able to see our custom components."
   ]
  },
  {
   "cell_type": "markdown",
   "metadata": {},
   "source": [
    "### 3. Installing the Workflow\n",
    "\n",
    "We'll install our workflow package using pip. This makes our custom components available to AgentIQ."
   ]
  },
  {
   "cell_type": "code",
   "execution_count": 15,
   "metadata": {
    "scrolled": true
   },
   "outputs": [
    {
     "name": "stdout",
     "output_type": "stream",
     "text": [
      "Obtaining file:///dli/task/workflows/math_tools\n",
      "  Installing build dependencies ... \u001b[?2done\n",
      "\u001b[?25h  Checking if build backend supports build_editable ... \u001b[?25ldone\n",
      "\u001b[?25h  Getting requirements to build editable ... \u001b[?25ldone\n",
      "\u001b[?25h  Preparing editable metadata (pyproject.toml) ... \u001b[?25ldone\n",
      "\u001b[?25hRequirement already satisfied: agentiq[langchain] in /usr/local/lib/python3.12/site-packages (from math_tools==0.1.0) (1.1.0)\n",
      "\u001b[33mWARNING: agentiq 1.1.0 does not provide the extra 'langchain'\u001b[0m\u001b[33m\n",
      "\u001b[0mRequirement already satisfied: aiqtoolkit==v1.1.0 in /usr/local/lib/python3.12/site-packages (from agentiq[langchain]->math_tools==0.1.0) (1.1.0)\n",
      "Requirement already satisfied: aioboto3>=11.0.0 in /usr/local/lib/python3.12/site-packages (from aiqtoolkit==v1.1.0->agentiq[langchain]->math_tools==0.1.0) (14.3.0)\n",
      "Requirement already satisfied: click~=8.1 in /usr/local/lib/python3.12/site-packages (from aiqtoolkit==v1.1.0->agentiq[langchain]->math_tools==0.1.0) (8.2.1)\n",
      "Requirement already satisfied: colorama~=0.4.6 in /usr/local/lib/python3.12/site-packages (from aiqtoolkit==v1.1.0->agentiq[langchain]->math_tools==0.1.0) (0.4.6)\n",
      "Requirement already satisfied: expandvars~=1.0 in /usr/local/lib/python3.12/site-packages (from aiqtoolkit==v1.1.0->agentiq[langchain]->math_tools==0.1.0) (1.0.0)\n",
      "Requirement already satisfied: fastapi~=0.115.5 in /usr/local/lib/python3.12/site-packages (from aiqtoolkit==v1.1.0->agentiq[langchain]->math_tools==0.1.0) (0.115.9)\n",
      "Requirement already satisfied: httpx~=0.27 in /usr/local/lib/python3.12/site-packages (from aiqtoolkit==v1.1.0->agentiq[langchain]->math_tools==0.1.0) (0.28.1)\n",
      "Requirement already satisfied: jinja2~=3.1 in /usr/local/lib/python3.12/site-packages (from aiqtoolkit==v1.1.0->agentiq[langchain]->math_tools==0.1.0) (3.1.6)\n",
      "Requirement already satisfied: jsonpath-ng~=1.7 in /usr/local/lib/python3.12/site-packages (from aiqtoolkit==v1.1.0->agentiq[langchain]->math_tools==0.1.0) (1.7.0)\n",
      "Requirement already satisfied: mcp>=1.0.0 in /usr/local/lib/python3.12/site-packages (from aiqtoolkit==v1.1.0->agentiq[langchain]->math_tools==0.1.0) (1.9.3)\n",
      "Requirement already satisfied: networkx~=3.4 in /usr/local/lib/python3.12/site-packages (from aiqtoolkit==v1.1.0->agentiq[langchain]->math_tools==0.1.0) (3.5)\n",
      "Requirement already satisfied: numpy~=1.26 in /usr/local/lib/python3.12/site-packages (from aiqtoolkit==v1.1.0->agentiq[langchain]->math_tools==0.1.0) (1.26.4)\n",
      "Requirement already satisfied: openinference-semantic-conventions~=0.1.14 in /usr/local/lib/python3.12/site-packages (from aiqtoolkit==v1.1.0->agentiq[langchain]->math_tools==0.1.0) (0.1.20)\n",
      "Requirement already satisfied: openpyxl~=3.1 in /usr/local/lib/python3.12/site-packages (from aiqtoolkit==v1.1.0->agentiq[langchain]->math_tools==0.1.0) (3.1.5)\n",
      "Requirement already satisfied: pkginfo~=1.12 in /usr/local/lib/python3.12/site-packages (from aiqtoolkit==v1.1.0->agentiq[langchain]->math_tools==0.1.0) (1.12.1.2)\n",
      "Requirement already satisfied: platformdirs~=4.3 in /usr/local/lib/python3.12/site-packages (from aiqtoolkit==v1.1.0->agentiq[langchain]->math_tools==0.1.0) (4.3.8)\n",
      "Requirement already satisfied: pydantic==2.10.* in /usr/local/lib/python3.12/site-packages (from aiqtoolkit==v1.1.0->agentiq[langchain]->math_tools==0.1.0) (2.10.6)\n",
      "Requirement already satisfied: pymilvus~=2.4 in /usr/local/lib/python3.12/site-packages (from aiqtoolkit==v1.1.0->agentiq[langchain]->math_tools==0.1.0) (2.5.11)\n",
      "Requirement already satisfied: PyYAML~=6.0 in /usr/local/lib/python3.12/site-packages (from aiqtoolkit==v1.1.0->agentiq[langchain]->math_tools==0.1.0) (6.0.2)\n",
      "Requirement already satisfied: ragas~=0.2.14 in /usr/local/lib/python3.12/site-packages (from aiqtoolkit==v1.1.0->agentiq[langchain]->math_tools==0.1.0) (0.2.15)\n",
      "Requirement already satisfied: rich~=13.9 in /usr/local/lib/python3.12/site-packages (from aiqtoolkit==v1.1.0->agentiq[langchain]->math_tools==0.1.0) (13.9.4)\n",
      "Requirement already satisfied: uvicorn~=0.32.0 in /usr/local/lib/python3.12/site-packages (from uvicorn[standard]~=0.32.0->aiqtoolkit==v1.1.0->agentiq[langchain]->math_tools==0.1.0) (0.32.1)\n",
      "Requirement already satisfied: wikipedia~=1.4 in /usr/local/lib/python3.12/site-packages (from aiqtoolkit==v1.1.0->agentiq[langchain]->math_tools==0.1.0) (1.4.0)\n",
      "Requirement already satisfied: annotated-types>=0.6.0 in /usr/local/lib/python3.12/site-packages (from pydantic==2.10.*->aiqtoolkit==v1.1.0->agentiq[langchain]->math_tools==0.1.0) (0.7.0)\n",
      "Requirement already satisfied: pydantic-core==2.27.2 in /usr/local/lib/python3.12/site-packages (from pydantic==2.10.*->aiqtoolkit==v1.1.0->agentiq[langchain]->math_tools==0.1.0) (2.27.2)\n",
      "Requirement already satisfied: typing-extensions>=4.12.2 in /usr/local/lib/python3.12/site-packages (from pydantic==2.10.*->aiqtoolkit==v1.1.0->agentiq[langchain]->math_tools==0.1.0) (4.14.0)\n",
      "Requirement already satisfied: aiobotocore==2.22.0 in /usr/local/lib/python3.12/site-packages (from aiobotocore[boto3]==2.22.0->aioboto3>=11.0.0->aiqtoolkit==v1.1.0->agentiq[langchain]->math_tools==0.1.0) (2.22.0)\n",
      "Requirement already satisfied: aiofiles>=23.2.1 in /usr/local/lib/python3.12/site-packages (from aioboto3>=11.0.0->aiqtoolkit==v1.1.0->agentiq[langchain]->math_tools==0.1.0) (24.1.0)\n",
      "Requirement already satisfied: aiohttp<4.0.0,>=3.9.2 in /usr/local/lib/python3.12/site-packages (from aiobotocore==2.22.0->aiobotocore[boto3]==2.22.0->aioboto3>=11.0.0->aiqtoolkit==v1.1.0->agentiq[langchain]->math_tools==0.1.0) (3.12.12)\n",
      "Requirement already satisfied: aioitertools<1.0.0,>=0.5.1 in /usr/local/lib/python3.12/site-packages (from aiobotocore==2.22.0->aiobotocore[boto3]==2.22.0->aioboto3>=11.0.0->aiqtoolkit==v1.1.0->agentiq[langchain]->math_tools==0.1.0) (0.12.0)\n",
      "Requirement already satisfied: botocore<1.37.4,>=1.37.2 in /usr/local/lib/python3.12/site-packages (from aiobotocore==2.22.0->aiobotocore[boto3]==2.22.0->aioboto3>=11.0.0->aiqtoolkit==v1.1.0->agentiq[langchain]->math_tools==0.1.0) (1.37.3)\n",
      "Requirement already satisfied: python-dateutil<3.0.0,>=2.1 in /usr/local/lib/python3.12/site-packages (from aiobotocore==2.22.0->aiobotocore[boto3]==2.22.0->aioboto3>=11.0.0->aiqtoolkit==v1.1.0->agentiq[langchain]->math_tools==0.1.0) (2.9.0.post0)\n",
      "Requirement already satisfied: jmespath<2.0.0,>=0.7.1 in /usr/local/lib/python3.12/site-packages (from aiobotocore==2.22.0->aiobotocore[boto3]==2.22.0->aioboto3>=11.0.0->aiqtoolkit==v1.1.0->agentiq[langchain]->math_tools==0.1.0) (1.0.1)\n",
      "Requirement already satisfied: multidict<7.0.0,>=6.0.0 in /usr/local/lib/python3.12/site-packages (from aiobotocore==2.22.0->aiobotocore[boto3]==2.22.0->aioboto3>=11.0.0->aiqtoolkit==v1.1.0->agentiq[langchain]->math_tools==0.1.0) (6.4.4)\n",
      "Requirement already satisfied: wrapt<2.0.0,>=1.10.10 in /usr/local/lib/python3.12/site-packages (from aiobotocore==2.22.0->aiobotocore[boto3]==2.22.0->aioboto3>=11.0.0->aiqtoolkit==v1.1.0->agentiq[langchain]->math_tools==0.1.0) (1.17.2)\n",
      "Requirement already satisfied: boto3<1.37.4,>=1.37.2 in /usr/local/lib/python3.12/site-packages (from aiobotocore[boto3]==2.22.0->aioboto3>=11.0.0->aiqtoolkit==v1.1.0->agentiq[langchain]->math_tools==0.1.0) (1.37.3)\n",
      "Requirement already satisfied: starlette<0.46.0,>=0.40.0 in /usr/local/lib/python3.12/site-packages (from fastapi~=0.115.5->aiqtoolkit==v1.1.0->agentiq[langchain]->math_tools==0.1.0) (0.45.3)\n",
      "Requirement already satisfied: anyio in /usr/local/lib/python3.12/site-packages (from httpx~=0.27->aiqtoolkit==v1.1.0->agentiq[langchain]->math_tools==0.1.0) (4.9.0)\n",
      "Requirement already satisfied: certifi in /usr/local/lib/python3.12/site-packages (from httpx~=0.27->aiqtoolkit==v1.1.0->agentiq[langchain]->math_tools==0.1.0) (2025.4.26)\n",
      "Requirement already satisfied: httpcore==1.* in /usr/local/lib/python3.12/site-packages (from httpx~=0.27->aiqtoolkit==v1.1.0->agentiq[langchain]->math_tools==0.1.0) (1.0.9)\n",
      "Requirement already satisfied: idna in /usr/local/lib/python3.12/site-packages (from httpx~=0.27->aiqtoolkit==v1.1.0->agentiq[langchain]->math_tools==0.1.0) (3.10)\n",
      "Requirement already satisfied: h11>=0.16 in /usr/local/lib/python3.12/site-packages (from httpcore==1.*->httpx~=0.27->aiqtoolkit==v1.1.0->agentiq[langchain]->math_tools==0.1.0) (0.16.0)\n",
      "Requirement already satisfied: MarkupSafe>=2.0 in /usr/local/lib/python3.12/site-packages (from jinja2~=3.1->aiqtoolkit==v1.1.0->agentiq[langchain]->math_tools==0.1.0) (3.0.2)\n",
      "Requirement already satisfied: ply in /usr/local/lib/python3.12/site-packages (from jsonpath-ng~=1.7->aiqtoolkit==v1.1.0->agentiq[langchain]->math_tools==0.1.0) (3.11)\n",
      "Requirement already satisfied: httpx-sse>=0.4 in /usr/local/lib/python3.12/site-packages (from mcp>=1.0.0->aiqtoolkit==v1.1.0->agentiq[langchain]->math_tools==0.1.0) (0.4.0)\n",
      "Requirement already satisfied: pydantic-settings>=2.5.2 in /usr/local/lib/python3.12/site-packages (from mcp>=1.0.0->aiqtoolkit==v1.1.0->agentiq[langchain]->math_tools==0.1.0) (2.9.1)\n",
      "Requirement already satisfied: python-multipart>=0.0.9 in /usr/local/lib/python3.12/site-packages (from mcp>=1.0.0->aiqtoolkit==v1.1.0->agentiq[langchain]->math_tools==0.1.0) (0.0.20)\n",
      "Requirement already satisfied: sse-starlette>=1.6.1 in /usr/local/lib/python3.12/site-packages (from mcp>=1.0.0->aiqtoolkit==v1.1.0->agentiq[langchain]->math_tools==0.1.0) (2.3.6)\n",
      "Requirement already satisfied: et-xmlfile in /usr/local/lib/python3.12/site-packages (from openpyxl~=3.1->aiqtoolkit==v1.1.0->agentiq[langchain]->math_tools==0.1.0) (2.0.0)\n",
      "Requirement already satisfied: setuptools>69 in /usr/local/lib/python3.12/site-packages (from pymilvus~=2.4->aiqtoolkit==v1.1.0->agentiq[langchain]->math_tools==0.1.0) (80.9.0)\n",
      "Requirement already satisfied: grpcio<=1.67.1,>=1.49.1 in /usr/local/lib/python3.12/site-packages (from pymilvus~=2.4->aiqtoolkit==v1.1.0->agentiq[langchain]->math_tools==0.1.0) (1.67.1)\n",
      "Requirement already satisfied: protobuf>=3.20.0 in /usr/local/lib/python3.12/site-packages (from pymilvus~=2.4->aiqtoolkit==v1.1.0->agentiq[langchain]->math_tools==0.1.0) (5.29.5)\n",
      "Requirement already satisfied: python-dotenv<2.0.0,>=1.0.1 in /usr/local/lib/python3.12/site-packages (from pymilvus~=2.4->aiqtoolkit==v1.1.0->agentiq[langchain]->math_tools==0.1.0) (1.1.0)\n",
      "Requirement already satisfied: ujson>=2.0.0 in /usr/local/lib/python3.12/site-packages (from pymilvus~=2.4->aiqtoolkit==v1.1.0->agentiq[langchain]->math_tools==0.1.0) (5.10.0)\n",
      "Requirement already satisfied: pandas>=1.2.4 in /usr/local/lib/python3.12/site-packages (from pymilvus~=2.4->aiqtoolkit==v1.1.0->agentiq[langchain]->math_tools==0.1.0) (2.2.3)\n",
      "Requirement already satisfied: milvus-lite>=2.4.0 in /usr/local/lib/python3.12/site-packages (from pymilvus~=2.4->aiqtoolkit==v1.1.0->agentiq[langchain]->math_tools==0.1.0) (2.4.12)\n",
      "Requirement already satisfied: datasets in /usr/local/lib/python3.12/site-packages (from ragas~=0.2.14->aiqtoolkit==v1.1.0->agentiq[langchain]->math_tools==0.1.0) (2.14.4)\n",
      "Requirement already satisfied: tiktoken in /usr/local/lib/python3.12/site-packages (from ragas~=0.2.14->aiqtoolkit==v1.1.0->agentiq[langchain]->math_tools==0.1.0) (0.9.0)\n",
      "Requirement already satisfied: langchain in /usr/local/lib/python3.12/site-packages (from ragas~=0.2.14->aiqtoolkit==v1.1.0->agentiq[langchain]->math_tools==0.1.0) (0.3.25)\n",
      "Requirement already satisfied: langchain-core in /usr/local/lib/python3.12/site-packages (from ragas~=0.2.14->aiqtoolkit==v1.1.0->agentiq[langchain]->math_tools==0.1.0) (0.3.65)\n",
      "Requirement already satisfied: langchain-community in /usr/local/lib/python3.12/site-packages (from ragas~=0.2.14->aiqtoolkit==v1.1.0->agentiq[langchain]->math_tools==0.1.0) (0.3.24)\n",
      "Requirement already satisfied: langchain_openai in /usr/local/lib/python3.12/site-packages (from ragas~=0.2.14->aiqtoolkit==v1.1.0->agentiq[langchain]->math_tools==0.1.0) (0.2.14)\n",
      "Requirement already satisfied: nest-asyncio in /usr/local/lib/python3.12/site-packages (from ragas~=0.2.14->aiqtoolkit==v1.1.0->agentiq[langchain]->math_tools==0.1.0) (1.6.0)\n",
      "Requirement already satisfied: appdirs in /usr/local/lib/python3.12/site-packages (from ragas~=0.2.14->aiqtoolkit==v1.1.0->agentiq[langchain]->math_tools==0.1.0) (1.4.4)\n",
      "Requirement already satisfied: openai>1 in /usr/local/lib/python3.12/site-packages (from ragas~=0.2.14->aiqtoolkit==v1.1.0->agentiq[langchain]->math_tools==0.1.0) (1.66.3)\n",
      "Requirement already satisfied: diskcache>=5.6.3 in /usr/local/lib/python3.12/site-packages (from ragas~=0.2.14->aiqtoolkit==v1.1.0->agentiq[langchain]->math_tools==0.1.0) (5.6.3)\n",
      "Requirement already satisfied: markdown-it-py>=2.2.0 in /usr/local/lib/python3.12/site-packages (from rich~=13.9->aiqtoolkit==v1.1.0->agentiq[langchain]->math_tools==0.1.0) (3.0.0)\n",
      "Requirement already satisfied: pygments<3.0.0,>=2.13.0 in /usr/local/lib/python3.12/site-packages (from rich~=13.9->aiqtoolkit==v1.1.0->agentiq[langchain]->math_tools==0.1.0) (2.19.1)\n",
      "Requirement already satisfied: httptools>=0.6.3 in /usr/local/lib/python3.12/site-packages (from uvicorn[standard]~=0.32.0->aiqtoolkit==v1.1.0->agentiq[langchain]->math_tools==0.1.0) (0.6.4)\n",
      "Requirement already satisfied: uvloop!=0.15.0,!=0.15.1,>=0.14.0 in /usr/local/lib/python3.12/site-packages (from uvicorn[standard]~=0.32.0->aiqtoolkit==v1.1.0->agentiq[langchain]->math_tools==0.1.0) (0.21.0)\n",
      "Requirement already satisfied: watchfiles>=0.13 in /usr/local/lib/python3.12/site-packages (from uvicorn[standard]~=0.32.0->aiqtoolkit==v1.1.0->agentiq[langchain]->math_tools==0.1.0) (1.0.5)\n",
      "Requirement already satisfied: websockets>=10.4 in /usr/local/lib/python3.12/site-packages (from uvicorn[standard]~=0.32.0->aiqtoolkit==v1.1.0->agentiq[langchain]->math_tools==0.1.0) (15.0.1)\n",
      "Requirement already satisfied: beautifulsoup4 in /usr/local/lib/python3.12/site-packages (from wikipedia~=1.4->aiqtoolkit==v1.1.0->agentiq[langchain]->math_tools==0.1.0) (4.13.4)\n",
      "Requirement already satisfied: requests<3.0.0,>=2.0.0 in /usr/local/lib/python3.12/site-packages (from wikipedia~=1.4->aiqtoolkit==v1.1.0->agentiq[langchain]->math_tools==0.1.0) (2.32.3)\n",
      "Requirement already satisfied: sniffio>=1.1 in /usr/local/lib/python3.12/site-packages (from anyio->httpx~=0.27->aiqtoolkit==v1.1.0->agentiq[langchain]->math_tools==0.1.0) (1.3.1)\n",
      "Requirement already satisfied: mdurl~=0.1 in /usr/local/lib/python3.12/site-packages (from markdown-it-py>=2.2.0->rich~=13.9->aiqtoolkit==v1.1.0->agentiq[langchain]->math_tools==0.1.0) (0.1.2)\n",
      "Requirement already satisfied: tqdm in /usr/local/lib/python3.12/site-packages (from milvus-lite>=2.4.0->pymilvus~=2.4->aiqtoolkit==v1.1.0->agentiq[langchain]->math_tools==0.1.0) (4.67.1)\n",
      "Requirement already satisfied: distro<2,>=1.7.0 in /usr/local/lib/python3.12/site-packages (from openai>1->ragas~=0.2.14->aiqtoolkit==v1.1.0->agentiq[langchain]->math_tools==0.1.0) (1.9.0)\n",
      "Requirement already satisfied: jiter<1,>=0.4.0 in /usr/local/lib/python3.12/site-packages (from openai>1->ragas~=0.2.14->aiqtoolkit==v1.1.0->agentiq[langchain]->math_tools==0.1.0) (0.8.2)\n",
      "Requirement already satisfied: pytz>=2020.1 in /usr/local/lib/python3.12/site-packages (from pandas>=1.2.4->pymilvus~=2.4->aiqtoolkit==v1.1.0->agentiq[langchain]->math_tools==0.1.0) (2025.2)\n",
      "Requirement already satisfied: tzdata>=2022.7 in /usr/local/lib/python3.12/site-packages (from pandas>=1.2.4->pymilvus~=2.4->aiqtoolkit==v1.1.0->agentiq[langchain]->math_tools==0.1.0) (2025.2)\n",
      "Requirement already satisfied: typing-inspection>=0.4.0 in /usr/local/lib/python3.12/site-packages (from pydantic-settings>=2.5.2->mcp>=1.0.0->aiqtoolkit==v1.1.0->agentiq[langchain]->math_tools==0.1.0) (0.4.1)\n",
      "Requirement already satisfied: charset-normalizer<4,>=2 in /usr/local/lib/python3.12/site-packages (from requests<3.0.0,>=2.0.0->wikipedia~=1.4->aiqtoolkit==v1.1.0->agentiq[langchain]->math_tools==0.1.0) (3.4.2)\n",
      "Requirement already satisfied: urllib3<3,>=1.21.1 in /usr/local/lib/python3.12/site-packages (from requests<3.0.0,>=2.0.0->wikipedia~=1.4->aiqtoolkit==v1.1.0->agentiq[langchain]->math_tools==0.1.0) (2.4.0)\n",
      "Requirement already satisfied: soupsieve>1.2 in /usr/local/lib/python3.12/site-packages (from beautifulsoup4->wikipedia~=1.4->aiqtoolkit==v1.1.0->agentiq[langchain]->math_tools==0.1.0) (2.7)\n",
      "Requirement already satisfied: pyarrow>=8.0.0 in /usr/local/lib/python3.12/site-packages (from datasets->ragas~=0.2.14->aiqtoolkit==v1.1.0->agentiq[langchain]->math_tools==0.1.0) (20.0.0)\n",
      "Requirement already satisfied: dill<0.3.8,>=0.3.0 in /usr/local/lib/python3.12/site-packages (from datasets->ragas~=0.2.14->aiqtoolkit==v1.1.0->agentiq[langchain]->math_tools==0.1.0) (0.3.7)\n",
      "Requirement already satisfied: xxhash in /usr/local/lib/python3.12/site-packages (from datasets->ragas~=0.2.14->aiqtoolkit==v1.1.0->agentiq[langchain]->math_tools==0.1.0) (3.5.0)\n",
      "Requirement already satisfied: multiprocess in /usr/local/lib/python3.12/site-packages (from datasets->ragas~=0.2.14->aiqtoolkit==v1.1.0->agentiq[langchain]->math_tools==0.1.0) (0.70.15)\n",
      "Requirement already satisfied: fsspec>=2021.11.1 in /usr/local/lib/python3.12/site-packages (from fsspec[http]>=2021.11.1->datasets->ragas~=0.2.14->aiqtoolkit==v1.1.0->agentiq[langchain]->math_tools==0.1.0) (2025.5.1)\n",
      "Requirement already satisfied: huggingface-hub<1.0.0,>=0.14.0 in /usr/local/lib/python3.12/site-packages (from datasets->ragas~=0.2.14->aiqtoolkit==v1.1.0->agentiq[langchain]->math_tools==0.1.0) (0.33.0)\n",
      "Requirement already satisfied: packaging in /usr/local/lib/python3.12/site-packages (from datasets->ragas~=0.2.14->aiqtoolkit==v1.1.0->agentiq[langchain]->math_tools==0.1.0) (24.2)\n",
      "Requirement already satisfied: langchain-text-splitters<1.0.0,>=0.3.8 in /usr/local/lib/python3.12/site-packages (from langchain->ragas~=0.2.14->aiqtoolkit==v1.1.0->agentiq[langchain]->math_tools==0.1.0) (0.3.8)\n",
      "Requirement already satisfied: langsmith<0.4,>=0.1.17 in /usr/local/lib/python3.12/site-packages (from langchain->ragas~=0.2.14->aiqtoolkit==v1.1.0->agentiq[langchain]->math_tools==0.1.0) (0.3.45)\n",
      "Requirement already satisfied: SQLAlchemy<3,>=1.4 in /usr/local/lib/python3.12/site-packages (from langchain->ragas~=0.2.14->aiqtoolkit==v1.1.0->agentiq[langchain]->math_tools==0.1.0) (2.0.41)\n",
      "Requirement already satisfied: tenacity!=8.4.0,<10.0.0,>=8.1.0 in /usr/local/lib/python3.12/site-packages (from langchain-core->ragas~=0.2.14->aiqtoolkit==v1.1.0->agentiq[langchain]->math_tools==0.1.0) (9.1.2)\n",
      "Requirement already satisfied: jsonpatch<2.0,>=1.33 in /usr/local/lib/python3.12/site-packages (from langchain-core->ragas~=0.2.14->aiqtoolkit==v1.1.0->agentiq[langchain]->math_tools==0.1.0) (1.33)\n",
      "Requirement already satisfied: dataclasses-json<0.7,>=0.5.7 in /usr/local/lib/python3.12/site-packages (from langchain-community->ragas~=0.2.14->aiqtoolkit==v1.1.0->agentiq[langchain]->math_tools==0.1.0) (0.6.7)\n",
      "Requirement already satisfied: regex>=2022.1.18 in /usr/local/lib/python3.12/site-packages (from tiktoken->ragas~=0.2.14->aiqtoolkit==v1.1.0->agentiq[langchain]->math_tools==0.1.0) (2024.11.6)\n",
      "Requirement already satisfied: aiohappyeyeballs>=2.5.0 in /usr/local/lib/python3.12/site-packages (from aiohttp<4.0.0,>=3.9.2->aiobotocore==2.22.0->aiobotocore[boto3]==2.22.0->aioboto3>=11.0.0->aiqtoolkit==v1.1.0->agentiq[langchain]->math_tools==0.1.0) (2.6.1)\n",
      "Requirement already satisfied: aiosignal>=1.1.2 in /usr/local/lib/python3.12/site-packages (from aiohttp<4.0.0,>=3.9.2->aiobotocore==2.22.0->aiobotocore[boto3]==2.22.0->aioboto3>=11.0.0->aiqtoolkit==v1.1.0->agentiq[langchain]->math_tools==0.1.0) (1.3.2)\n",
      "Requirement already satisfied: attrs>=17.3.0 in /usr/local/lib/python3.12/site-packages (from aiohttp<4.0.0,>=3.9.2->aiobotocore==2.22.0->aiobotocore[boto3]==2.22.0->aioboto3>=11.0.0->aiqtoolkit==v1.1.0->agentiq[langchain]->math_tools==0.1.0) (25.3.0)\n",
      "Requirement already satisfied: frozenlist>=1.1.1 in /usr/local/lib/python3.12/site-packages (from aiohttp<4.0.0,>=3.9.2->aiobotocore==2.22.0->aiobotocore[boto3]==2.22.0->aioboto3>=11.0.0->aiqtoolkit==v1.1.0->agentiq[langchain]->math_tools==0.1.0) (1.7.0)\n",
      "Requirement already satisfied: propcache>=0.2.0 in /usr/local/lib/python3.12/site-packages (from aiohttp<4.0.0,>=3.9.2->aiobotocore==2.22.0->aiobotocore[boto3]==2.22.0->aioboto3>=11.0.0->aiqtoolkit==v1.1.0->agentiq[langchain]->math_tools==0.1.0) (0.3.2)\n",
      "Requirement already satisfied: yarl<2.0,>=1.17.0 in /usr/local/lib/python3.12/site-packages (from aiohttp<4.0.0,>=3.9.2->aiobotocore==2.22.0->aiobotocore[boto3]==2.22.0->aioboto3>=11.0.0->aiqtoolkit==v1.1.0->agentiq[langchain]->math_tools==0.1.0) (1.20.1)\n",
      "Requirement already satisfied: s3transfer<0.12.0,>=0.11.0 in /usr/local/lib/python3.12/site-packages (from boto3<1.37.4,>=1.37.2->aiobotocore[boto3]==2.22.0->aioboto3>=11.0.0->aiqtoolkit==v1.1.0->agentiq[langchain]->math_tools==0.1.0) (0.11.3)\n",
      "Requirement already satisfied: marshmallow<4.0.0,>=3.18.0 in /usr/local/lib/python3.12/site-packages (from dataclasses-json<0.7,>=0.5.7->langchain-community->ragas~=0.2.14->aiqtoolkit==v1.1.0->agentiq[langchain]->math_tools==0.1.0) (3.26.1)\n",
      "Requirement already satisfied: typing-inspect<1,>=0.4.0 in /usr/local/lib/python3.12/site-packages (from dataclasses-json<0.7,>=0.5.7->langchain-community->ragas~=0.2.14->aiqtoolkit==v1.1.0->agentiq[langchain]->math_tools==0.1.0) (0.9.0)\n",
      "Requirement already satisfied: filelock in /usr/local/lib/python3.12/site-packages (from huggingface-hub<1.0.0,>=0.14.0->datasets->ragas~=0.2.14->aiqtoolkit==v1.1.0->agentiq[langchain]->math_tools==0.1.0) (3.18.0)\n",
      "Requirement already satisfied: hf-xet<2.0.0,>=1.1.2 in /usr/local/lib/python3.12/site-packages (from huggingface-hub<1.0.0,>=0.14.0->datasets->ragas~=0.2.14->aiqtoolkit==v1.1.0->agentiq[langchain]->math_tools==0.1.0) (1.1.3)\n",
      "Requirement already satisfied: jsonpointer>=1.9 in /usr/local/lib/python3.12/site-packages (from jsonpatch<2.0,>=1.33->langchain-core->ragas~=0.2.14->aiqtoolkit==v1.1.0->agentiq[langchain]->math_tools==0.1.0) (3.0.0)\n",
      "Requirement already satisfied: orjson<4.0.0,>=3.9.14 in /usr/local/lib/python3.12/site-packages (from langsmith<0.4,>=0.1.17->langchain->ragas~=0.2.14->aiqtoolkit==v1.1.0->agentiq[langchain]->math_tools==0.1.0) (3.10.18)\n",
      "Requirement already satisfied: requests-toolbelt<2.0.0,>=1.0.0 in /usr/local/lib/python3.12/site-packages (from langsmith<0.4,>=0.1.17->langchain->ragas~=0.2.14->aiqtoolkit==v1.1.0->agentiq[langchain]->math_tools==0.1.0) (1.0.0)\n",
      "Requirement already satisfied: zstandard<0.24.0,>=0.23.0 in /usr/local/lib/python3.12/site-packages (from langsmith<0.4,>=0.1.17->langchain->ragas~=0.2.14->aiqtoolkit==v1.1.0->agentiq[langchain]->math_tools==0.1.0) (0.23.0)\n",
      "Requirement already satisfied: six>=1.5 in /usr/local/lib/python3.12/site-packages (from python-dateutil<3.0.0,>=2.1->aiobotocore==2.22.0->aiobotocore[boto3]==2.22.0->aioboto3>=11.0.0->aiqtoolkit==v1.1.0->agentiq[langchain]->math_tools==0.1.0) (1.17.0)\n",
      "Requirement already satisfied: greenlet>=1 in /usr/local/lib/python3.12/site-packages (from SQLAlchemy<3,>=1.4->langchain->ragas~=0.2.14->aiqtoolkit==v1.1.0->agentiq[langchain]->math_tools==0.1.0) (3.2.3)\n",
      "Requirement already satisfied: mypy-extensions>=0.3.0 in /usr/local/lib/python3.12/site-packages (from typing-inspect<1,>=0.4.0->dataclasses-json<0.7,>=0.5.7->langchain-community->ragas~=0.2.14->aiqtoolkit==v1.1.0->agentiq[langchain]->math_tools==0.1.0) (1.1.0)\n",
      "Building wheels for collected packages: math_tools\n",
      "  Building editable for math_tools (pyproject.toml) ... \u001b[?25ldone\n",
      "\u001b[?25h  Created wheel for math_tools: filename=math_tools-0.1.0-0.editable-py3-none-any.whl size=1565 sha256=ec7d7bf510da27c4f4f4d3aa4e492dc509bbbf8d50e14dfcace6670c773d2132\n",
      "  Stored in directory: /tmp/pip-ephem-wheel-cache-picbtegj/wheels/d9/08/5f/87db5f264b0183c3a48d9a5f02882903bcba2570fb32d02dd8\n",
      "Successfully built math_tools\n",
      "Installing collected packages: math_tools\n",
      "Successfully installed math_tools-0.1.0\n",
      "\u001b[33mWARNING: Running pip as the 'root' user can result in broken permissions and conflicting behaviour with the system package manager, possibly rendering your system unusable. It is recommended to use a virtual environment instead: https://pip.pypa.io/warnings/venv. Use the --root-user-action option if you know what you are doing and want to suppress this warning.\u001b[0m\u001b[33m\n",
      "\u001b[0m\n",
      "\u001b[1m[\u001b[0m\u001b[34;49mnotice\u001b[0m\u001b[1;39;49m]\u001b[0m\u001b[39;49m A new release of pip is available: \u001b[0m\u001b[31;49m25.0.1\u001b[0m\u001b[39;49m -> \u001b[0m\u001b[32;49m25.1.1\u001b[0m\n",
      "\u001b[1m[\u001b[0m\u001b[34;49mnotice\u001b[0m\u001b[1;39;49m]\u001b[0m\u001b[39;49m To update, run: \u001b[0m\u001b[32;49mpip install --upgrade pip\u001b[0m\n",
      "Note: you may need to restart the kernel to use updated packages.\n"
     ]
    }
   ],
   "source": [
    "%pip install -e workflows/math_tools"
   ]
  },
  {
   "cell_type": "markdown",
   "metadata": {},
   "source": [
    "### 4. Verifying Component Installation\n",
    "\n",
    "After installation, we should check if our custom components are now visible to AgentIQ. This confirms that our package was installed correctly and our tools are available for use."
   ]
  },
  {
   "cell_type": "code",
   "execution_count": 16,
   "metadata": {},
   "outputs": [
    {
     "name": "stdout",
     "output_type": "stream",
     "text": [
      "2025-07-11 08:58:56,685 - aiq.runtime.loader - WARNING - Loading module 'aiq.agent.register' from entry point 'aiq_agents' took a long time (322.661161 ms). Ensure all imports are inside your registered functions.\n",
      "                           AIQ Toolkit Search Results                           \n",
      "┏━━━━━━━━━━━━┳━━━━━━━━━┳━━━━━━━━━━━━━━━━┳━━━━━━━━━━━━━━━━┳━━━━━━━━━━━━━━━━━━━━━┓\n",
      "┃ package    ┃ version ┃ component_type ┃ component_name ┃ description         ┃\n",
      "┡━━━━━━━━━━━━╇━━━━━━━━━╇━━━━━━━━━━━━━━━━╇━━━━━━━━━━━━━━━━╇━━━━━━━━━━━━━━━━━━━━━┩\n",
      "│ math_tools │ 0.1.0   │ function       │ math_tools     │ AIQ Toolkit         │\n",
      "│            │         │                │                │ function template.  │\n",
      "│            │         │                │                │ Please update the   │\n",
      "│            │         │                │                │ description.        │\n",
      "│            │         │                │                │                     │\n",
      "│            │         │                │                │   Args:             │\n",
      "│            │         │                │                │     _type (str):    │\n",
      "│            │         │                │                │ The type of the     │\n",
      "│            │         │                │                │ object.             │\n",
      "│            │         │                │                │     parameter       │\n",
      "│            │         │                │                │ (str): Notional     │\n",
      "│            │         │                │                │ description for     │\n",
      "│            │         │                │                │ this parameter.     │\n",
      "│            │         │                │                │ Defaults to         │\n",
      "│            │         │                │                │ \"default_value\".    │\n",
      "└────────────┴─────────┴────────────────┴────────────────┴─────────────────────┘\n",
      "2025-07-11 08:58:56,917 - aiq.registry_handlers.local.local_handler - INFO - Execution complete.\n",
      "\u001b[0m\u001b[0m"
     ]
    }
   ],
   "source": [
    "!aiq info components -t function -q math"
   ]
  },
  {
   "cell_type": "markdown",
   "metadata": {},
   "source": [
    "## Adding Custom Math Tools\n",
    "\n",
    "Now that we have our basic workflow set up, let's add some custom tools that can perform mathematical operations. We'll create three tools:\n",
    "\n",
    "1. **calculator_square_root**: Calculates the square root of a number\n",
    "2. **calculator_modulus**: Calculates the modulo of two numbers\n",
    "3. **calculator_exponent**: Raises a number to a power\n",
    "\n",
    "### 1. Understanding Tool Structure in AgentIQ\n",
    "\n",
    "Each tool in AgentIQ follows this pattern:\n",
    "\n",
    "1. **Configuration Class**: A class that inherits from `FunctionBaseConfig` and provides a tool name\n",
    "2. **Decorated Function**: A function decorated with `@register_function` that links to the configuration\n",
    "3. **Implementation**: An inner async function that contains the actual tool logic\n",
    "4. **Registration**: A `FunctionInfo.from_fn()` call that wraps the function with metadata\n",
    "\n",
    "In the cell below, we'll implement these tools."
   ]
  },
  {
   "cell_type": "markdown",
   "metadata": {},
   "source": [
    "**Your Turn** 🎉🎉🎉\n",
    "\n",
    "The `calculator_add` function (all the way at the bottom of the cell) below is incomplete - you'll need to finish it using the other tools as examples. Fill in the `calculator_add` function, and then run the cell to write this file to disk.\n",
    "\n",
    "The solution is provided beneath the cell if you're in a hurry."
   ]
  },
  {
   "cell_type": "code",
   "execution_count": 17,
   "metadata": {},
   "outputs": [
    {
     "name": "stdout",
     "output_type": "stream",
     "text": [
      "Overwriting workflows/math_tools/src/math_tools/math_tools_function.py\n"
     ]
    }
   ],
   "source": [
    "%%writefile workflows/math_tools/src/math_tools/math_tools_function.py\n",
    "import logging\n",
    "import math\n",
    "import re\n",
    "from typing import List\n",
    "\n",
    "from aiq.builder.builder import Builder\n",
    "from aiq.builder.function_info import FunctionInfo\n",
    "from aiq.cli.register_workflow import register_function\n",
    "from aiq.data_models.function import FunctionBaseConfig\n",
    "\n",
    "logger = logging.getLogger(__name__)\n",
    "\n",
    "# Regular expression for matching numbers (integers or decimals)\n",
    "NUMBER_MATCHER = re.compile(r\"\\b(0|[1-9]\\d*)(\\.\\d+)?\\b\")\n",
    "\n",
    "def parse_numbers(text: str) -> List[str]:\n",
    "    \"\"\"Extract all numbers from the input text.\"\"\"\n",
    "    return [match.group() for match in NUMBER_MATCHER.finditer(text)]\n",
    "\n",
    "# Tool Configurations\n",
    "class SquareRootToolConfig(FunctionBaseConfig, name=\"calculator_square_root\"):\n",
    "    pass\n",
    "\n",
    "class ExponentToolConfig(FunctionBaseConfig, name=\"calculator_exponent\"):\n",
    "    pass\n",
    "\n",
    "class ModulusToolConfig(FunctionBaseConfig, name=\"calculator_modulus\"):\n",
    "    pass\n",
    "\n",
    "class AddToolConfig(FunctionBaseConfig, name=\"calculator_add\"):\n",
    "    pass\n",
    "\n",
    "# Tool Implementations\n",
    "@register_function(config_type=SquareRootToolConfig)\n",
    "async def calculator_square_root(tool_config: SquareRootToolConfig, builder: Builder):\n",
    "    async def _calculator_square_root(text: str) -> str:\n",
    "        numbers = parse_numbers(text)\n",
    "        if not numbers:\n",
    "            return \"Please provide a number to calculate the square root\"\n",
    "        \n",
    "        number = float(numbers[0])\n",
    "        if number < 0:\n",
    "            return \"Cannot calculate square root of a negative number\"\n",
    "            \n",
    "        result = math.sqrt(number)\n",
    "        return f\"The square root of {number} is {result}\"\n",
    "\n",
    "    yield FunctionInfo.from_fn(\n",
    "        _calculator_square_root,\n",
    "        description=(\"This is a mathematical tool used to calculate the square root of a number. \"\n",
    "                     \"It takes a number as input and computes its square root as the output.\")\n",
    "    )\n",
    "\n",
    "@register_function(config_type=ExponentToolConfig)\n",
    "async def calculator_exponent(config: ExponentToolConfig, builder: Builder):\n",
    "    async def _calculator_exponent(text: str) -> str:\n",
    "        numbers = parse_numbers(text)\n",
    "        if len(numbers) < 2:\n",
    "            return \"Please provide a base and an exponent\"\n",
    "            \n",
    "        base = float(numbers[0])\n",
    "        exponent = float(numbers[1])\n",
    "        result = base ** exponent\n",
    "        return f\"The result of {base} raised to the power of {exponent} is {result}\"\n",
    "\n",
    "    yield FunctionInfo.from_fn(\n",
    "        _calculator_exponent,\n",
    "        description=(\"This is a mathematical tool used to calculate exponentiation. \"\n",
    "                     \"It takes a base and an exponent as input and computes the result of raising the base to the power of the exponent.\")\n",
    "    )\n",
    "\n",
    "@register_function(config_type=ModulusToolConfig)\n",
    "async def calculator_modulus(config: ModulusToolConfig, builder: Builder):\n",
    "    async def _calculator_modulus(text: str) -> str:\n",
    "        numbers = parse_numbers(text)\n",
    "        if len(numbers) < 2:\n",
    "            return \"Please provide a dividend and a divisor\"\n",
    "            \n",
    "        dividend = float(numbers[0])\n",
    "        divisor = float(numbers[1])\n",
    "        if divisor == 0:\n",
    "            return \"Cannot perform modulus with zero as divisor\"\n",
    "            \n",
    "        result = dividend % divisor\n",
    "        return f\"The remainder of {dividend} divided by {divisor} is {result}\"\n",
    "\n",
    "    yield FunctionInfo.from_fn(\n",
    "        _calculator_modulus,\n",
    "        description=(\"This is a mathematical tool used to calculate the remainder of division. \"\n",
    "                     \"It takes a dividend and a divisor as input and computes the remainder when the dividend is divided by the divisor.\")\n",
    "    )\n",
    "\n",
    "@register_function(config_type=AddToolConfig)\n",
    "async def calculator_add(config: AddToolConfig, builder: Builder):\n",
    "    async def _calculator_add(text: str) -> str:\n",
    "        # TODO: Implement the calculator_add function\n",
    "        return \"Not implemented\"\n",
    "\n",
    "    yield FunctionInfo.from_fn(\n",
    "        _calculator_add,\n",
    "        description=(\"This is a mathematical tool used to add numbers together. \"\n",
    "                     \"It takes two or more numbers as input and computes their sum.\")\n",
    "    )"
   ]
  },
  {
   "cell_type": "markdown",
   "metadata": {},
   "source": [
    "### SOLUTION: Implementation of calculator_add function\n",
    " You can copy and paste this into the register.py file cell above\n",
    "```python\n",
    "\n",
    "# Start copying here\n",
    "@register_function(config_type=AddToolConfig)\n",
    "async def calculator_add(config: AddToolConfig, builder: Builder):\n",
    "    async def _calculator_add(text: str) -> str:\n",
    "        numbers = parse_numbers(text)\n",
    "        if len(numbers) < 2:\n",
    "            return \"Please provide at least two numbers to add\"\n",
    "            \n",
    "        nums = [float(num) for num in numbers]\n",
    "        result = sum(nums)\n",
    "        if result.is_integer():\n",
    "            result = int(result)\n",
    "            \n",
    "        numbers_str = \" + \".join(numbers)\n",
    "        return f\"The sum of {numbers_str} is {result}\"\n",
    "\n",
    "    yield FunctionInfo.from_fn(\n",
    "        _calculator_add,\n",
    "        description=(\"This is a mathematical tool used to add numbers together. \"\n",
    "                     \"It takes two or more numbers as input and computes their sum.\")\n",
    "    )\n",
    "# End copying here\n",
    "\n",
    "```"
   ]
  },
  {
   "cell_type": "markdown",
   "metadata": {},
   "source": [
    "We will also update the imports in `register.py` so they will be loaded into AgentIQ when installed:"
   ]
  },
  {
   "cell_type": "code",
   "execution_count": 18,
   "metadata": {},
   "outputs": [
    {
     "name": "stdout",
     "output_type": "stream",
     "text": [
      "Overwriting workflows/math_tools/src/math_tools/register.py\n"
     ]
    }
   ],
   "source": [
    "%%writefile workflows/math_tools/src/math_tools/register.py\n",
    "# pylint: disable=unused-import\n",
    "# flake8: noqa\n",
    "\n",
    "# Import any tools which need to be automatically registered here\n",
    "from math_tools.math_tools_function import calculator_square_root\n",
    "from math_tools.math_tools_function import calculator_exponent\n",
    "from math_tools.math_tools_function import calculator_modulus\n",
    "from math_tools.math_tools_function import calculator_add\n"
   ]
  },
  {
   "cell_type": "markdown",
   "metadata": {},
   "source": [
    "### 2. Reinstalling After Changes\n",
    "\n",
    "Now that we've created our custom tools, we need to reinstall the workflow so that AgentIQ can see the changes."
   ]
  },
  {
   "cell_type": "code",
   "execution_count": 19,
   "metadata": {
    "scrolled": true
   },
   "outputs": [
    {
     "name": "stdout",
     "output_type": "stream",
     "text": [
      "Obtaining file:///dli/task/workflows/math_tools\n",
      "  Installing build dependencies ... \u001b[?2done\n",
      "\u001b[?25h  Checking if build backend supports build_editable ... \u001b[?25ldone\n",
      "\u001b[?25h  Getting requirements to build editable ... \u001b[?25ldone\n",
      "\u001b[?25h  Preparing editable metadata (pyproject.toml) ... \u001b[?25ldone\n",
      "\u001b[?25hRequirement already satisfied: agentiq[langchain] in /usr/local/lib/python3.12/site-packages (from math_tools==0.1.0) (1.1.0)\n",
      "\u001b[33mWARNING: agentiq 1.1.0 does not provide the extra 'langchain'\u001b[0m\u001b[33m\n",
      "\u001b[0mRequirement already satisfied: aiqtoolkit==v1.1.0 in /usr/local/lib/python3.12/site-packages (from agentiq[langchain]->math_tools==0.1.0) (1.1.0)\n",
      "Requirement already satisfied: aioboto3>=11.0.0 in /usr/local/lib/python3.12/site-packages (from aiqtoolkit==v1.1.0->agentiq[langchain]->math_tools==0.1.0) (14.3.0)\n",
      "Requirement already satisfied: click~=8.1 in /usr/local/lib/python3.12/site-packages (from aiqtoolkit==v1.1.0->agentiq[langchain]->math_tools==0.1.0) (8.2.1)\n",
      "Requirement already satisfied: colorama~=0.4.6 in /usr/local/lib/python3.12/site-packages (from aiqtoolkit==v1.1.0->agentiq[langchain]->math_tools==0.1.0) (0.4.6)\n",
      "Requirement already satisfied: expandvars~=1.0 in /usr/local/lib/python3.12/site-packages (from aiqtoolkit==v1.1.0->agentiq[langchain]->math_tools==0.1.0) (1.0.0)\n",
      "Requirement already satisfied: fastapi~=0.115.5 in /usr/local/lib/python3.12/site-packages (from aiqtoolkit==v1.1.0->agentiq[langchain]->math_tools==0.1.0) (0.115.9)\n",
      "Requirement already satisfied: httpx~=0.27 in /usr/local/lib/python3.12/site-packages (from aiqtoolkit==v1.1.0->agentiq[langchain]->math_tools==0.1.0) (0.28.1)\n",
      "Requirement already satisfied: jinja2~=3.1 in /usr/local/lib/python3.12/site-packages (from aiqtoolkit==v1.1.0->agentiq[langchain]->math_tools==0.1.0) (3.1.6)\n",
      "Requirement already satisfied: jsonpath-ng~=1.7 in /usr/local/lib/python3.12/site-packages (from aiqtoolkit==v1.1.0->agentiq[langchain]->math_tools==0.1.0) (1.7.0)\n",
      "Requirement already satisfied: mcp>=1.0.0 in /usr/local/lib/python3.12/site-packages (from aiqtoolkit==v1.1.0->agentiq[langchain]->math_tools==0.1.0) (1.9.3)\n",
      "Requirement already satisfied: networkx~=3.4 in /usr/local/lib/python3.12/site-packages (from aiqtoolkit==v1.1.0->agentiq[langchain]->math_tools==0.1.0) (3.5)\n",
      "Requirement already satisfied: numpy~=1.26 in /usr/local/lib/python3.12/site-packages (from aiqtoolkit==v1.1.0->agentiq[langchain]->math_tools==0.1.0) (1.26.4)\n",
      "Requirement already satisfied: openinference-semantic-conventions~=0.1.14 in /usr/local/lib/python3.12/site-packages (from aiqtoolkit==v1.1.0->agentiq[langchain]->math_tools==0.1.0) (0.1.20)\n",
      "Requirement already satisfied: openpyxl~=3.1 in /usr/local/lib/python3.12/site-packages (from aiqtoolkit==v1.1.0->agentiq[langchain]->math_tools==0.1.0) (3.1.5)\n",
      "Requirement already satisfied: pkginfo~=1.12 in /usr/local/lib/python3.12/site-packages (from aiqtoolkit==v1.1.0->agentiq[langchain]->math_tools==0.1.0) (1.12.1.2)\n",
      "Requirement already satisfied: platformdirs~=4.3 in /usr/local/lib/python3.12/site-packages (from aiqtoolkit==v1.1.0->agentiq[langchain]->math_tools==0.1.0) (4.3.8)\n",
      "Requirement already satisfied: pydantic==2.10.* in /usr/local/lib/python3.12/site-packages (from aiqtoolkit==v1.1.0->agentiq[langchain]->math_tools==0.1.0) (2.10.6)\n",
      "Requirement already satisfied: pymilvus~=2.4 in /usr/local/lib/python3.12/site-packages (from aiqtoolkit==v1.1.0->agentiq[langchain]->math_tools==0.1.0) (2.5.11)\n",
      "Requirement already satisfied: PyYAML~=6.0 in /usr/local/lib/python3.12/site-packages (from aiqtoolkit==v1.1.0->agentiq[langchain]->math_tools==0.1.0) (6.0.2)\n",
      "Requirement already satisfied: ragas~=0.2.14 in /usr/local/lib/python3.12/site-packages (from aiqtoolkit==v1.1.0->agentiq[langchain]->math_tools==0.1.0) (0.2.15)\n",
      "Requirement already satisfied: rich~=13.9 in /usr/local/lib/python3.12/site-packages (from aiqtoolkit==v1.1.0->agentiq[langchain]->math_tools==0.1.0) (13.9.4)\n",
      "Requirement already satisfied: uvicorn~=0.32.0 in /usr/local/lib/python3.12/site-packages (from uvicorn[standard]~=0.32.0->aiqtoolkit==v1.1.0->agentiq[langchain]->math_tools==0.1.0) (0.32.1)\n",
      "Requirement already satisfied: wikipedia~=1.4 in /usr/local/lib/python3.12/site-packages (from aiqtoolkit==v1.1.0->agentiq[langchain]->math_tools==0.1.0) (1.4.0)\n",
      "Requirement already satisfied: annotated-types>=0.6.0 in /usr/local/lib/python3.12/site-packages (from pydantic==2.10.*->aiqtoolkit==v1.1.0->agentiq[langchain]->math_tools==0.1.0) (0.7.0)\n",
      "Requirement already satisfied: pydantic-core==2.27.2 in /usr/local/lib/python3.12/site-packages (from pydantic==2.10.*->aiqtoolkit==v1.1.0->agentiq[langchain]->math_tools==0.1.0) (2.27.2)\n",
      "Requirement already satisfied: typing-extensions>=4.12.2 in /usr/local/lib/python3.12/site-packages (from pydantic==2.10.*->aiqtoolkit==v1.1.0->agentiq[langchain]->math_tools==0.1.0) (4.14.0)\n",
      "Requirement already satisfied: aiobotocore==2.22.0 in /usr/local/lib/python3.12/site-packages (from aiobotocore[boto3]==2.22.0->aioboto3>=11.0.0->aiqtoolkit==v1.1.0->agentiq[langchain]->math_tools==0.1.0) (2.22.0)\n",
      "Requirement already satisfied: aiofiles>=23.2.1 in /usr/local/lib/python3.12/site-packages (from aioboto3>=11.0.0->aiqtoolkit==v1.1.0->agentiq[langchain]->math_tools==0.1.0) (24.1.0)\n",
      "Requirement already satisfied: aiohttp<4.0.0,>=3.9.2 in /usr/local/lib/python3.12/site-packages (from aiobotocore==2.22.0->aiobotocore[boto3]==2.22.0->aioboto3>=11.0.0->aiqtoolkit==v1.1.0->agentiq[langchain]->math_tools==0.1.0) (3.12.12)\n",
      "Requirement already satisfied: aioitertools<1.0.0,>=0.5.1 in /usr/local/lib/python3.12/site-packages (from aiobotocore==2.22.0->aiobotocore[boto3]==2.22.0->aioboto3>=11.0.0->aiqtoolkit==v1.1.0->agentiq[langchain]->math_tools==0.1.0) (0.12.0)\n",
      "Requirement already satisfied: botocore<1.37.4,>=1.37.2 in /usr/local/lib/python3.12/site-packages (from aiobotocore==2.22.0->aiobotocore[boto3]==2.22.0->aioboto3>=11.0.0->aiqtoolkit==v1.1.0->agentiq[langchain]->math_tools==0.1.0) (1.37.3)\n",
      "Requirement already satisfied: python-dateutil<3.0.0,>=2.1 in /usr/local/lib/python3.12/site-packages (from aiobotocore==2.22.0->aiobotocore[boto3]==2.22.0->aioboto3>=11.0.0->aiqtoolkit==v1.1.0->agentiq[langchain]->math_tools==0.1.0) (2.9.0.post0)\n",
      "Requirement already satisfied: jmespath<2.0.0,>=0.7.1 in /usr/local/lib/python3.12/site-packages (from aiobotocore==2.22.0->aiobotocore[boto3]==2.22.0->aioboto3>=11.0.0->aiqtoolkit==v1.1.0->agentiq[langchain]->math_tools==0.1.0) (1.0.1)\n",
      "Requirement already satisfied: multidict<7.0.0,>=6.0.0 in /usr/local/lib/python3.12/site-packages (from aiobotocore==2.22.0->aiobotocore[boto3]==2.22.0->aioboto3>=11.0.0->aiqtoolkit==v1.1.0->agentiq[langchain]->math_tools==0.1.0) (6.4.4)\n",
      "Requirement already satisfied: wrapt<2.0.0,>=1.10.10 in /usr/local/lib/python3.12/site-packages (from aiobotocore==2.22.0->aiobotocore[boto3]==2.22.0->aioboto3>=11.0.0->aiqtoolkit==v1.1.0->agentiq[langchain]->math_tools==0.1.0) (1.17.2)\n",
      "Requirement already satisfied: boto3<1.37.4,>=1.37.2 in /usr/local/lib/python3.12/site-packages (from aiobotocore[boto3]==2.22.0->aioboto3>=11.0.0->aiqtoolkit==v1.1.0->agentiq[langchain]->math_tools==0.1.0) (1.37.3)\n",
      "Requirement already satisfied: starlette<0.46.0,>=0.40.0 in /usr/local/lib/python3.12/site-packages (from fastapi~=0.115.5->aiqtoolkit==v1.1.0->agentiq[langchain]->math_tools==0.1.0) (0.45.3)\n",
      "Requirement already satisfied: anyio in /usr/local/lib/python3.12/site-packages (from httpx~=0.27->aiqtoolkit==v1.1.0->agentiq[langchain]->math_tools==0.1.0) (4.9.0)\n",
      "Requirement already satisfied: certifi in /usr/local/lib/python3.12/site-packages (from httpx~=0.27->aiqtoolkit==v1.1.0->agentiq[langchain]->math_tools==0.1.0) (2025.4.26)\n",
      "Requirement already satisfied: httpcore==1.* in /usr/local/lib/python3.12/site-packages (from httpx~=0.27->aiqtoolkit==v1.1.0->agentiq[langchain]->math_tools==0.1.0) (1.0.9)\n",
      "Requirement already satisfied: idna in /usr/local/lib/python3.12/site-packages (from httpx~=0.27->aiqtoolkit==v1.1.0->agentiq[langchain]->math_tools==0.1.0) (3.10)\n",
      "Requirement already satisfied: h11>=0.16 in /usr/local/lib/python3.12/site-packages (from httpcore==1.*->httpx~=0.27->aiqtoolkit==v1.1.0->agentiq[langchain]->math_tools==0.1.0) (0.16.0)\n",
      "Requirement already satisfied: MarkupSafe>=2.0 in /usr/local/lib/python3.12/site-packages (from jinja2~=3.1->aiqtoolkit==v1.1.0->agentiq[langchain]->math_tools==0.1.0) (3.0.2)\n",
      "Requirement already satisfied: ply in /usr/local/lib/python3.12/site-packages (from jsonpath-ng~=1.7->aiqtoolkit==v1.1.0->agentiq[langchain]->math_tools==0.1.0) (3.11)\n",
      "Requirement already satisfied: httpx-sse>=0.4 in /usr/local/lib/python3.12/site-packages (from mcp>=1.0.0->aiqtoolkit==v1.1.0->agentiq[langchain]->math_tools==0.1.0) (0.4.0)\n",
      "Requirement already satisfied: pydantic-settings>=2.5.2 in /usr/local/lib/python3.12/site-packages (from mcp>=1.0.0->aiqtoolkit==v1.1.0->agentiq[langchain]->math_tools==0.1.0) (2.9.1)\n",
      "Requirement already satisfied: python-multipart>=0.0.9 in /usr/local/lib/python3.12/site-packages (from mcp>=1.0.0->aiqtoolkit==v1.1.0->agentiq[langchain]->math_tools==0.1.0) (0.0.20)\n",
      "Requirement already satisfied: sse-starlette>=1.6.1 in /usr/local/lib/python3.12/site-packages (from mcp>=1.0.0->aiqtoolkit==v1.1.0->agentiq[langchain]->math_tools==0.1.0) (2.3.6)\n",
      "Requirement already satisfied: et-xmlfile in /usr/local/lib/python3.12/site-packages (from openpyxl~=3.1->aiqtoolkit==v1.1.0->agentiq[langchain]->math_tools==0.1.0) (2.0.0)\n",
      "Requirement already satisfied: setuptools>69 in /usr/local/lib/python3.12/site-packages (from pymilvus~=2.4->aiqtoolkit==v1.1.0->agentiq[langchain]->math_tools==0.1.0) (80.9.0)\n",
      "Requirement already satisfied: grpcio<=1.67.1,>=1.49.1 in /usr/local/lib/python3.12/site-packages (from pymilvus~=2.4->aiqtoolkit==v1.1.0->agentiq[langchain]->math_tools==0.1.0) (1.67.1)\n",
      "Requirement already satisfied: protobuf>=3.20.0 in /usr/local/lib/python3.12/site-packages (from pymilvus~=2.4->aiqtoolkit==v1.1.0->agentiq[langchain]->math_tools==0.1.0) (5.29.5)\n",
      "Requirement already satisfied: python-dotenv<2.0.0,>=1.0.1 in /usr/local/lib/python3.12/site-packages (from pymilvus~=2.4->aiqtoolkit==v1.1.0->agentiq[langchain]->math_tools==0.1.0) (1.1.0)\n",
      "Requirement already satisfied: ujson>=2.0.0 in /usr/local/lib/python3.12/site-packages (from pymilvus~=2.4->aiqtoolkit==v1.1.0->agentiq[langchain]->math_tools==0.1.0) (5.10.0)\n",
      "Requirement already satisfied: pandas>=1.2.4 in /usr/local/lib/python3.12/site-packages (from pymilvus~=2.4->aiqtoolkit==v1.1.0->agentiq[langchain]->math_tools==0.1.0) (2.2.3)\n",
      "Requirement already satisfied: milvus-lite>=2.4.0 in /usr/local/lib/python3.12/site-packages (from pymilvus~=2.4->aiqtoolkit==v1.1.0->agentiq[langchain]->math_tools==0.1.0) (2.4.12)\n",
      "Requirement already satisfied: datasets in /usr/local/lib/python3.12/site-packages (from ragas~=0.2.14->aiqtoolkit==v1.1.0->agentiq[langchain]->math_tools==0.1.0) (2.14.4)\n",
      "Requirement already satisfied: tiktoken in /usr/local/lib/python3.12/site-packages (from ragas~=0.2.14->aiqtoolkit==v1.1.0->agentiq[langchain]->math_tools==0.1.0) (0.9.0)\n",
      "Requirement already satisfied: langchain in /usr/local/lib/python3.12/site-packages (from ragas~=0.2.14->aiqtoolkit==v1.1.0->agentiq[langchain]->math_tools==0.1.0) (0.3.25)\n",
      "Requirement already satisfied: langchain-core in /usr/local/lib/python3.12/site-packages (from ragas~=0.2.14->aiqtoolkit==v1.1.0->agentiq[langchain]->math_tools==0.1.0) (0.3.65)\n",
      "Requirement already satisfied: langchain-community in /usr/local/lib/python3.12/site-packages (from ragas~=0.2.14->aiqtoolkit==v1.1.0->agentiq[langchain]->math_tools==0.1.0) (0.3.24)\n",
      "Requirement already satisfied: langchain_openai in /usr/local/lib/python3.12/site-packages (from ragas~=0.2.14->aiqtoolkit==v1.1.0->agentiq[langchain]->math_tools==0.1.0) (0.2.14)\n",
      "Requirement already satisfied: nest-asyncio in /usr/local/lib/python3.12/site-packages (from ragas~=0.2.14->aiqtoolkit==v1.1.0->agentiq[langchain]->math_tools==0.1.0) (1.6.0)\n",
      "Requirement already satisfied: appdirs in /usr/local/lib/python3.12/site-packages (from ragas~=0.2.14->aiqtoolkit==v1.1.0->agentiq[langchain]->math_tools==0.1.0) (1.4.4)\n",
      "Requirement already satisfied: openai>1 in /usr/local/lib/python3.12/site-packages (from ragas~=0.2.14->aiqtoolkit==v1.1.0->agentiq[langchain]->math_tools==0.1.0) (1.66.3)\n",
      "Requirement already satisfied: diskcache>=5.6.3 in /usr/local/lib/python3.12/site-packages (from ragas~=0.2.14->aiqtoolkit==v1.1.0->agentiq[langchain]->math_tools==0.1.0) (5.6.3)\n",
      "Requirement already satisfied: markdown-it-py>=2.2.0 in /usr/local/lib/python3.12/site-packages (from rich~=13.9->aiqtoolkit==v1.1.0->agentiq[langchain]->math_tools==0.1.0) (3.0.0)\n",
      "Requirement already satisfied: pygments<3.0.0,>=2.13.0 in /usr/local/lib/python3.12/site-packages (from rich~=13.9->aiqtoolkit==v1.1.0->agentiq[langchain]->math_tools==0.1.0) (2.19.1)\n",
      "Requirement already satisfied: httptools>=0.6.3 in /usr/local/lib/python3.12/site-packages (from uvicorn[standard]~=0.32.0->aiqtoolkit==v1.1.0->agentiq[langchain]->math_tools==0.1.0) (0.6.4)\n",
      "Requirement already satisfied: uvloop!=0.15.0,!=0.15.1,>=0.14.0 in /usr/local/lib/python3.12/site-packages (from uvicorn[standard]~=0.32.0->aiqtoolkit==v1.1.0->agentiq[langchain]->math_tools==0.1.0) (0.21.0)\n",
      "Requirement already satisfied: watchfiles>=0.13 in /usr/local/lib/python3.12/site-packages (from uvicorn[standard]~=0.32.0->aiqtoolkit==v1.1.0->agentiq[langchain]->math_tools==0.1.0) (1.0.5)\n",
      "Requirement already satisfied: websockets>=10.4 in /usr/local/lib/python3.12/site-packages (from uvicorn[standard]~=0.32.0->aiqtoolkit==v1.1.0->agentiq[langchain]->math_tools==0.1.0) (15.0.1)\n",
      "Requirement already satisfied: beautifulsoup4 in /usr/local/lib/python3.12/site-packages (from wikipedia~=1.4->aiqtoolkit==v1.1.0->agentiq[langchain]->math_tools==0.1.0) (4.13.4)\n",
      "Requirement already satisfied: requests<3.0.0,>=2.0.0 in /usr/local/lib/python3.12/site-packages (from wikipedia~=1.4->aiqtoolkit==v1.1.0->agentiq[langchain]->math_tools==0.1.0) (2.32.3)\n",
      "Requirement already satisfied: sniffio>=1.1 in /usr/local/lib/python3.12/site-packages (from anyio->httpx~=0.27->aiqtoolkit==v1.1.0->agentiq[langchain]->math_tools==0.1.0) (1.3.1)\n",
      "Requirement already satisfied: mdurl~=0.1 in /usr/local/lib/python3.12/site-packages (from markdown-it-py>=2.2.0->rich~=13.9->aiqtoolkit==v1.1.0->agentiq[langchain]->math_tools==0.1.0) (0.1.2)\n",
      "Requirement already satisfied: tqdm in /usr/local/lib/python3.12/site-packages (from milvus-lite>=2.4.0->pymilvus~=2.4->aiqtoolkit==v1.1.0->agentiq[langchain]->math_tools==0.1.0) (4.67.1)\n",
      "Requirement already satisfied: distro<2,>=1.7.0 in /usr/local/lib/python3.12/site-packages (from openai>1->ragas~=0.2.14->aiqtoolkit==v1.1.0->agentiq[langchain]->math_tools==0.1.0) (1.9.0)\n",
      "Requirement already satisfied: jiter<1,>=0.4.0 in /usr/local/lib/python3.12/site-packages (from openai>1->ragas~=0.2.14->aiqtoolkit==v1.1.0->agentiq[langchain]->math_tools==0.1.0) (0.8.2)\n",
      "Requirement already satisfied: pytz>=2020.1 in /usr/local/lib/python3.12/site-packages (from pandas>=1.2.4->pymilvus~=2.4->aiqtoolkit==v1.1.0->agentiq[langchain]->math_tools==0.1.0) (2025.2)\n",
      "Requirement already satisfied: tzdata>=2022.7 in /usr/local/lib/python3.12/site-packages (from pandas>=1.2.4->pymilvus~=2.4->aiqtoolkit==v1.1.0->agentiq[langchain]->math_tools==0.1.0) (2025.2)\n",
      "Requirement already satisfied: typing-inspection>=0.4.0 in /usr/local/lib/python3.12/site-packages (from pydantic-settings>=2.5.2->mcp>=1.0.0->aiqtoolkit==v1.1.0->agentiq[langchain]->math_tools==0.1.0) (0.4.1)\n",
      "Requirement already satisfied: charset-normalizer<4,>=2 in /usr/local/lib/python3.12/site-packages (from requests<3.0.0,>=2.0.0->wikipedia~=1.4->aiqtoolkit==v1.1.0->agentiq[langchain]->math_tools==0.1.0) (3.4.2)\n",
      "Requirement already satisfied: urllib3<3,>=1.21.1 in /usr/local/lib/python3.12/site-packages (from requests<3.0.0,>=2.0.0->wikipedia~=1.4->aiqtoolkit==v1.1.0->agentiq[langchain]->math_tools==0.1.0) (2.4.0)\n",
      "Requirement already satisfied: soupsieve>1.2 in /usr/local/lib/python3.12/site-packages (from beautifulsoup4->wikipedia~=1.4->aiqtoolkit==v1.1.0->agentiq[langchain]->math_tools==0.1.0) (2.7)\n",
      "Requirement already satisfied: pyarrow>=8.0.0 in /usr/local/lib/python3.12/site-packages (from datasets->ragas~=0.2.14->aiqtoolkit==v1.1.0->agentiq[langchain]->math_tools==0.1.0) (20.0.0)\n",
      "Requirement already satisfied: dill<0.3.8,>=0.3.0 in /usr/local/lib/python3.12/site-packages (from datasets->ragas~=0.2.14->aiqtoolkit==v1.1.0->agentiq[langchain]->math_tools==0.1.0) (0.3.7)\n",
      "Requirement already satisfied: xxhash in /usr/local/lib/python3.12/site-packages (from datasets->ragas~=0.2.14->aiqtoolkit==v1.1.0->agentiq[langchain]->math_tools==0.1.0) (3.5.0)\n",
      "Requirement already satisfied: multiprocess in /usr/local/lib/python3.12/site-packages (from datasets->ragas~=0.2.14->aiqtoolkit==v1.1.0->agentiq[langchain]->math_tools==0.1.0) (0.70.15)\n",
      "Requirement already satisfied: fsspec>=2021.11.1 in /usr/local/lib/python3.12/site-packages (from fsspec[http]>=2021.11.1->datasets->ragas~=0.2.14->aiqtoolkit==v1.1.0->agentiq[langchain]->math_tools==0.1.0) (2025.5.1)\n",
      "Requirement already satisfied: huggingface-hub<1.0.0,>=0.14.0 in /usr/local/lib/python3.12/site-packages (from datasets->ragas~=0.2.14->aiqtoolkit==v1.1.0->agentiq[langchain]->math_tools==0.1.0) (0.33.0)\n",
      "Requirement already satisfied: packaging in /usr/local/lib/python3.12/site-packages (from datasets->ragas~=0.2.14->aiqtoolkit==v1.1.0->agentiq[langchain]->math_tools==0.1.0) (24.2)\n",
      "Requirement already satisfied: langchain-text-splitters<1.0.0,>=0.3.8 in /usr/local/lib/python3.12/site-packages (from langchain->ragas~=0.2.14->aiqtoolkit==v1.1.0->agentiq[langchain]->math_tools==0.1.0) (0.3.8)\n",
      "Requirement already satisfied: langsmith<0.4,>=0.1.17 in /usr/local/lib/python3.12/site-packages (from langchain->ragas~=0.2.14->aiqtoolkit==v1.1.0->agentiq[langchain]->math_tools==0.1.0) (0.3.45)\n",
      "Requirement already satisfied: SQLAlchemy<3,>=1.4 in /usr/local/lib/python3.12/site-packages (from langchain->ragas~=0.2.14->aiqtoolkit==v1.1.0->agentiq[langchain]->math_tools==0.1.0) (2.0.41)\n",
      "Requirement already satisfied: tenacity!=8.4.0,<10.0.0,>=8.1.0 in /usr/local/lib/python3.12/site-packages (from langchain-core->ragas~=0.2.14->aiqtoolkit==v1.1.0->agentiq[langchain]->math_tools==0.1.0) (9.1.2)\n",
      "Requirement already satisfied: jsonpatch<2.0,>=1.33 in /usr/local/lib/python3.12/site-packages (from langchain-core->ragas~=0.2.14->aiqtoolkit==v1.1.0->agentiq[langchain]->math_tools==0.1.0) (1.33)\n",
      "Requirement already satisfied: dataclasses-json<0.7,>=0.5.7 in /usr/local/lib/python3.12/site-packages (from langchain-community->ragas~=0.2.14->aiqtoolkit==v1.1.0->agentiq[langchain]->math_tools==0.1.0) (0.6.7)\n",
      "Requirement already satisfied: regex>=2022.1.18 in /usr/local/lib/python3.12/site-packages (from tiktoken->ragas~=0.2.14->aiqtoolkit==v1.1.0->agentiq[langchain]->math_tools==0.1.0) (2024.11.6)\n",
      "Requirement already satisfied: aiohappyeyeballs>=2.5.0 in /usr/local/lib/python3.12/site-packages (from aiohttp<4.0.0,>=3.9.2->aiobotocore==2.22.0->aiobotocore[boto3]==2.22.0->aioboto3>=11.0.0->aiqtoolkit==v1.1.0->agentiq[langchain]->math_tools==0.1.0) (2.6.1)\n",
      "Requirement already satisfied: aiosignal>=1.1.2 in /usr/local/lib/python3.12/site-packages (from aiohttp<4.0.0,>=3.9.2->aiobotocore==2.22.0->aiobotocore[boto3]==2.22.0->aioboto3>=11.0.0->aiqtoolkit==v1.1.0->agentiq[langchain]->math_tools==0.1.0) (1.3.2)\n",
      "Requirement already satisfied: attrs>=17.3.0 in /usr/local/lib/python3.12/site-packages (from aiohttp<4.0.0,>=3.9.2->aiobotocore==2.22.0->aiobotocore[boto3]==2.22.0->aioboto3>=11.0.0->aiqtoolkit==v1.1.0->agentiq[langchain]->math_tools==0.1.0) (25.3.0)\n",
      "Requirement already satisfied: frozenlist>=1.1.1 in /usr/local/lib/python3.12/site-packages (from aiohttp<4.0.0,>=3.9.2->aiobotocore==2.22.0->aiobotocore[boto3]==2.22.0->aioboto3>=11.0.0->aiqtoolkit==v1.1.0->agentiq[langchain]->math_tools==0.1.0) (1.7.0)\n",
      "Requirement already satisfied: propcache>=0.2.0 in /usr/local/lib/python3.12/site-packages (from aiohttp<4.0.0,>=3.9.2->aiobotocore==2.22.0->aiobotocore[boto3]==2.22.0->aioboto3>=11.0.0->aiqtoolkit==v1.1.0->agentiq[langchain]->math_tools==0.1.0) (0.3.2)\n",
      "Requirement already satisfied: yarl<2.0,>=1.17.0 in /usr/local/lib/python3.12/site-packages (from aiohttp<4.0.0,>=3.9.2->aiobotocore==2.22.0->aiobotocore[boto3]==2.22.0->aioboto3>=11.0.0->aiqtoolkit==v1.1.0->agentiq[langchain]->math_tools==0.1.0) (1.20.1)\n",
      "Requirement already satisfied: s3transfer<0.12.0,>=0.11.0 in /usr/local/lib/python3.12/site-packages (from boto3<1.37.4,>=1.37.2->aiobotocore[boto3]==2.22.0->aioboto3>=11.0.0->aiqtoolkit==v1.1.0->agentiq[langchain]->math_tools==0.1.0) (0.11.3)\n",
      "Requirement already satisfied: marshmallow<4.0.0,>=3.18.0 in /usr/local/lib/python3.12/site-packages (from dataclasses-json<0.7,>=0.5.7->langchain-community->ragas~=0.2.14->aiqtoolkit==v1.1.0->agentiq[langchain]->math_tools==0.1.0) (3.26.1)\n",
      "Requirement already satisfied: typing-inspect<1,>=0.4.0 in /usr/local/lib/python3.12/site-packages (from dataclasses-json<0.7,>=0.5.7->langchain-community->ragas~=0.2.14->aiqtoolkit==v1.1.0->agentiq[langchain]->math_tools==0.1.0) (0.9.0)\n",
      "Requirement already satisfied: filelock in /usr/local/lib/python3.12/site-packages (from huggingface-hub<1.0.0,>=0.14.0->datasets->ragas~=0.2.14->aiqtoolkit==v1.1.0->agentiq[langchain]->math_tools==0.1.0) (3.18.0)\n",
      "Requirement already satisfied: hf-xet<2.0.0,>=1.1.2 in /usr/local/lib/python3.12/site-packages (from huggingface-hub<1.0.0,>=0.14.0->datasets->ragas~=0.2.14->aiqtoolkit==v1.1.0->agentiq[langchain]->math_tools==0.1.0) (1.1.3)\n",
      "Requirement already satisfied: jsonpointer>=1.9 in /usr/local/lib/python3.12/site-packages (from jsonpatch<2.0,>=1.33->langchain-core->ragas~=0.2.14->aiqtoolkit==v1.1.0->agentiq[langchain]->math_tools==0.1.0) (3.0.0)\n",
      "Requirement already satisfied: orjson<4.0.0,>=3.9.14 in /usr/local/lib/python3.12/site-packages (from langsmith<0.4,>=0.1.17->langchain->ragas~=0.2.14->aiqtoolkit==v1.1.0->agentiq[langchain]->math_tools==0.1.0) (3.10.18)\n",
      "Requirement already satisfied: requests-toolbelt<2.0.0,>=1.0.0 in /usr/local/lib/python3.12/site-packages (from langsmith<0.4,>=0.1.17->langchain->ragas~=0.2.14->aiqtoolkit==v1.1.0->agentiq[langchain]->math_tools==0.1.0) (1.0.0)\n",
      "Requirement already satisfied: zstandard<0.24.0,>=0.23.0 in /usr/local/lib/python3.12/site-packages (from langsmith<0.4,>=0.1.17->langchain->ragas~=0.2.14->aiqtoolkit==v1.1.0->agentiq[langchain]->math_tools==0.1.0) (0.23.0)\n",
      "Requirement already satisfied: six>=1.5 in /usr/local/lib/python3.12/site-packages (from python-dateutil<3.0.0,>=2.1->aiobotocore==2.22.0->aiobotocore[boto3]==2.22.0->aioboto3>=11.0.0->aiqtoolkit==v1.1.0->agentiq[langchain]->math_tools==0.1.0) (1.17.0)\n",
      "Requirement already satisfied: greenlet>=1 in /usr/local/lib/python3.12/site-packages (from SQLAlchemy<3,>=1.4->langchain->ragas~=0.2.14->aiqtoolkit==v1.1.0->agentiq[langchain]->math_tools==0.1.0) (3.2.3)\n",
      "Requirement already satisfied: mypy-extensions>=0.3.0 in /usr/local/lib/python3.12/site-packages (from typing-inspect<1,>=0.4.0->dataclasses-json<0.7,>=0.5.7->langchain-community->ragas~=0.2.14->aiqtoolkit==v1.1.0->agentiq[langchain]->math_tools==0.1.0) (1.1.0)\n",
      "Building wheels for collected packages: math_tools\n",
      "  Building editable for math_tools (pyproject.toml) ... \u001b[?25ldone\n",
      "\u001b[?25h  Created wheel for math_tools: filename=math_tools-0.1.0-0.editable-py3-none-any.whl size=1565 sha256=652ee9f162a2e2f113b684854d29d39da8b4293baad29c0e18a657985f6e5dff\n",
      "  Stored in directory: /tmp/pip-ephem-wheel-cache-xg40y_74/wheels/d9/08/5f/87db5f264b0183c3a48d9a5f02882903bcba2570fb32d02dd8\n",
      "Successfully built math_tools\n",
      "Installing collected packages: math_tools\n",
      "  Attempting uninstall: math_tools\n",
      "    Found existing installation: math_tools 0.1.0\n",
      "    Uninstalling math_tools-0.1.0:\n",
      "      Successfully uninstalled math_tools-0.1.0\n",
      "Successfully installed math_tools-0.1.0\n",
      "\u001b[33mWARNING: Running pip as the 'root' user can result in broken permissions and conflicting behaviour with the system package manager, possibly rendering your system unusable. It is recommended to use a virtual environment instead: https://pip.pypa.io/warnings/venv. Use the --root-user-action option if you know what you are doing and want to suppress this warning.\u001b[0m\u001b[33m\n",
      "\u001b[0m\n",
      "\u001b[1m[\u001b[0m\u001b[34;49mnotice\u001b[0m\u001b[1;39;49m]\u001b[0m\u001b[39;49m A new release of pip is available: \u001b[0m\u001b[31;49m25.0.1\u001b[0m\u001b[39;49m -> \u001b[0m\u001b[32;49m25.1.1\u001b[0m\n",
      "\u001b[1m[\u001b[0m\u001b[34;49mnotice\u001b[0m\u001b[1;39;49m]\u001b[0m\u001b[39;49m To update, run: \u001b[0m\u001b[32;49mpip install --upgrade pip\u001b[0m\n",
      "Note: you may need to restart the kernel to use updated packages.\n"
     ]
    }
   ],
   "source": [
    "%pip install -e workflows/math_tools"
   ]
  },
  {
   "cell_type": "markdown",
   "metadata": {},
   "source": [
    "Let's make sure that AgentIQ now has knowledge of the new tools:"
   ]
  },
  {
   "cell_type": "code",
   "execution_count": 20,
   "metadata": {},
   "outputs": [
    {
     "name": "stdout",
     "output_type": "stream",
     "text": [
      "2025-07-11 09:03:45,230 - aiq.runtime.loader - WARNING - Loading module 'aiq.agent.register' from entry point 'aiq_agents' took a long time (322.804213 ms). Ensure all imports are inside your registered functions.\n",
      "                           AIQ Toolkit Search Results                           \n",
      "┏━━━━━━━━━━━━┳━━━━━━━━━┳━━━━━━━━━━━━━━━━┳━━━━━━━━━━━━━━━━━━┳━━━━━━━━━━━━━━━━━━━┓\n",
      "┃ package    ┃ version ┃ component_type ┃ component_name   ┃ description       ┃\n",
      "┡━━━━━━━━━━━━╇━━━━━━━━━╇━━━━━━━━━━━━━━━━╇━━━━━━━━━━━━━━━━━━╇━━━━━━━━━━━━━━━━━━━┩\n",
      "│ math_tools │ 0.1.0   │ function       │ calculator_squar │ Description       │\n",
      "│            │         │                │ e_root           │ unavailable.      │\n",
      "│            │         │                │                  │                   │\n",
      "│            │         │                │                  │   Args:           │\n",
      "│            │         │                │                  │     _type (str):  │\n",
      "│            │         │                │                  │ The type of the   │\n",
      "│            │         │                │                  │ object.           │\n",
      "├────────────┼─────────┼────────────────┼──────────────────┼───────────────────┤\n",
      "│ math_tools │ 0.1.0   │ function       │ calculator_expon │ Description       │\n",
      "│            │         │                │ ent              │ unavailable.      │\n",
      "│            │         │                │                  │                   │\n",
      "│            │         │                │                  │   Args:           │\n",
      "│            │         │                │                  │     _type (str):  │\n",
      "│            │         │                │                  │ The type of the   │\n",
      "│            │         │                │                  │ object.           │\n",
      "├────────────┼─────────┼────────────────┼──────────────────┼───────────────────┤\n",
      "│ math_tools │ 0.1.0   │ function       │ calculator_modul │ Description       │\n",
      "│            │         │                │ us               │ unavailable.      │\n",
      "│            │         │                │                  │                   │\n",
      "│            │         │                │                  │   Args:           │\n",
      "│            │         │                │                  │     _type (str):  │\n",
      "│            │         │                │                  │ The type of the   │\n",
      "│            │         │                │                  │ object.           │\n",
      "├────────────┼─────────┼────────────────┼──────────────────┼───────────────────┤\n",
      "│ math_tools │ 0.1.0   │ function       │ calculator_add   │ Description       │\n",
      "│            │         │                │                  │ unavailable.      │\n",
      "│            │         │                │                  │                   │\n",
      "│            │         │                │                  │   Args:           │\n",
      "│            │         │                │                  │     _type (str):  │\n",
      "│            │         │                │                  │ The type of the   │\n",
      "│            │         │                │                  │ object.           │\n",
      "├────────────┼─────────┼────────────────┼──────────────────┼───────────────────┤\n",
      "│ aiqtoolkit │ 1.1.0   │ function       │ current_request_ │ A simple tool     │\n",
      "│            │         │                │ attributes       │ that demonstrates │\n",
      "│            │         │                │                  │ how to retrieve   │\n",
      "│            │         │                │                  │ user-defined      │\n",
      "│            │         │                │                  │ request           │\n",
      "│            │         │                │                  │ attributes from   │\n",
      "│            │         │                │                  │ HTTP requests     │\n",
      "│            │         │                │                  │     within        │\n",
      "│            │         │                │                  │ workflow tools.   │\n",
      "│            │         │                │                  │ Please refer to   │\n",
      "│            │         │                │                  │ the 'general'     │\n",
      "│            │         │                │                  │ section of the    │\n",
      "│            │         │                │                  │ configuration     │\n",
      "│            │         │                │                  │ file located in   │\n",
      "│            │         │                │                  │ the               │\n",
      "│            │         │                │                  │     'examples/sim │\n",
      "│            │         │                │                  │ ple_calculator/co │\n",
      "│            │         │                │                  │ nfigs/config-meta │\n",
      "│            │         │                │                  │ data.yml'         │\n",
      "│            │         │                │                  │ directory to see  │\n",
      "│            │         │                │                  │ how to define a   │\n",
      "│            │         │                │                  │ custom route      │\n",
      "│            │         │                │                  │ using a           │\n",
      "│            │         │                │                  │     YAML file and │\n",
      "│            │         │                │                  │ associate it with │\n",
      "│            │         │                │                  │ a corresponding   │\n",
      "│            │         │                │                  │ function to       │\n",
      "│            │         │                │                  │ acquire request   │\n",
      "│            │         │                │                  │ attributes.       │\n",
      "│            │         │                │                  │                   │\n",
      "│            │         │                │                  │   Args:           │\n",
      "│            │         │                │                  │     _type (str):  │\n",
      "│            │         │                │                  │ The type of the   │\n",
      "│            │         │                │                  │ object.           │\n",
      "└────────────┴─────────┴────────────────┴──────────────────┴───────────────────┘\n",
      "2025-07-11 09:03:45,464 - aiq.registry_handlers.local.local_handler - INFO - Execution complete.\n",
      "\u001b[0m\u001b[0m"
     ]
    }
   ],
   "source": [
    "!aiq info components -t function -q calculator"
   ]
  },
  {
   "cell_type": "markdown",
   "metadata": {},
   "source": [
    "### 3. Creating the Configuration Directory\n",
    "\n",
    "Next, we'll create a directory to store our configuration files. As mentioned, this file can be stored anywhere, but we'll put it with our workflow:"
   ]
  },
  {
   "cell_type": "code",
   "execution_count": 21,
   "metadata": {},
   "outputs": [],
   "source": [
    "!mkdir -p workflows/math_tools/configs"
   ]
  },
  {
   "cell_type": "markdown",
   "metadata": {},
   "source": [
    "### 4. Updating the Configuration\n",
    "\n",
    "Now we'll update our configuration file to include the new tools we've created. We'll add them to the `functions` section and reference them in the `tool_names` list."
   ]
  },
  {
   "cell_type": "code",
   "execution_count": 22,
   "metadata": {},
   "outputs": [
    {
     "name": "stdout",
     "output_type": "stream",
     "text": [
      "Overwriting workflows/math_tools/configs/config.yml\n"
     ]
    }
   ],
   "source": [
    "%%writefile workflows/math_tools/configs/config.yml\n",
    "\n",
    "general:\n",
    "  use_uvloop: true\n",
    "\n",
    "functions:\n",
    "  calculator_exponent:\n",
    "    _type: calculator_exponent\n",
    "  calculator_modulus:\n",
    "    _type: calculator_modulus\n",
    "  calculator_square_root:\n",
    "    _type: calculator_square_root\n",
    "  calculator_add:\n",
    "    _type: calculator_add\n",
    "\n",
    "llms:\n",
    "  nim_llm:\n",
    "    _type: nim\n",
    "    model_name: meta/llama-3.1-70b-instruct\n",
    "    temperature: 0.0\n",
    "\n",
    "workflow:\n",
    "  _type: react_agent\n",
    "  tool_names:\n",
    "    - calculator_exponent\n",
    "    - calculator_modulus\n",
    "    - calculator_square_root\n",
    "    - calculator_add\n",
    "  llm_name: nim_llm\n",
    "  verbose: true\n"
   ]
  },
  {
   "cell_type": "markdown",
   "metadata": {},
   "source": [
    "### 5. Testing the Updated Workflow\n",
    "\n",
    "Now that we've added our custom tools and updated the configuration, let's run the workflow again with a math question. This time, the agent should:\n",
    "\n",
    "1. Parse the question to understand what's being asked\n",
    "2. Decide which tools to use (multiplication and possibly addition)\n",
    "3. Call the appropriate tools with the right inputs\n",
    "4. Combine the results to provide a final answer"
   ]
  },
  {
   "cell_type": "code",
   "execution_count": 23,
   "metadata": {},
   "outputs": [
    {
     "name": "stdout",
     "output_type": "stream",
     "text": [
      "Math Problem: \"(2 + sqrt(50) + 23^9) mod 13\"\n",
      "2025-07-11 09:03:48,413 - aiq.runtime.loader - WARNING - Loading module 'aiq.agent.register' from entry point 'aiq_agents' took a long time (335.198164 ms). Ensure all imports are inside your registered functions.\n",
      "2025-07-11 09:03:48,547 - aiq.cli.commands.start - INFO - Starting AIQ Toolkit from config file: 'workflows/math_tools/configs/config.yml'\n",
      "2025-07-11 09:03:48,549 - aiq.cli.commands.start - WARNING - The front end type in the config file (fastapi) does not match the command name (console). Overwriting the config file front end.\n",
      "\n",
      "Configuration Summary:\n",
      "--------------------\n",
      "Workflow Type: react_agent\n",
      "Number of Functions: 4\n",
      "Number of LLMs: 1\n",
      "Number of Embedders: 0\n",
      "Number of Memory: 0\n",
      "Number of Retrievers: 0\n",
      "\n",
      "2025-07-11 09:03:50,798 - aiq.agent.react_agent.agent - INFO - \n",
      "------------------------------\n",
      "[AGENT]\n",
      "\u001b[33mAgent input: \"(2 + sqrt(50) + 23^9) mod 13\"\n",
      "\u001b[36mAgent's thoughts: \n",
      "Thought: To solve this problem, I need to follow the order of operations (PEMDAS). First, I need to calculate the square root of 50.\n",
      "\n",
      "Action: calculator_square_root\n",
      "Action Input: {\"text\": \"50\"}\n",
      "\n",
      "\u001b[39m\n",
      "------------------------------\n",
      "2025-07-11 09:03:50,802 - aiq.agent.react_agent.agent - INFO - \n",
      "------------------------------\n",
      "[AGENT]\n",
      "\u001b[37mCalling tools: calculator_square_root\n",
      "\u001b[33mTool's input: {\"text\": \"50\"}\n",
      "\u001b[36mTool's response: \n",
      "The square root of 50.0 is 7.0710678118654755\u001b[39m\n",
      "------------------------------\n",
      "2025-07-11 09:03:52,058 - aiq.agent.react_agent.agent - INFO - \n",
      "------------------------------\n",
      "[AGENT]\n",
      "\u001b[33mAgent input: \"(2 + sqrt(50) + 23^9) mod 13\"\n",
      "\u001b[36mAgent's thoughts: \n",
      "Thought: Now that I have the square root of 50, I can add 2 and 23^9 to it. However, I need to calculate 23^9 first.\n",
      "\n",
      "Action: calculator_exponent\n",
      "Action Input: {\"text\": \"23^9\"}\u001b[39m\n",
      "------------------------------\n",
      "2025-07-11 09:03:52,061 - aiq.agent.react_agent.agent - INFO - \n",
      "------------------------------\n",
      "[AGENT]\n",
      "\u001b[37mCalling tools: calculator_exponent\n",
      "\u001b[33mTool's input: {\"text\": \"23^9\"}\n",
      "\u001b[36mTool's response: \n",
      "The result of 23.0 raised to the power of 9.0 is 1801152661463.0\u001b[39m\n",
      "------------------------------\n",
      "2025-07-11 09:03:53,401 - aiq.agent.react_agent.agent - INFO - \n",
      "------------------------------\n",
      "[AGENT]\n",
      "\u001b[33mAgent input: \"(2 + sqrt(50) + 23^9) mod 13\"\n",
      "\u001b[36mAgent's thoughts: \n",
      "Thought: Now that I have the result of 23^9, I can add 2, the square root of 50, and 23^9 together.\n",
      "\n",
      "Action: calculator_add\n",
      "Action Input: {\"text\": \"2 + 7.0710678118654755 + 1801152661463.0\"}\u001b[39m\n",
      "------------------------------\n",
      "2025-07-11 09:03:53,404 - aiq.agent.react_agent.agent - INFO - \n",
      "------------------------------\n",
      "[AGENT]\n",
      "\u001b[37mCalling tools: calculator_add\n",
      "\u001b[33mTool's input: {\"text\": \"2 + 7.0710678118654755 + 1801152661463.0\"}\n",
      "\u001b[36mTool's response: \n",
      "Not implemented\u001b[39m\n",
      "------------------------------\n",
      "2025-07-11 09:03:55,645 - aiq.agent.react_agent.agent - INFO - \n",
      "------------------------------\n",
      "[AGENT]\n",
      "\u001b[33mAgent input: \"(2 + sqrt(50) + 23^9) mod 13\"\n",
      "\u001b[36mAgent's thoughts: \n",
      "Thought: It seems that the calculator_add tool does not support adding a large number of values. I will try to add the values manually.\n",
      "\n",
      "2 + 7.0710678118654755 = 9.0710678118654755\n",
      "9.0710678118654755 + 1801152661463.0 = 1801152661472.0710678118654755\n",
      "\n",
      "Now that I have the sum, I can calculate the modulus of the sum with 13.\n",
      "\n",
      "Action: calculator_modulus\n",
      "Action Input: {\"text\": \"1801152661472.0710678118654755 mod 13\"}\u001b[39m\n",
      "------------------------------\n",
      "2025-07-11 09:03:55,647 - aiq.agent.react_agent.agent - INFO - \n",
      "------------------------------\n",
      "[AGENT]\n",
      "\u001b[37mCalling tools: calculator_modulus\n",
      "\u001b[33mTool's input: {\"text\": \"1801152661472.0710678118654755 mod 13\"}\n",
      "\u001b[36mTool's response: \n",
      "The remainder of 1801152661472.071 divided by 13.0 is 8.071044921875\u001b[39m\n",
      "------------------------------\n",
      "2025-07-11 09:03:56,695 - aiq.agent.react_agent.agent - INFO - \n",
      "------------------------------\n",
      "[AGENT]\n",
      "\u001b[33mAgent input: \"(2 + sqrt(50) + 23^9) mod 13\"\n",
      "\u001b[36mAgent's thoughts: \n",
      "Thought: I now know the final answer\n",
      "\n",
      "Final Answer: The final answer to the original input question \"(2 + sqrt(50) + 23^9) mod 13\" is 8.071044921875.\u001b[39m\n",
      "------------------------------\n",
      "2025-07-11 09:03:56,696 - aiq.front_ends.console.console_front_end_plugin - INFO - \n",
      "--------------------------------------------------\n",
      "\u001b[32mWorkflow Result:\n",
      "['The final answer to the original input question \"(2 + sqrt(50) + 23^9) mod 13\" is 8.071044921875.']\u001b[39m\n",
      "--------------------------------------------------\n",
      "\u001b[0m\u001b[0m"
     ]
    }
   ],
   "source": [
    "!echo \"Math Problem: $MATH_PROBLEM\"\n",
    "!aiq run --config_file workflows/math_tools/configs/config.yml --input \"$MATH_PROBLEM\""
   ]
  },
  {
   "cell_type": "markdown",
   "metadata": {},
   "source": [
    "With a reasonable amount of probability (and a little bit of luck!), our agent should now proudly present the correct answer of around `8.071044921875`."
   ]
  },
  {
   "cell_type": "markdown",
   "metadata": {},
   "source": [
    "## Enhancing Our Agent with Built-in Functions\n",
    "\n",
    "So far, we've created custom tools for our agent. However, AgentIQ also provides several built-in functions that we can leverage without writing any code. One such function is `current_datetime`, which returns the current date and time.\n",
    "\n",
    "### 1. The current_datetime Function\n",
    "\n",
    "This built-in function:\n",
    "- Returns the current date and time in human redable format\n",
    "- Can be used to create time-aware agents\n",
    "- Allows for temporal reasoning in agent responses\n",
    "- Requires no implementation from us\n",
    "\n",
    "Let's explore this function:"
   ]
  },
  {
   "cell_type": "code",
   "execution_count": 24,
   "metadata": {},
   "outputs": [
    {
     "name": "stdout",
     "output_type": "stream",
     "text": [
      "2025-07-11 09:03:59,203 - aiq.runtime.loader - WARNING - Loading module 'aiq.agent.register' from entry point 'aiq_agents' took a long time (322.660685 ms). Ensure all imports are inside your registered functions.\n",
      "                           AIQ Toolkit Search Results                           \n",
      "┏━━━━━━━━━━━━┳━━━━━━━━━┳━━━━━━━━━━━━━━━━┳━━━━━━━━━━━━━━━━━━┳━━━━━━━━━━━━━━━━━━━┓\n",
      "┃ package    ┃ version ┃ component_type ┃ component_name   ┃ description       ┃\n",
      "┡━━━━━━━━━━━━╇━━━━━━━━━╇━━━━━━━━━━━━━━━━╇━━━━━━━━━━━━━━━━━━╇━━━━━━━━━━━━━━━━━━━┩\n",
      "│ aiqtoolkit │ 1.1.0   │ function       │ current_datetime │ Simple tool which │\n",
      "│            │         │                │                  │ returns the       │\n",
      "│            │         │                │                  │ current date and  │\n",
      "│            │         │                │                  │ time in human     │\n",
      "│            │         │                │                  │ readable format.  │\n",
      "│            │         │                │                  │                   │\n",
      "│            │         │                │                  │   Args:           │\n",
      "│            │         │                │                  │     _type (str):  │\n",
      "│            │         │                │                  │ The type of the   │\n",
      "│            │         │                │                  │ object.           │\n",
      "└────────────┴─────────┴────────────────┴──────────────────┴───────────────────┘\n",
      "2025-07-11 09:03:59,434 - aiq.registry_handlers.local.local_handler - INFO - Execution complete.\n",
      "\u001b[0m\u001b[0m"
     ]
    }
   ],
   "source": [
    "# Check if the current_datetime function is available\n",
    "!aiq info components -t function -q current_datetime"
   ]
  },
  {
   "cell_type": "markdown",
   "metadata": {},
   "source": [
    "Let's update our configuration to include this built-in function. We'll need to:\n",
    "1. Add the function to the `functions` section of our config\n",
    "2. Add it to the `tool_names` list in the workflow section\n",
    "\n",
    "This will make the function available to our agent alongside our custom math tools."
   ]
  },
  {
   "cell_type": "code",
   "execution_count": 25,
   "metadata": {},
   "outputs": [
    {
     "name": "stdout",
     "output_type": "stream",
     "text": [
      "Overwriting workflows/math_tools/configs/config.yml\n"
     ]
    }
   ],
   "source": [
    "%%writefile workflows/math_tools/configs/config.yml\n",
    "\n",
    "general:\n",
    "  use_uvloop: true\n",
    "\n",
    "functions:\n",
    "  calculator_exponent:\n",
    "    _type: calculator_exponent\n",
    "  calculator_modulus:\n",
    "    _type: calculator_modulus\n",
    "  calculator_square_root:\n",
    "    _type: calculator_square_root\n",
    "  calculator_add:\n",
    "    _type: calculator_add\n",
    "  current_datetime:\n",
    "    _type: current_datetime\n",
    "\n",
    "llms:\n",
    "  nim_llm:\n",
    "    _type: nim\n",
    "    model_name: meta/llama-3.1-70b-instruct\n",
    "    temperature: 0.0\n",
    "\n",
    "workflow:\n",
    "  _type: react_agent\n",
    "  tool_names:\n",
    "    - calculator_exponent\n",
    "    - calculator_modulus\n",
    "    - calculator_square_root\n",
    "    - calculator_add\n",
    "    - current_datetime\n",
    "  llm_name: nim_llm\n",
    "  verbose: true\n"
   ]
  },
  {
   "cell_type": "markdown",
   "metadata": {},
   "source": [
    "### 2. Testing Combined Capabilities\n",
    "\n",
    "Let's test our agent with a question that requires both mathematical operations and time awareness. For this test, we'll ask if an exponentiation result is greater than the current hour. The agent should:\n",
    "\n",
    "1. Get the current time using the `current_datetime` function\n",
    "2. Extract the hour from the datetime\n",
    "3. Perform the exponentiation using `calculator_exponent`"
   ]
  },
  {
   "cell_type": "code",
   "execution_count": 26,
   "metadata": {},
   "outputs": [
    {
     "name": "stdout",
     "output_type": "stream",
     "text": [
      "2025-07-11 09:04:01,948 - aiq.runtime.loader - WARNING - Loading module 'aiq.agent.register' from entry point 'aiq_agents' took a long time (340.271235 ms). Ensure all imports are inside your registered functions.\n",
      "2025-07-11 09:04:02,084 - aiq.cli.commands.start - INFO - Starting AIQ Toolkit from config file: 'workflows/math_tools/configs/config.yml'\n",
      "2025-07-11 09:04:02,086 - aiq.cli.commands.start - WARNING - The front end type in the config file (fastapi) does not match the command name (console). Overwriting the config file front end.\n",
      "\n",
      "Configuration Summary:\n",
      "--------------------\n",
      "Workflow Type: react_agent\n",
      "Number of Functions: 5\n",
      "Number of LLMs: 1\n",
      "Number of Embedders: 0\n",
      "Number of Memory: 0\n",
      "Number of Retrievers: 0\n",
      "\n",
      "2025-07-11 09:04:03,673 - aiq.agent.react_agent.agent - INFO - \n",
      "------------------------------\n",
      "[AGENT]\n",
      "\u001b[33mAgent input: Is 10 mod 3 greater than the current hour?\n",
      "\u001b[36mAgent's thoughts: \n",
      "Thought: To answer this question, I need to calculate the modulus of 10 and 3, and then compare it to the current hour.\n",
      "\n",
      "Action: calculator_modulus\n",
      "Action Input: {\"text\": \"10 mod 3\"}\n",
      "\n",
      "\u001b[39m\n",
      "------------------------------\n",
      "2025-07-11 09:04:03,676 - aiq.agent.react_agent.agent - INFO - \n",
      "------------------------------\n",
      "[AGENT]\n",
      "\u001b[37mCalling tools: calculator_modulus\n",
      "\u001b[33mTool's input: {\"text\": \"10 mod 3\"}\n",
      "\u001b[36mTool's response: \n",
      "The remainder of 10.0 divided by 3.0 is 1.0\u001b[39m\n",
      "------------------------------\n",
      "2025-07-11 09:04:04,729 - aiq.agent.react_agent.agent - INFO - \n",
      "------------------------------\n",
      "[AGENT]\n",
      "\u001b[33mAgent input: Is 10 mod 3 greater than the current hour?\n",
      "\u001b[36mAgent's thoughts: \n",
      "Thought: Now that I have the result of the modulus operation, I need to compare it to the current hour. To do this, I need to get the current date and time.\n",
      "\n",
      "Action: current_datetime\n",
      "Action Input: None\u001b[39m\n",
      "------------------------------\n",
      "2025-07-11 09:04:04,731 - aiq.agent.react_agent.agent - INFO - \n",
      "------------------------------\n",
      "[AGENT]\n",
      "\u001b[37mCalling tools: current_datetime\n",
      "\u001b[33mTool's input: None\n",
      "\u001b[36mTool's response: \n",
      "The current time of day is 2025-07-11 09:04:04\u001b[39m\n",
      "------------------------------\n",
      "2025-07-11 09:04:05,585 - aiq.agent.react_agent.agent - INFO - \n",
      "------------------------------\n",
      "[AGENT]\n",
      "\u001b[33mAgent input: Is 10 mod 3 greater than the current hour?\n",
      "\u001b[36mAgent's thoughts: \n",
      "Thought: Now that I have the current date and time, I can compare the result of the modulus operation (1) to the current hour (9).\n",
      "\n",
      "\u001b[39m\n",
      "------------------------------\n",
      "2025-07-11 09:04:05,586 - aiq.agent.react_agent.agent - WARNING - [AGENT] Error parsing agent output\n",
      "Observation:Invalid Format: Missing 'Action:' after 'Thought:'\n",
      "Agent Output:\n",
      "Thought: Now that I have the current date and time, I can compare the result of the modulus operation (1) to the current hour (9).\n",
      "\n",
      "\n",
      "2025-07-11 09:04:05,586 - aiq.agent.react_agent.agent - INFO - [AGENT] Retrying ReAct Agent, including output parsing Observation\n",
      "2025-07-11 09:04:06,589 - aiq.agent.react_agent.agent - INFO - \n",
      "------------------------------\n",
      "[AGENT]\n",
      "\u001b[33mAgent input: Is 10 mod 3 greater than the current hour?\n",
      "\u001b[36mAgent's thoughts: \n",
      "Thought: Now that I have the current date and time, I can compare the result of the modulus operation (1) to the current hour (9).\n",
      "\n",
      "Action: None\n",
      "Action Input: None\n",
      "\u001b[39m\n",
      "------------------------------\n",
      "2025-07-11 09:04:06,590 - aiq.agent.react_agent.agent - WARNING - [AGENT] ReAct Agent wants to call tool None. In the ReAct Agent's configuration within the config file,there is no tool with that name: ['calculator_exponent', 'calculator_modulus', 'calculator_square_root', 'calculator_add', 'current_datetime']\n",
      "2025-07-11 09:04:08,051 - aiq.agent.react_agent.agent - INFO - \n",
      "------------------------------\n",
      "[AGENT]\n",
      "\u001b[33mAgent input: Is 10 mod 3 greater than the current hour?\n",
      "\u001b[36mAgent's thoughts: \n",
      "Thought: Now that I have the current date and time, I can compare the result of the modulus operation (1) to the current hour (9).\n",
      "\n",
      "Since 1 is less than 9, I can conclude that 10 mod 3 is not greater than the current hour.\n",
      "\n",
      "Final Answer: No, 10 mod 3 is not greater than the current hour.\u001b[39m\n",
      "------------------------------\n",
      "2025-07-11 09:04:08,052 - aiq.front_ends.console.console_front_end_plugin - INFO - \n",
      "--------------------------------------------------\n",
      "\u001b[32mWorkflow Result:\n",
      "['No, 10 mod 3 is not greater than the current hour.']\u001b[39m\n",
      "--------------------------------------------------\n",
      "\u001b[0m\u001b[0m"
     ]
    }
   ],
   "source": [
    "!aiq run --config_file workflows/math_tools/configs/config.yml --input \"Is 10 mod 3 greater than the current hour?\""
   ]
  },
  {
   "cell_type": "markdown",
   "metadata": {},
   "source": [
    "## Running AgentIQ as an API Server\n",
    "\n",
    "Now that we've tested our agent's capabilities directly, let's explore how to deploy it as an API service that can be accessed by other applications.\n"
   ]
  },
  {
   "cell_type": "markdown",
   "metadata": {},
   "source": [
    "### 1. Starting the API Server\n",
    "\n",
    "Let's start the AgentIQ server to host our agent as an API. We'll run it in the background so we can continue working in the notebook."
   ]
  },
  {
   "cell_type": "code",
   "execution_count": 27,
   "metadata": {},
   "outputs": [
    {
     "data": {
      "text/html": [
       "<pre>Started 'math_tools_server' (PID: 1050)</pre>"
      ],
      "text/plain": [
       "<IPython.core.display.HTML object>"
      ]
     },
     "execution_count": 27,
     "metadata": {},
     "output_type": "execute_result"
    }
   ],
   "source": [
    "%run_background --command \"aiq serve --config_file workflows/math_tools/configs/config.yml --port 4567\" --name \"math_tools_server\"  "
   ]
  },
  {
   "cell_type": "markdown",
   "metadata": {},
   "source": [
    "### 2. Calling the API\n",
    "\n",
    "Now that the server is running, let's test it by sending a request using curl. We'll send a math question to see if our agent can solve it.\n",
    "\n",
    "**If you get an error running the next cell, try again after a few seconds**\n",
    "\n",
    "(it can take a little bit of time for the server to start)"
   ]
  },
  {
   "cell_type": "code",
   "execution_count": 28,
   "metadata": {},
   "outputs": [
    {
     "name": "stdout",
     "output_type": "stream",
     "text": [
      "{'value': 'No, the square root of 100 (10) is not less than the current day of the month (11).'}\n"
     ]
    }
   ],
   "source": [
    "import requests\n",
    "\n",
    "response = requests.post(\n",
    "    url=\"http://localhost:4567/generate\",\n",
    "    headers={\"Content-Type\": \"application/json\"},\n",
    "    json={\"input_message\": \"Is sqrt(100) less than the current day of the month?\"}\n",
    ")\n",
    "\n",
    "print(response.json())"
   ]
  },
  {
   "cell_type": "markdown",
   "metadata": {},
   "source": [
    "### 3. Stopping the Server\n",
    "\n",
    "When we're done testing, we should stop the server to free up resources."
   ]
  },
  {
   "cell_type": "code",
   "execution_count": 29,
   "metadata": {},
   "outputs": [
    {
     "data": {
      "text/html": [
       "<pre>Stopped 'math_tools_server' (PID: 1050)</pre>"
      ],
      "text/plain": [
       "<IPython.core.display.HTML object>"
      ]
     },
     "execution_count": 29,
     "metadata": {},
     "output_type": "execute_result"
    }
   ],
   "source": [
    "%stop_background math_tools_server"
   ]
  },
  {
   "cell_type": "markdown",
   "metadata": {},
   "source": [
    "## Summary\n",
    "\n",
    "In this notebook, we've created a custom AgentIQ workflow with mathematical tools. We've learned how to:\n",
    "\n",
    "1. Set up the project structure\n",
    "2. Create and configure a ReAct agent\n",
    "3. Implement custom tools for mathematical operations\n",
    "4. Enhance our agent with built-in functions\n",
    "5. Deploy our agent as an API service\n",
    "\n",
    "In the next notebook, we'll explore how to evaluate and profile our agent to ensure it performs well and meets our requirements."
   ]
  },
  {
   "cell_type": "code",
   "execution_count": null,
   "metadata": {},
   "outputs": [],
   "source": []
  }
 ],
 "metadata": {
  "kernelspec": {
   "display_name": "Python 3 (ipykernel)",
   "language": "python",
   "name": "python3"
  },
  "language_info": {
   "codemirror_mode": {
    "name": "ipython",
    "version": 3
   },
   "file_extension": ".py",
   "mimetype": "text/x-python",
   "name": "python",
   "nbconvert_exporter": "python",
   "pygments_lexer": "ipython3",
   "version": "3.12.11"
  }
 },
 "nbformat": 4,
 "nbformat_minor": 4
}
