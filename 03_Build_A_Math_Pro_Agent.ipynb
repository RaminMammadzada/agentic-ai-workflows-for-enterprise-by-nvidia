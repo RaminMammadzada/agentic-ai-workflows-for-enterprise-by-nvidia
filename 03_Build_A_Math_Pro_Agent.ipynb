{
 "cells": [
  {
   "cell_type": "markdown",
   "metadata": {},
   "source": [
    "<a href=\"https://www.nvidia.com/dli\"> <img src=\"images/nvidia_header.png\" style=\"margin-left: -30px; width: 300px; float: left;\"> </a>"
   ]
  },
  {
   "cell_type": "markdown",
   "metadata": {},
   "source": [
    "# Creating and Running a Custom AgentIQ Workflow\n",
    "\n",
    "## Agent Types in AgentIQ\n",
    "\n",
    "AgentIQ supports several types of agents, each with different capabilities and use cases:\n",
    "\n",
    "1. **ReAct Agent**: Based on the Reasoning + Acting paradigm, this agent performs reasoning between tool calls and can use multiple tools to solve complex problems. It follows an iterative thought process of observation, reasoning, action, and feedback.\n",
    "\n",
    "2. **Tool Calling Agent**: Leverages the native function/tool calling capabilities of modern LLMs. This agent uses tool input schemas to appropriately route requests to the correct tools without requiring explicit reasoning steps between calls.\n",
    "\n",
    "3. **Reasoning Agent**: Builds on top of an underlying function (like a ReAct or Tool Calling agent) and adds additional reasoning capabilities. This agent type is useful when you need enhanced reasoning on top of another agent's functionality.\n",
    "\n",
    "4. **Custom Agents**: AgentIQ is pluggable, so you can create or integrate other agentic workflows\n",
    "\n",
    "In this notebook, we'll start with a simple agent, and then we'll be working with a **ReAct Agent** to build our math tools workflow.\n",
    "\n",
    "Let's define a semi-difficult math problem for our agent to attempt to solve."
   ]
  },
  {
   "cell_type": "code",
   "execution_count": null,
   "metadata": {},
   "outputs": [],
   "source": [
    "%env MATH_PROBLEM=\"2 + (4 + 1) * (9 - 3 + 4) * 2 + 2 + 3\""
   ]
  },
  {
   "cell_type": "markdown",
   "metadata": {},
   "source": [
    "(spoiler alert: it's 107)"
   ]
  },
  {
   "cell_type": "markdown",
   "metadata": {},
   "source": [
    "## Creating an AgentIQ Workflow\n",
    "\n",
    "First, we'll create a workflow using existing AgentIQ components. This will be a simple LLM-powered agent that can respond to text."
   ]
  },
  {
   "cell_type": "markdown",
   "metadata": {},
   "source": [
    "### 1. Put the Workflow Config Anywhere\n",
    "\n",
    "Workflow configurations are yaml files that compose the components that AgentIQ is aware of. They can go anywhere, so let's create a directory to hold the workflow files that we will be working with."
   ]
  },
  {
   "cell_type": "code",
   "execution_count": null,
   "metadata": {},
   "outputs": [],
   "source": [
    "!mkdir -p workflows"
   ]
  },
  {
   "cell_type": "markdown",
   "metadata": {},
   "source": [
    "### 2. Create a Workflow Config\n",
    "\n",
    "Now we'll create a workflow configuration file. This YAML file will define the components of our agent, including:\n",
    " \n",
    "1. The type of the workflow (or, in other words, the type of the agent)\n",
    "2. The configuration for the workflow\n",
    "3. Any tools the agent can use\n",
    " \n",
    "The workflow configuration is the composition blueprint for how our agent will function. We'll start with a basic configuration and then enhance it with math capabilities later."
   ]
  },
  {
   "cell_type": "code",
   "execution_count": null,
   "metadata": {},
   "outputs": [],
   "source": [
    "%%writefile workflows/simple_llm_config.yml\n",
    "\n",
    "general:\n",
    "  use_uvloop: true\n",
    "\n",
    "llms:\n",
    "  nim_llm:\n",
    "    _type: nim\n",
    "    model_name: meta/llama-3.1-70b-instruct\n",
    "    temperature: 0.0\n",
    "    max_tokens: 2048\n",
    "\n",
    "workflow:\n",
    "  _type: simple_llm_call\n",
    "  llm_name: nim_llm\n"
   ]
  },
  {
   "cell_type": "markdown",
   "metadata": {},
   "source": [
    "Let's break down the configuration file:\n",
    "\n",
    "- **general**: Contains general settings for the workflow\n",
    "  - `use_uvloop: true`: Enables uvloop for better async performance\n",
    "\n",
    "- **llms**: Defines the language models used in the workflow\n",
    "  - `nim_llm`: A NIM-based LLM configuration\n",
    "    - `_type: nim`: Specifies that this is a NIM model\n",
    "    - `model_name: meta/llama-3.1-70b-instruct`: Uses the 70B parameter Llama 3.1 model\n",
    "    - `temperature: 0.0`: Sets deterministic output (no randomness)\n",
    "\n",
    "- **workflow**: Defines the agent workflow\n",
    "  - `_type: simple_llm_call`: Uses a simple agent that makes a single call to an LLM\n",
    "  - `llm_name: nim_llm`: References the LLM defined above\n",
    "\n",
    "This configuration creates a simple agent that relies solely on the LLM's pre-trained knowledge to answer questions."
   ]
  },
  {
   "cell_type": "markdown",
   "metadata": {},
   "source": [
    "### 3. Run the Workflow\n",
    "\n",
    "Now let's run our workflow to see it in action. We'll use the `aiq workflow run` command, specifying the path to our configuration file.\n",
    "\n",
    "This command will start the workflow defined in our configuration file. The workflow will use the specified LLM (nim_llm) to process inputs and generate responses.\n",
    "\n",
    "Even given the semi-complex math equation, the LLM will still likely return the right answer (107)."
   ]
  },
  {
   "cell_type": "code",
   "execution_count": null,
   "metadata": {},
   "outputs": [],
   "source": [
    "!echo \"Math Problem: $MATH_PROBLEM\"\n",
    "!aiq run --config_file workflows/simple_llm_config.yml --input \"Reasoning off. Solve $MATH_PROBLEM\""
   ]
  },
  {
   "cell_type": "markdown",
   "metadata": {},
   "source": [
    "But... if the equation gets harder, we may go beyond what Llama 3.1 70B can handle."
   ]
  },
  {
   "cell_type": "code",
   "execution_count": null,
   "metadata": {},
   "outputs": [],
   "source": [
    "%env MATH_PROBLEM=\"(2 + sqrt(50) + 23^9) mod 13\""
   ]
  },
  {
   "cell_type": "markdown",
   "metadata": {},
   "source": [
    "This number is 8.07006-ish (obviously).\n",
    "\n",
    "Let's ask our llm to do this entirely on its own in one shot. I'm so sorry, Llama 3.1 70B."
   ]
  },
  {
   "cell_type": "code",
   "execution_count": null,
   "metadata": {},
   "outputs": [],
   "source": [
    "!echo \"Math Problem: $MATH_PROBLEM\"\n",
    "!aiq run --config_file workflows/simple_llm_config.yml --input \"$MATH_PROBLEM\""
   ]
  },
  {
   "cell_type": "markdown",
   "metadata": {},
   "source": [
    "It just gives up and cannot solve this complicated equation. Good try anyway, Llama 3.1 70B. Help is on the way."
   ]
  },
  {
   "cell_type": "markdown",
   "metadata": {},
   "source": [
    "## Creating a Custom AgentIQ Workflow\n",
    "\n",
    "Now we'll create a custom workflow for our math tools agent. The workflow will be a ReAct agent that can perform various mathematical operations that we provide for it as well as doing general reasoning on its own."
   ]
  },
  {
   "cell_type": "markdown",
   "metadata": {},
   "source": [
    "## ReAct Agents in AgentIQ\n",
    "\n",
    "ReAct agents are based on the [ReAct paper](https://react-lm.github.io/) and follow an iterative thought process to solve problems:\n",
    "\n",
    "1. **Observation** – The agent receives an input or problem to solve.\n",
    "2. **Reasoning (Thought)** – The agent thinks about what to do next.\n",
    "3. **Action** – The agent calls a tool (like a calculator, search API, etc.).\n",
    "4. **Observation (Feedback)** – The agent examines the tool's response.\n",
    "5. **Repeat** – If more steps are needed, it repeats the process.\n",
    "\n",
    "ReAct agents are particularly powerful because they can reason between tool calls and use multiple tools to answer a question, making them flexible for complex tasks."
   ]
  },
  {
   "cell_type": "markdown",
   "metadata": {},
   "source": [
    "### 1. Creating New Workflow Components\n",
    "\n",
    "Now we'll create a new AgentIQ workflow named `math_tools`.\n",
    "\n",
    "The `--no-install` flag prevents AgentIQ from installing the tool during creation (so we can see how to manually install it later), and the `--workflow-dir` flag specifies where to create the workflow. We'll put it in the workflows directory we created earlier, though we could put it anywhere."
   ]
  },
  {
   "cell_type": "code",
   "execution_count": null,
   "metadata": {},
   "outputs": [],
   "source": [
    "!aiq workflow create --no-install --workflow-dir workflows math_tools"
   ]
  },
  {
   "cell_type": "markdown",
   "metadata": {},
   "source": [
    "Let's examine what was just created:"
   ]
  },
  {
   "cell_type": "code",
   "execution_count": null,
   "metadata": {},
   "outputs": [],
   "source": [
    "!tree workflows/math_tools"
   ]
  },
  {
   "cell_type": "markdown",
   "metadata": {},
   "source": [
    "`aiq workflow create` has given us a basic library directory with the following:\n",
    "- boilerplate `pyproject.toml`\n",
    "- `src/math_tools/` directory with the following files:\n",
    "    - `__init__.py` - empty initialization file (we will not be using this in this course)\n",
    "    - `math_tools_function.py` - the file containing the (now-empty) logic for the function component we will write. The boilerplate tool code currently simply parrots back what it is given.\n",
    "    - `register.py` - AgentIQ entrypoint for defining tools or other extensions.\n",
    "\n",
    "These files are not very useful initially, but we will build on them during this notebook."
   ]
  },
  {
   "cell_type": "markdown",
   "metadata": {},
   "source": [
    "### 2. Updating the Package Configuration\n",
    "\n",
    "Our first customizations will be to update the `pyproject.toml` file that defines our workflow as an installable Python package. This file specifies:\n",
    "\n",
    "- Package metadata (name, version, description)\n",
    "- Dependencies (we'll use `agentiq[langchain]` for ReAct agent support)\n",
    "- Entry point registration so AgentIQ can discover our components\n",
    "\n",
    "The entry point maps the `math_tools.register` module to the AgentIQ component system."
   ]
  },
  {
   "cell_type": "code",
   "execution_count": null,
   "metadata": {},
   "outputs": [],
   "source": [
    "%%writefile workflows/math_tools/pyproject.toml\n",
    "[build-system]\n",
    "build-backend = \"setuptools.build_meta\"\n",
    "requires = [\"setuptools >= 64\"]\n",
    "\n",
    "[project]\n",
    "name = \"math_tools\"\n",
    "version = \"0.1.0\"\n",
    "dependencies = [\n",
    "  \"agentiq[langchain]\",\n",
    "]\n",
    "requires-python = \">=3.12\"\n",
    "description = \"AgentIQ workflow for mathematical operations\"\n",
    "classifiers = [\"Programming Language :: Python\"]\n",
    "\n",
    "\n",
    "[project.entry-points.'aiq.components']\n",
    "math_tools = \"math_tools.register\""
   ]
  },
  {
   "cell_type": "markdown",
   "metadata": {},
   "source": [
    "Let's look at that `math_tools.register` module:"
   ]
  },
  {
   "cell_type": "code",
   "execution_count": null,
   "metadata": {},
   "outputs": [],
   "source": [
    "from IPython.display import display, Code\n",
    "\n",
    "with open('workflows/math_tools/src/math_tools/register.py', 'r') as f:\n",
    "    code_content = f.read()\n",
    "\n",
    "display(Code(code_content, language='python'))"
   ]
  },
  {
   "cell_type": "markdown",
   "metadata": {},
   "source": [
    "And let's look at the `math_tools` module that it imports:"
   ]
  },
  {
   "cell_type": "code",
   "execution_count": null,
   "metadata": {},
   "outputs": [],
   "source": [
    "from IPython.display import display, Code\n",
    "\n",
    "with open('workflows/math_tools/src/math_tools/math_tools_function.py', 'r') as f:\n",
    "    code_content = f.read()\n",
    "\n",
    "display(Code(code_content, language='python'))"
   ]
  },
  {
   "cell_type": "markdown",
   "metadata": {},
   "source": [
    "As you can see, it doesn't do anything yet, but we can install it to ensure that AgentIQ is able to see our custom components."
   ]
  },
  {
   "cell_type": "markdown",
   "metadata": {},
   "source": [
    "### 3. Installing the Workflow\n",
    "\n",
    "We'll install our workflow package using pip. This makes our custom components available to AgentIQ."
   ]
  },
  {
   "cell_type": "code",
   "execution_count": null,
   "metadata": {
    "scrolled": true
   },
   "outputs": [],
   "source": [
    "%pip install -e workflows/math_tools"
   ]
  },
  {
   "cell_type": "markdown",
   "metadata": {},
   "source": [
    "### 4. Verifying Component Installation\n",
    "\n",
    "After installation, we should check if our custom components are now visible to AgentIQ. This confirms that our package was installed correctly and our tools are available for use."
   ]
  },
  {
   "cell_type": "code",
   "execution_count": null,
   "metadata": {},
   "outputs": [],
   "source": [
    "!aiq info components -t function -q math"
   ]
  },
  {
   "cell_type": "markdown",
   "metadata": {},
   "source": [
    "## Adding Custom Math Tools\n",
    "\n",
    "Now that we have our basic workflow set up, let's add some custom tools that can perform mathematical operations. We'll create three tools:\n",
    "\n",
    "1. **calculator_square_root**: Calculates the square root of a number\n",
    "2. **calculator_modulus**: Calculates the modulo of two numbers\n",
    "3. **calculator_exponent**: Raises a number to a power\n",
    "\n",
    "### 1. Understanding Tool Structure in AgentIQ\n",
    "\n",
    "Each tool in AgentIQ follows this pattern:\n",
    "\n",
    "1. **Configuration Class**: A class that inherits from `FunctionBaseConfig` and provides a tool name\n",
    "2. **Decorated Function**: A function decorated with `@register_function` that links to the configuration\n",
    "3. **Implementation**: An inner async function that contains the actual tool logic\n",
    "4. **Registration**: A `FunctionInfo.from_fn()` call that wraps the function with metadata\n",
    "\n",
    "In the cell below, we'll implement these tools."
   ]
  },
  {
   "cell_type": "markdown",
   "metadata": {},
   "source": [
    "**Your Turn** 🎉🎉🎉\n",
    "\n",
    "The `calculator_add` function (all the way at the bottom of the cell) below is incomplete - you'll need to finish it using the other tools as examples. Fill in the `calculator_add` function, and then run the cell to write this file to disk.\n",
    "\n",
    "The solution is provided beneath the cell if you're in a hurry."
   ]
  },
  {
   "cell_type": "code",
   "execution_count": null,
   "metadata": {},
   "outputs": [],
   "source": [
    "%%writefile workflows/math_tools/src/math_tools/math_tools_function.py\n",
    "import logging\n",
    "import math\n",
    "import re\n",
    "from typing import List\n",
    "\n",
    "from aiq.builder.builder import Builder\n",
    "from aiq.builder.function_info import FunctionInfo\n",
    "from aiq.cli.register_workflow import register_function\n",
    "from aiq.data_models.function import FunctionBaseConfig\n",
    "\n",
    "logger = logging.getLogger(__name__)\n",
    "\n",
    "# Regular expression for matching numbers (integers or decimals)\n",
    "NUMBER_MATCHER = re.compile(r\"\\b(0|[1-9]\\d*)(\\.\\d+)?\\b\")\n",
    "\n",
    "def parse_numbers(text: str) -> List[str]:\n",
    "    \"\"\"Extract all numbers from the input text.\"\"\"\n",
    "    return [match.group() for match in NUMBER_MATCHER.finditer(text)]\n",
    "\n",
    "# Tool Configurations\n",
    "class SquareRootToolConfig(FunctionBaseConfig, name=\"calculator_square_root\"):\n",
    "    pass\n",
    "\n",
    "class ExponentToolConfig(FunctionBaseConfig, name=\"calculator_exponent\"):\n",
    "    pass\n",
    "\n",
    "class ModulusToolConfig(FunctionBaseConfig, name=\"calculator_modulus\"):\n",
    "    pass\n",
    "\n",
    "class AddToolConfig(FunctionBaseConfig, name=\"calculator_add\"):\n",
    "    pass\n",
    "\n",
    "# Tool Implementations\n",
    "@register_function(config_type=SquareRootToolConfig)\n",
    "async def calculator_square_root(tool_config: SquareRootToolConfig, builder: Builder):\n",
    "    async def _calculator_square_root(text: str) -> str:\n",
    "        numbers = parse_numbers(text)\n",
    "        if not numbers:\n",
    "            return \"Please provide a number to calculate the square root\"\n",
    "        \n",
    "        number = float(numbers[0])\n",
    "        if number < 0:\n",
    "            return \"Cannot calculate square root of a negative number\"\n",
    "            \n",
    "        result = math.sqrt(number)\n",
    "        return f\"The square root of {number} is {result}\"\n",
    "\n",
    "    yield FunctionInfo.from_fn(\n",
    "        _calculator_square_root,\n",
    "        description=(\"This is a mathematical tool used to calculate the square root of a number. \"\n",
    "                     \"It takes a number as input and computes its square root as the output.\")\n",
    "    )\n",
    "\n",
    "@register_function(config_type=ExponentToolConfig)\n",
    "async def calculator_exponent(config: ExponentToolConfig, builder: Builder):\n",
    "    async def _calculator_exponent(text: str) -> str:\n",
    "        numbers = parse_numbers(text)\n",
    "        if len(numbers) < 2:\n",
    "            return \"Please provide a base and an exponent\"\n",
    "            \n",
    "        base = float(numbers[0])\n",
    "        exponent = float(numbers[1])\n",
    "        result = base ** exponent\n",
    "        return f\"The result of {base} raised to the power of {exponent} is {result}\"\n",
    "\n",
    "    yield FunctionInfo.from_fn(\n",
    "        _calculator_exponent,\n",
    "        description=(\"This is a mathematical tool used to calculate exponentiation. \"\n",
    "                     \"It takes a base and an exponent as input and computes the result of raising the base to the power of the exponent.\")\n",
    "    )\n",
    "\n",
    "@register_function(config_type=ModulusToolConfig)\n",
    "async def calculator_modulus(config: ModulusToolConfig, builder: Builder):\n",
    "    async def _calculator_modulus(text: str) -> str:\n",
    "        numbers = parse_numbers(text)\n",
    "        if len(numbers) < 2:\n",
    "            return \"Please provide a dividend and a divisor\"\n",
    "            \n",
    "        dividend = float(numbers[0])\n",
    "        divisor = float(numbers[1])\n",
    "        if divisor == 0:\n",
    "            return \"Cannot perform modulus with zero as divisor\"\n",
    "            \n",
    "        result = dividend % divisor\n",
    "        return f\"The remainder of {dividend} divided by {divisor} is {result}\"\n",
    "\n",
    "    yield FunctionInfo.from_fn(\n",
    "        _calculator_modulus,\n",
    "        description=(\"This is a mathematical tool used to calculate the remainder of division. \"\n",
    "                     \"It takes a dividend and a divisor as input and computes the remainder when the dividend is divided by the divisor.\")\n",
    "    )\n",
    "\n",
    "@register_function(config_type=AddToolConfig)\n",
    "async def calculator_add(config: AddToolConfig, builder: Builder):\n",
    "    async def _calculator_add(text: str) -> str:\n",
    "        # TODO: Implement the calculator_add function\n",
    "        return \"Not implemented\"\n",
    "\n",
    "    yield FunctionInfo.from_fn(\n",
    "        _calculator_add,\n",
    "        description=(\"This is a mathematical tool used to add numbers together. \"\n",
    "                     \"It takes two or more numbers as input and computes their sum.\")\n",
    "    )"
   ]
  },
  {
   "cell_type": "markdown",
   "metadata": {},
   "source": [
    "### SOLUTION: Implementation of calculator_add function\n",
    " You can copy and paste this into the register.py file cell above\n",
    "```python\n",
    "\n",
    "# Start copying here\n",
    "@register_function(config_type=AddToolConfig)\n",
    "async def calculator_add(config: AddToolConfig, builder: Builder):\n",
    "    async def _calculator_add(text: str) -> str:\n",
    "        numbers = parse_numbers(text)\n",
    "        if len(numbers) < 2:\n",
    "            return \"Please provide at least two numbers to add\"\n",
    "            \n",
    "        nums = [float(num) for num in numbers]\n",
    "        result = sum(nums)\n",
    "        if result.is_integer():\n",
    "            result = int(result)\n",
    "            \n",
    "        numbers_str = \" + \".join(numbers)\n",
    "        return f\"The sum of {numbers_str} is {result}\"\n",
    "\n",
    "    yield FunctionInfo.from_fn(\n",
    "        _calculator_add,\n",
    "        description=(\"This is a mathematical tool used to add numbers together. \"\n",
    "                     \"It takes two or more numbers as input and computes their sum.\")\n",
    "    )\n",
    "# End copying here\n",
    "\n",
    "```"
   ]
  },
  {
   "cell_type": "markdown",
   "metadata": {},
   "source": [
    "We will also update the imports in `register.py` so they will be loaded into AgentIQ when installed:"
   ]
  },
  {
   "cell_type": "code",
   "execution_count": null,
   "metadata": {},
   "outputs": [],
   "source": [
    "%%writefile workflows/math_tools/src/math_tools/register.py\n",
    "# pylint: disable=unused-import\n",
    "# flake8: noqa\n",
    "\n",
    "# Import any tools which need to be automatically registered here\n",
    "from math_tools.math_tools_function import calculator_square_root\n",
    "from math_tools.math_tools_function import calculator_exponent\n",
    "from math_tools.math_tools_function import calculator_modulus\n",
    "from math_tools.math_tools_function import calculator_add\n"
   ]
  },
  {
   "cell_type": "markdown",
   "metadata": {},
   "source": [
    "### 2. Reinstalling After Changes\n",
    "\n",
    "Now that we've created our custom tools, we need to reinstall the workflow so that AgentIQ can see the changes."
   ]
  },
  {
   "cell_type": "code",
   "execution_count": null,
   "metadata": {
    "scrolled": true
   },
   "outputs": [],
   "source": [
    "%pip install -e workflows/math_tools"
   ]
  },
  {
   "cell_type": "markdown",
   "metadata": {},
   "source": [
    "Let's make sure that AgentIQ now has knowledge of the new tools:"
   ]
  },
  {
   "cell_type": "code",
   "execution_count": null,
   "metadata": {},
   "outputs": [],
   "source": [
    "!aiq info components -t function -q calculator"
   ]
  },
  {
   "cell_type": "markdown",
   "metadata": {},
   "source": [
    "### 3. Creating the Configuration Directory\n",
    "\n",
    "Next, we'll create a directory to store our configuration files. As mentioned, this file can be stored anywhere, but we'll put it with our workflow:"
   ]
  },
  {
   "cell_type": "code",
   "execution_count": null,
   "metadata": {},
   "outputs": [],
   "source": [
    "!mkdir -p workflows/math_tools/configs"
   ]
  },
  {
   "cell_type": "markdown",
   "metadata": {},
   "source": [
    "### 4. Updating the Configuration\n",
    "\n",
    "Now we'll update our configuration file to include the new tools we've created. We'll add them to the `functions` section and reference them in the `tool_names` list."
   ]
  },
  {
   "cell_type": "code",
   "execution_count": null,
   "metadata": {},
   "outputs": [],
   "source": [
    "%%writefile workflows/math_tools/configs/config.yml\n",
    "\n",
    "general:\n",
    "  use_uvloop: true\n",
    "\n",
    "functions:\n",
    "  calculator_exponent:\n",
    "    _type: calculator_exponent\n",
    "  calculator_modulus:\n",
    "    _type: calculator_modulus\n",
    "  calculator_square_root:\n",
    "    _type: calculator_square_root\n",
    "  calculator_add:\n",
    "    _type: calculator_add\n",
    "\n",
    "llms:\n",
    "  nim_llm:\n",
    "    _type: nim\n",
    "    model_name: meta/llama-3.1-70b-instruct\n",
    "    temperature: 0.0\n",
    "\n",
    "workflow:\n",
    "  _type: react_agent\n",
    "  tool_names:\n",
    "    - calculator_exponent\n",
    "    - calculator_modulus\n",
    "    - calculator_square_root\n",
    "    - calculator_add\n",
    "  llm_name: nim_llm\n",
    "  verbose: true\n"
   ]
  },
  {
   "cell_type": "markdown",
   "metadata": {},
   "source": [
    "### 5. Testing the Updated Workflow\n",
    "\n",
    "Now that we've added our custom tools and updated the configuration, let's run the workflow again with a math question. This time, the agent should:\n",
    "\n",
    "1. Parse the question to understand what's being asked\n",
    "2. Decide which tools to use (multiplication and possibly addition)\n",
    "3. Call the appropriate tools with the right inputs\n",
    "4. Combine the results to provide a final answer"
   ]
  },
  {
   "cell_type": "code",
   "execution_count": null,
   "metadata": {},
   "outputs": [],
   "source": [
    "!echo \"Math Problem: $MATH_PROBLEM\"\n",
    "!aiq run --config_file workflows/math_tools/configs/config.yml --input \"$MATH_PROBLEM\""
   ]
  },
  {
   "cell_type": "markdown",
   "metadata": {},
   "source": [
    "With a reasonable amount of probability (and a little bit of luck!), our agent should now proudly present the correct answer of around `8.071044921875`."
   ]
  },
  {
   "cell_type": "markdown",
   "metadata": {},
   "source": [
    "## Enhancing Our Agent with Built-in Functions\n",
    "\n",
    "So far, we've created custom tools for our agent. However, AgentIQ also provides several built-in functions that we can leverage without writing any code. One such function is `current_datetime`, which returns the current date and time.\n",
    "\n",
    "### 1. The current_datetime Function\n",
    "\n",
    "This built-in function:\n",
    "- Returns the current date and time in human redable format\n",
    "- Can be used to create time-aware agents\n",
    "- Allows for temporal reasoning in agent responses\n",
    "- Requires no implementation from us\n",
    "\n",
    "Let's explore this function:"
   ]
  },
  {
   "cell_type": "code",
   "execution_count": null,
   "metadata": {},
   "outputs": [],
   "source": [
    "# Check if the current_datetime function is available\n",
    "!aiq info components -t function -q current_datetime"
   ]
  },
  {
   "cell_type": "markdown",
   "metadata": {},
   "source": [
    "Let's update our configuration to include this built-in function. We'll need to:\n",
    "1. Add the function to the `functions` section of our config\n",
    "2. Add it to the `tool_names` list in the workflow section\n",
    "\n",
    "This will make the function available to our agent alongside our custom math tools."
   ]
  },
  {
   "cell_type": "code",
   "execution_count": null,
   "metadata": {},
   "outputs": [],
   "source": [
    "%%writefile workflows/math_tools/configs/config.yml\n",
    "\n",
    "general:\n",
    "  use_uvloop: true\n",
    "\n",
    "functions:\n",
    "  calculator_exponent:\n",
    "    _type: calculator_exponent\n",
    "  calculator_modulus:\n",
    "    _type: calculator_modulus\n",
    "  calculator_square_root:\n",
    "    _type: calculator_square_root\n",
    "  calculator_add:\n",
    "    _type: calculator_add\n",
    "  current_datetime:\n",
    "    _type: current_datetime\n",
    "\n",
    "llms:\n",
    "  nim_llm:\n",
    "    _type: nim\n",
    "    model_name: meta/llama-3.1-70b-instruct\n",
    "    temperature: 0.0\n",
    "\n",
    "workflow:\n",
    "  _type: react_agent\n",
    "  tool_names:\n",
    "    - calculator_exponent\n",
    "    - calculator_modulus\n",
    "    - calculator_square_root\n",
    "    - calculator_add\n",
    "    - current_datetime\n",
    "  llm_name: nim_llm\n",
    "  verbose: true\n"
   ]
  },
  {
   "cell_type": "markdown",
   "metadata": {},
   "source": [
    "### 2. Testing Combined Capabilities\n",
    "\n",
    "Let's test our agent with a question that requires both mathematical operations and time awareness. For this test, we'll ask if an exponentiation result is greater than the current hour. The agent should:\n",
    "\n",
    "1. Get the current time using the `current_datetime` function\n",
    "2. Extract the hour from the datetime\n",
    "3. Perform the exponentiation using `calculator_exponent`"
   ]
  },
  {
   "cell_type": "code",
   "execution_count": null,
   "metadata": {},
   "outputs": [],
   "source": [
    "!aiq run --config_file workflows/math_tools/configs/config.yml --input \"Is 10 mod 3 greater than the current hour?\""
   ]
  },
  {
   "cell_type": "markdown",
   "metadata": {},
   "source": [
    "## Running AgentIQ as an API Server\n",
    "\n",
    "Now that we've tested our agent's capabilities directly, let's explore how to deploy it as an API service that can be accessed by other applications.\n"
   ]
  },
  {
   "cell_type": "markdown",
   "metadata": {},
   "source": [
    "### 1. Starting the API Server\n",
    "\n",
    "Let's start the AgentIQ server to host our agent as an API. We'll run it in the background so we can continue working in the notebook."
   ]
  },
  {
   "cell_type": "code",
   "execution_count": null,
   "metadata": {},
   "outputs": [],
   "source": [
    "%run_background --command \"aiq serve --config_file workflows/math_tools/configs/config.yml --port 4567\" --name \"math_tools_server\"  "
   ]
  },
  {
   "cell_type": "markdown",
   "metadata": {},
   "source": [
    "### 2. Calling the API\n",
    "\n",
    "Now that the server is running, let's test it by sending a request using curl. We'll send a math question to see if our agent can solve it.\n",
    "\n",
    "**If you get an error running the next cell, try again after a few seconds**\n",
    "\n",
    "(it can take a little bit of time for the server to start)"
   ]
  },
  {
   "cell_type": "code",
   "execution_count": null,
   "metadata": {},
   "outputs": [],
   "source": [
    "import requests\n",
    "\n",
    "response = requests.post(\n",
    "    url=\"http://localhost:4567/generate\",\n",
    "    headers={\"Content-Type\": \"application/json\"},\n",
    "    json={\"input_message\": \"Is sqrt(100) less than the current day of the month?\"}\n",
    ")\n",
    "\n",
    "print(response.json())"
   ]
  },
  {
   "cell_type": "markdown",
   "metadata": {},
   "source": [
    "### 3. Stopping the Server\n",
    "\n",
    "When we're done testing, we should stop the server to free up resources."
   ]
  },
  {
   "cell_type": "code",
   "execution_count": null,
   "metadata": {},
   "outputs": [],
   "source": [
    "%stop_background math_tools_server"
   ]
  },
  {
   "cell_type": "markdown",
   "metadata": {},
   "source": [
    "## Summary\n",
    "\n",
    "In this notebook, we've created a custom AgentIQ workflow with mathematical tools. We've learned how to:\n",
    "\n",
    "1. Set up the project structure\n",
    "2. Create and configure a ReAct agent\n",
    "3. Implement custom tools for mathematical operations\n",
    "4. Enhance our agent with built-in functions\n",
    "5. Deploy our agent as an API service\n",
    "\n",
    "In the next notebook, we'll explore how to evaluate and profile our agent to ensure it performs well and meets our requirements."
   ]
  }
 ],
 "metadata": {
  "kernelspec": {
   "display_name": "Python 3 (ipykernel)",
   "language": "python",
   "name": "python3"
  },
  "language_info": {
   "codemirror_mode": {
    "name": "ipython",
    "version": 3
   },
   "file_extension": ".py",
   "mimetype": "text/x-python",
   "name": "python",
   "nbconvert_exporter": "python",
   "pygments_lexer": "ipython3",
   "version": "3.12.11"
  }
 },
 "nbformat": 4,
 "nbformat_minor": 4
}
