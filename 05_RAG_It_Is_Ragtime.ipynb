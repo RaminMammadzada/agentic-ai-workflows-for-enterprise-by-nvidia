{
 "cells": [
  {
   "cell_type": "markdown",
   "metadata": {},
   "source": [
    "<a href=\"https://www.nvidia.com/dli\"> <img src=\"images/nvidia_header.png\" style=\"margin-left: -30px; width: 300px; float: left;\"> </a>"
   ]
  },
  {
   "cell_type": "markdown",
   "metadata": {},
   "source": [
    "# Building a RAG Workflow with AgentIQ\n",
    "\n",
    "## Introduction to RAG\n",
    "\n",
    "**Retrieval Augmented Generation (RAG)** is a powerful technique that enhances Large Language Models (LLMs) by providing them with relevant information retrieved from external knowledge sources. RAG combines the strengths of retrieval-based systems with the generative capabilities of LLMs to produce more accurate, up-to-date, and contextually relevant responses.\n",
    "\n",
    "### How RAG Works\n",
    "\n",
    "RAG operates in three main steps:\n",
    "\n",
    "1. **Retrieval**: When a user asks a question, the system searches through a knowledge base to find relevant documents or passages.\n",
    "2. **Augmentation**: The retrieved information is added to the prompt sent to the LLM.\n",
    "3. **Generation**: The LLM generates a response based on both its pre-trained knowledge and the retrieved information.\n",
    "\n",
    "### Benefits of RAG\n",
    "\n",
    "- **Reduced Hallucinations**: By grounding responses in retrieved facts, RAG helps minimize the LLM's tendency to generate plausible but incorrect information.\n",
    "- **Up-to-date Knowledge**: RAG can access information that wasn't available during the LLM's training.\n",
    "- **Domain Adaptation**: RAG allows LLMs to work with specialized knowledge without fine-tuning.\n",
    "- **Transparency**: The retrieved documents provide a source for the information, making the system more explainable.\n",
    "\n",
    "## RAG in AgentIQ\n",
    "\n",
    "AgentIQ provides robust support for building RAG workflows through integration with popular frameworks like LlamaIndex and LangChain. In this notebook, we'll build a RAG workflow using the `book_knowledge_rag` tool, which allows us to:\n",
    "\n",
    "1. Ingest and process documents\n",
    "2. Create vector embeddings for efficient retrieval\n",
    "3. Query the knowledge base with natural language\n",
    "4. Evaluate and profile the RAG system's performance\n",
    "\n",
    "By the end of this notebook, you'll understand how to:\n",
    "- Configure a RAG workflow in AgentIQ\n",
    "- Evaluate its performance using standard metrics\n",
    "- Profile and optimize your RAG system\n",
    "- Enhance performance by upgrading components like the LLM"
   ]
  },
  {
   "cell_type": "markdown",
   "metadata": {},
   "source": [
    "## Setting Up Our Environment\n",
    "\n",
    "Let's start by setting up our environment for the RAG workflow. We'll need to set the NVIDIA API key and create our project structure."
   ]
  },
  {
   "cell_type": "markdown",
   "metadata": {},
   "source": [
    "### 1. Opening Phoenix (optional)\n",
    "\n",
    "If you want to observe detailed data on the RAG calls, you can open Phoenix as these workflow configs have been instrumented for it:"
   ]
  },
  {
   "cell_type": "code",
   "execution_count": 1,
   "metadata": {},
   "outputs": [
    {
     "data": {
      "application/javascript": [
       "const href = window.location.hostname;\n",
       "let a = document.createElement('a');\n",
       "let link = document.createTextNode('Click here to open Phoenix!');\n",
       "a.appendChild(link);\n",
       "a.href = \"http://\" + href + \"/phoenix\";\n",
       "a.style.color = \"navy\"\n",
       "a.target = \"_blank\"\n",
       "element.append(a);\n"
      ],
      "text/plain": [
       "<IPython.core.display.Javascript object>"
      ]
     },
     "metadata": {},
     "output_type": "display_data"
    }
   ],
   "source": [
    "%%js\n",
    "const href = window.location.hostname;\n",
    "let a = document.createElement('a');\n",
    "let link = document.createTextNode('Click here to open Phoenix!');\n",
    "a.appendChild(link);\n",
    "a.href = \"http://\" + href + \"/phoenix\";\n",
    "a.style.color = \"navy\"\n",
    "a.target = \"_blank\"\n",
    "element.append(a);"
   ]
  },
  {
   "cell_type": "markdown",
   "metadata": {},
   "source": [
    "### 2. Creating the AgentIQ workflow\n",
    "\n",
    "Let's create a workflows directory (if it doesn't exist from previous notebooks):"
   ]
  },
  {
   "cell_type": "code",
   "execution_count": 2,
   "metadata": {},
   "outputs": [],
   "source": [
    "!mkdir -p workflows"
   ]
  },
  {
   "cell_type": "markdown",
   "metadata": {},
   "source": [
    "Now let's use the AgentIQ cli to create the new workflow"
   ]
  },
  {
   "cell_type": "code",
   "execution_count": 3,
   "metadata": {},
   "outputs": [
    {
     "name": "stdout",
     "output_type": "stream",
     "text": [
      "Workflow 'ragtime' created successfully in '/dli/task/workflows/ragtime'.\n",
      "\u001b[0m\u001b[0m"
     ]
    }
   ],
   "source": [
    "!aiq workflow create --no-install --workflow-dir workflows ragtime"
   ]
  },
  {
   "cell_type": "markdown",
   "metadata": {},
   "source": [
    "Let's confirm that the project is properly in place:"
   ]
  },
  {
   "cell_type": "code",
   "execution_count": 4,
   "metadata": {},
   "outputs": [
    {
     "name": "stdout",
     "output_type": "stream",
     "text": [
      "\u001b[01;34mworkflows/ragtime\u001b[0m\n",
      "├── \u001b[01;34mconfigs\u001b[0m\n",
      "│   └── \u001b[01;36mconfig.yml\u001b[0m -> \u001b[00m/dli/task/workflows/ragtime/src/ragtime/configs/config.yml\u001b[0m\n",
      "├── \u001b[00mpyproject.toml\u001b[0m\n",
      "└── \u001b[01;34msrc\u001b[0m\n",
      "    └── \u001b[01;34mragtime\u001b[0m\n",
      "        ├── \u001b[00m__init__.py\u001b[0m\n",
      "        ├── \u001b[01;34mconfigs\u001b[0m\n",
      "        │   └── \u001b[00mconfig.yml\u001b[0m\n",
      "        ├── \u001b[00mragtime_function.py\u001b[0m\n",
      "        └── \u001b[00mregister.py\u001b[0m\n",
      "\n",
      "5 directories, 6 files\n"
     ]
    }
   ],
   "source": [
    "!tree workflows/ragtime"
   ]
  },
  {
   "cell_type": "markdown",
   "metadata": {},
   "source": [
    "We should see the following directory structure for our RAG project. We'll follow this standard structure:\n",
    "```\n",
    "workflows/ragtime\n",
    "├── pyproject.toml\n",
    "└── src\n",
    "    └── ragtime\n",
    "        ├── __init__.py\n",
    "        ├── configs\n",
    "        │   └── config.yml\n",
    "        ├── ragtime_function.py\n",
    "        └── register.py\n",
    "```\n",
    "\n",
    "Let's create an additional directory to store our agent config (note that this does not need to be stored in the workflow directory, we're just doing it here for convenience):"
   ]
  },
  {
   "cell_type": "code",
   "execution_count": 5,
   "metadata": {},
   "outputs": [],
   "source": [
    "!mkdir -p workflows/ragtime/configs\n",
    "!mkdir -p workflows/ragtime/data"
   ]
  },
  {
   "cell_type": "markdown",
   "metadata": {},
   "source": [
    "### 3. Creating the Package Configuration\n",
    "\n",
    "Now we can update the `pyproject.toml` file with specifics about our workflow. This file specifies:\n",
    "\n",
    "- Package metadata (name, version, description)\n",
    "- Dependencies (we'll use `agentiq[llama-index,langchain]` for RAG support and `colorama` for better output)\n",
    "- Entry point registration so AgentIQ can discover our components\n",
    "\n",
    "The entry point maps the 'agentiq_ragtime.register' module to the AgentIQ component system."
   ]
  },
  {
   "cell_type": "code",
   "execution_count": 6,
   "metadata": {},
   "outputs": [
    {
     "name": "stdout",
     "output_type": "stream",
     "text": [
      "Overwriting workflows/ragtime/pyproject.toml\n"
     ]
    }
   ],
   "source": [
    "%%writefile workflows/ragtime/pyproject.toml\n",
    "[build-system]\n",
    "build-backend = \"setuptools.build_meta\"\n",
    "requires = [\"setuptools >= 64\"]\n",
    "\n",
    "[project]\n",
    "name = \"ragtime\"\n",
    "version = \"0.1.0\"\n",
    "dependencies = [\n",
    "  \"agentiq[llama-index,langchain]\",\n",
    "  \"colorama\"\n",
    "]\n",
    "requires-python = \">=3.12\"\n",
    "description = \"RAG workflow for AgentIQ\"\n",
    "classifiers = [\"Programming Language :: Python\"]\n",
    "\n",
    "\n",
    "\n",
    "[project.entry-points.'aiq.components']\n",
    "ragtime = \"ragtime.register\""
   ]
  },
  {
   "cell_type": "markdown",
   "metadata": {},
   "source": [
    "## Creating a Basic Configuration Without RAG\n",
    "\n",
    "Before implementing RAG, let's create a basic configuration that uses a standard agent without retrieval capabilities. This will help us understand the baseline performance and see the impact of adding RAG later."
   ]
  },
  {
   "cell_type": "markdown",
   "metadata": {},
   "source": [
    "### 1. Creating the Initial Configuration File\n",
    "\n",
    "Let's create a YAML configuration file that defines the core components of our workflow:\n",
    "\n",
    "- **general**: Basic settings like using uvloop for better performance\n",
    "- **llms**: Language model configuration (using NIM with Llama 3.1)\n",
    "- **workflow**: Agent type (ReAct) and connection to the LLM\n",
    "\n",
    "At this stage, we're not including any RAG-specific components."
   ]
  },
  {
   "cell_type": "code",
   "execution_count": 7,
   "metadata": {},
   "outputs": [
    {
     "name": "stdout",
     "output_type": "stream",
     "text": [
      "Writing workflows/ragtime/configs/basic_config.yml\n"
     ]
    }
   ],
   "source": [
    "%%writefile workflows/ragtime/configs/basic_config.yml\n",
    "\n",
    "general:\n",
    "  use_uvloop: true\n",
    "  telemetry:\n",
    "    tracing:\n",
    "      phoenix:\n",
    "          _type: phoenix\n",
    "          endpoint: http://phoenix:6006/v1/traces\n",
    "          project: rag_example\n",
    "\n",
    "llms:\n",
    "  nim_llm:\n",
    "    _type: nim\n",
    "    model_name: meta/llama-3.1-70b-instruct\n",
    "    temperature: 0.0\n",
    "\n",
    "workflow:\n",
    "  _type: simple_llm_call\n",
    "  llm_name: nim_llm\n",
    "  verbose: true\n"
   ]
  },
  {
   "cell_type": "markdown",
   "metadata": {},
   "source": [
    "### 2. Installing the Workflow\n",
    "\n",
    "Now let's install our workflow package using pip. This makes our custom components available to AgentIQ."
   ]
  },
  {
   "cell_type": "code",
   "execution_count": 8,
   "metadata": {
    "scrolled": true
   },
   "outputs": [
    {
     "name": "stdout",
     "output_type": "stream",
     "text": [
      "Obtaining file:///dli/task/workflows/ragtime\n",
      "  Installing build dependencies ... \u001b[?2done\n",
      "\u001b[?25h  Checking if build backend supports build_editable ... \u001b[?25ldone\n",
      "\u001b[?25h  Getting requirements to build editable ... \u001b[?25ldone\n",
      "\u001b[?25h  Preparing editable metadata (pyproject.toml) ... \u001b[?25ldone\n",
      "\u001b[?25hRequirement already satisfied: agentiq[langchain,llama-index] in /usr/local/lib/python3.12/site-packages (from ragtime==0.1.0) (1.1.0)\n",
      "Requirement already satisfied: colorama in /usr/local/lib/python3.12/site-packages (from ragtime==0.1.0) (0.4.6)\n",
      "\u001b[33mWARNING: agentiq 1.1.0 does not provide the extra 'langchain'\u001b[0m\u001b[33m\n",
      "\u001b[0m\u001b[33mWARNING: agentiq 1.1.0 does not provide the extra 'llama-index'\u001b[0m\u001b[33m\n",
      "\u001b[0mRequirement already satisfied: aiqtoolkit==v1.1.0 in /usr/local/lib/python3.12/site-packages (from agentiq[langchain,llama-index]->ragtime==0.1.0) (1.1.0)\n",
      "Requirement already satisfied: aioboto3>=11.0.0 in /usr/local/lib/python3.12/site-packages (from aiqtoolkit==v1.1.0->agentiq[langchain,llama-index]->ragtime==0.1.0) (14.3.0)\n",
      "Requirement already satisfied: click~=8.1 in /usr/local/lib/python3.12/site-packages (from aiqtoolkit==v1.1.0->agentiq[langchain,llama-index]->ragtime==0.1.0) (8.2.1)\n",
      "Requirement already satisfied: expandvars~=1.0 in /usr/local/lib/python3.12/site-packages (from aiqtoolkit==v1.1.0->agentiq[langchain,llama-index]->ragtime==0.1.0) (1.0.0)\n",
      "Requirement already satisfied: fastapi~=0.115.5 in /usr/local/lib/python3.12/site-packages (from aiqtoolkit==v1.1.0->agentiq[langchain,llama-index]->ragtime==0.1.0) (0.115.9)\n",
      "Requirement already satisfied: httpx~=0.27 in /usr/local/lib/python3.12/site-packages (from aiqtoolkit==v1.1.0->agentiq[langchain,llama-index]->ragtime==0.1.0) (0.28.1)\n",
      "Requirement already satisfied: jinja2~=3.1 in /usr/local/lib/python3.12/site-packages (from aiqtoolkit==v1.1.0->agentiq[langchain,llama-index]->ragtime==0.1.0) (3.1.6)\n",
      "Requirement already satisfied: jsonpath-ng~=1.7 in /usr/local/lib/python3.12/site-packages (from aiqtoolkit==v1.1.0->agentiq[langchain,llama-index]->ragtime==0.1.0) (1.7.0)\n",
      "Requirement already satisfied: mcp>=1.0.0 in /usr/local/lib/python3.12/site-packages (from aiqtoolkit==v1.1.0->agentiq[langchain,llama-index]->ragtime==0.1.0) (1.9.3)\n",
      "Requirement already satisfied: networkx~=3.4 in /usr/local/lib/python3.12/site-packages (from aiqtoolkit==v1.1.0->agentiq[langchain,llama-index]->ragtime==0.1.0) (3.5)\n",
      "Requirement already satisfied: numpy~=1.26 in /usr/local/lib/python3.12/site-packages (from aiqtoolkit==v1.1.0->agentiq[langchain,llama-index]->ragtime==0.1.0) (1.26.4)\n",
      "Requirement already satisfied: openinference-semantic-conventions~=0.1.14 in /usr/local/lib/python3.12/site-packages (from aiqtoolkit==v1.1.0->agentiq[langchain,llama-index]->ragtime==0.1.0) (0.1.20)\n",
      "Requirement already satisfied: openpyxl~=3.1 in /usr/local/lib/python3.12/site-packages (from aiqtoolkit==v1.1.0->agentiq[langchain,llama-index]->ragtime==0.1.0) (3.1.5)\n",
      "Requirement already satisfied: pkginfo~=1.12 in /usr/local/lib/python3.12/site-packages (from aiqtoolkit==v1.1.0->agentiq[langchain,llama-index]->ragtime==0.1.0) (1.12.1.2)\n",
      "Requirement already satisfied: platformdirs~=4.3 in /usr/local/lib/python3.12/site-packages (from aiqtoolkit==v1.1.0->agentiq[langchain,llama-index]->ragtime==0.1.0) (4.3.8)\n",
      "Requirement already satisfied: pydantic==2.10.* in /usr/local/lib/python3.12/site-packages (from aiqtoolkit==v1.1.0->agentiq[langchain,llama-index]->ragtime==0.1.0) (2.10.6)\n",
      "Requirement already satisfied: pymilvus~=2.4 in /usr/local/lib/python3.12/site-packages (from aiqtoolkit==v1.1.0->agentiq[langchain,llama-index]->ragtime==0.1.0) (2.5.11)\n",
      "Requirement already satisfied: PyYAML~=6.0 in /usr/local/lib/python3.12/site-packages (from aiqtoolkit==v1.1.0->agentiq[langchain,llama-index]->ragtime==0.1.0) (6.0.2)\n",
      "Requirement already satisfied: ragas~=0.2.14 in /usr/local/lib/python3.12/site-packages (from aiqtoolkit==v1.1.0->agentiq[langchain,llama-index]->ragtime==0.1.0) (0.2.15)\n",
      "Requirement already satisfied: rich~=13.9 in /usr/local/lib/python3.12/site-packages (from aiqtoolkit==v1.1.0->agentiq[langchain,llama-index]->ragtime==0.1.0) (13.9.4)\n",
      "Requirement already satisfied: uvicorn~=0.32.0 in /usr/local/lib/python3.12/site-packages (from uvicorn[standard]~=0.32.0->aiqtoolkit==v1.1.0->agentiq[langchain,llama-index]->ragtime==0.1.0) (0.32.1)\n",
      "Requirement already satisfied: wikipedia~=1.4 in /usr/local/lib/python3.12/site-packages (from aiqtoolkit==v1.1.0->agentiq[langchain,llama-index]->ragtime==0.1.0) (1.4.0)\n",
      "Requirement already satisfied: annotated-types>=0.6.0 in /usr/local/lib/python3.12/site-packages (from pydantic==2.10.*->aiqtoolkit==v1.1.0->agentiq[langchain,llama-index]->ragtime==0.1.0) (0.7.0)\n",
      "Requirement already satisfied: pydantic-core==2.27.2 in /usr/local/lib/python3.12/site-packages (from pydantic==2.10.*->aiqtoolkit==v1.1.0->agentiq[langchain,llama-index]->ragtime==0.1.0) (2.27.2)\n",
      "Requirement already satisfied: typing-extensions>=4.12.2 in /usr/local/lib/python3.12/site-packages (from pydantic==2.10.*->aiqtoolkit==v1.1.0->agentiq[langchain,llama-index]->ragtime==0.1.0) (4.14.0)\n",
      "Requirement already satisfied: aiobotocore==2.22.0 in /usr/local/lib/python3.12/site-packages (from aiobotocore[boto3]==2.22.0->aioboto3>=11.0.0->aiqtoolkit==v1.1.0->agentiq[langchain,llama-index]->ragtime==0.1.0) (2.22.0)\n",
      "Requirement already satisfied: aiofiles>=23.2.1 in /usr/local/lib/python3.12/site-packages (from aioboto3>=11.0.0->aiqtoolkit==v1.1.0->agentiq[langchain,llama-index]->ragtime==0.1.0) (24.1.0)\n",
      "Requirement already satisfied: aiohttp<4.0.0,>=3.9.2 in /usr/local/lib/python3.12/site-packages (from aiobotocore==2.22.0->aiobotocore[boto3]==2.22.0->aioboto3>=11.0.0->aiqtoolkit==v1.1.0->agentiq[langchain,llama-index]->ragtime==0.1.0) (3.12.12)\n",
      "Requirement already satisfied: aioitertools<1.0.0,>=0.5.1 in /usr/local/lib/python3.12/site-packages (from aiobotocore==2.22.0->aiobotocore[boto3]==2.22.0->aioboto3>=11.0.0->aiqtoolkit==v1.1.0->agentiq[langchain,llama-index]->ragtime==0.1.0) (0.12.0)\n",
      "Requirement already satisfied: botocore<1.37.4,>=1.37.2 in /usr/local/lib/python3.12/site-packages (from aiobotocore==2.22.0->aiobotocore[boto3]==2.22.0->aioboto3>=11.0.0->aiqtoolkit==v1.1.0->agentiq[langchain,llama-index]->ragtime==0.1.0) (1.37.3)\n",
      "Requirement already satisfied: python-dateutil<3.0.0,>=2.1 in /usr/local/lib/python3.12/site-packages (from aiobotocore==2.22.0->aiobotocore[boto3]==2.22.0->aioboto3>=11.0.0->aiqtoolkit==v1.1.0->agentiq[langchain,llama-index]->ragtime==0.1.0) (2.9.0.post0)\n",
      "Requirement already satisfied: jmespath<2.0.0,>=0.7.1 in /usr/local/lib/python3.12/site-packages (from aiobotocore==2.22.0->aiobotocore[boto3]==2.22.0->aioboto3>=11.0.0->aiqtoolkit==v1.1.0->agentiq[langchain,llama-index]->ragtime==0.1.0) (1.0.1)\n",
      "Requirement already satisfied: multidict<7.0.0,>=6.0.0 in /usr/local/lib/python3.12/site-packages (from aiobotocore==2.22.0->aiobotocore[boto3]==2.22.0->aioboto3>=11.0.0->aiqtoolkit==v1.1.0->agentiq[langchain,llama-index]->ragtime==0.1.0) (6.4.4)\n",
      "Requirement already satisfied: wrapt<2.0.0,>=1.10.10 in /usr/local/lib/python3.12/site-packages (from aiobotocore==2.22.0->aiobotocore[boto3]==2.22.0->aioboto3>=11.0.0->aiqtoolkit==v1.1.0->agentiq[langchain,llama-index]->ragtime==0.1.0) (1.17.2)\n",
      "Requirement already satisfied: boto3<1.37.4,>=1.37.2 in /usr/local/lib/python3.12/site-packages (from aiobotocore[boto3]==2.22.0->aioboto3>=11.0.0->aiqtoolkit==v1.1.0->agentiq[langchain,llama-index]->ragtime==0.1.0) (1.37.3)\n",
      "Requirement already satisfied: starlette<0.46.0,>=0.40.0 in /usr/local/lib/python3.12/site-packages (from fastapi~=0.115.5->aiqtoolkit==v1.1.0->agentiq[langchain,llama-index]->ragtime==0.1.0) (0.45.3)\n",
      "Requirement already satisfied: anyio in /usr/local/lib/python3.12/site-packages (from httpx~=0.27->aiqtoolkit==v1.1.0->agentiq[langchain,llama-index]->ragtime==0.1.0) (4.9.0)\n",
      "Requirement already satisfied: certifi in /usr/local/lib/python3.12/site-packages (from httpx~=0.27->aiqtoolkit==v1.1.0->agentiq[langchain,llama-index]->ragtime==0.1.0) (2025.4.26)\n",
      "Requirement already satisfied: httpcore==1.* in /usr/local/lib/python3.12/site-packages (from httpx~=0.27->aiqtoolkit==v1.1.0->agentiq[langchain,llama-index]->ragtime==0.1.0) (1.0.9)\n",
      "Requirement already satisfied: idna in /usr/local/lib/python3.12/site-packages (from httpx~=0.27->aiqtoolkit==v1.1.0->agentiq[langchain,llama-index]->ragtime==0.1.0) (3.10)\n",
      "Requirement already satisfied: h11>=0.16 in /usr/local/lib/python3.12/site-packages (from httpcore==1.*->httpx~=0.27->aiqtoolkit==v1.1.0->agentiq[langchain,llama-index]->ragtime==0.1.0) (0.16.0)\n",
      "Requirement already satisfied: MarkupSafe>=2.0 in /usr/local/lib/python3.12/site-packages (from jinja2~=3.1->aiqtoolkit==v1.1.0->agentiq[langchain,llama-index]->ragtime==0.1.0) (3.0.2)\n",
      "Requirement already satisfied: ply in /usr/local/lib/python3.12/site-packages (from jsonpath-ng~=1.7->aiqtoolkit==v1.1.0->agentiq[langchain,llama-index]->ragtime==0.1.0) (3.11)\n",
      "Requirement already satisfied: httpx-sse>=0.4 in /usr/local/lib/python3.12/site-packages (from mcp>=1.0.0->aiqtoolkit==v1.1.0->agentiq[langchain,llama-index]->ragtime==0.1.0) (0.4.0)\n",
      "Requirement already satisfied: pydantic-settings>=2.5.2 in /usr/local/lib/python3.12/site-packages (from mcp>=1.0.0->aiqtoolkit==v1.1.0->agentiq[langchain,llama-index]->ragtime==0.1.0) (2.9.1)\n",
      "Requirement already satisfied: python-multipart>=0.0.9 in /usr/local/lib/python3.12/site-packages (from mcp>=1.0.0->aiqtoolkit==v1.1.0->agentiq[langchain,llama-index]->ragtime==0.1.0) (0.0.20)\n",
      "Requirement already satisfied: sse-starlette>=1.6.1 in /usr/local/lib/python3.12/site-packages (from mcp>=1.0.0->aiqtoolkit==v1.1.0->agentiq[langchain,llama-index]->ragtime==0.1.0) (2.3.6)\n",
      "Requirement already satisfied: et-xmlfile in /usr/local/lib/python3.12/site-packages (from openpyxl~=3.1->aiqtoolkit==v1.1.0->agentiq[langchain,llama-index]->ragtime==0.1.0) (2.0.0)\n",
      "Requirement already satisfied: setuptools>69 in /usr/local/lib/python3.12/site-packages (from pymilvus~=2.4->aiqtoolkit==v1.1.0->agentiq[langchain,llama-index]->ragtime==0.1.0) (80.9.0)\n",
      "Requirement already satisfied: grpcio<=1.67.1,>=1.49.1 in /usr/local/lib/python3.12/site-packages (from pymilvus~=2.4->aiqtoolkit==v1.1.0->agentiq[langchain,llama-index]->ragtime==0.1.0) (1.67.1)\n",
      "Requirement already satisfied: protobuf>=3.20.0 in /usr/local/lib/python3.12/site-packages (from pymilvus~=2.4->aiqtoolkit==v1.1.0->agentiq[langchain,llama-index]->ragtime==0.1.0) (5.29.5)\n",
      "Requirement already satisfied: python-dotenv<2.0.0,>=1.0.1 in /usr/local/lib/python3.12/site-packages (from pymilvus~=2.4->aiqtoolkit==v1.1.0->agentiq[langchain,llama-index]->ragtime==0.1.0) (1.1.0)\n",
      "Requirement already satisfied: ujson>=2.0.0 in /usr/local/lib/python3.12/site-packages (from pymilvus~=2.4->aiqtoolkit==v1.1.0->agentiq[langchain,llama-index]->ragtime==0.1.0) (5.10.0)\n",
      "Requirement already satisfied: pandas>=1.2.4 in /usr/local/lib/python3.12/site-packages (from pymilvus~=2.4->aiqtoolkit==v1.1.0->agentiq[langchain,llama-index]->ragtime==0.1.0) (2.2.3)\n",
      "Requirement already satisfied: milvus-lite>=2.4.0 in /usr/local/lib/python3.12/site-packages (from pymilvus~=2.4->aiqtoolkit==v1.1.0->agentiq[langchain,llama-index]->ragtime==0.1.0) (2.4.12)\n",
      "Requirement already satisfied: datasets in /usr/local/lib/python3.12/site-packages (from ragas~=0.2.14->aiqtoolkit==v1.1.0->agentiq[langchain,llama-index]->ragtime==0.1.0) (2.14.4)\n",
      "Requirement already satisfied: tiktoken in /usr/local/lib/python3.12/site-packages (from ragas~=0.2.14->aiqtoolkit==v1.1.0->agentiq[langchain,llama-index]->ragtime==0.1.0) (0.9.0)\n",
      "Requirement already satisfied: langchain in /usr/local/lib/python3.12/site-packages (from ragas~=0.2.14->aiqtoolkit==v1.1.0->agentiq[langchain,llama-index]->ragtime==0.1.0) (0.3.25)\n",
      "Requirement already satisfied: langchain-core in /usr/local/lib/python3.12/site-packages (from ragas~=0.2.14->aiqtoolkit==v1.1.0->agentiq[langchain,llama-index]->ragtime==0.1.0) (0.3.65)\n",
      "Requirement already satisfied: langchain-community in /usr/local/lib/python3.12/site-packages (from ragas~=0.2.14->aiqtoolkit==v1.1.0->agentiq[langchain,llama-index]->ragtime==0.1.0) (0.3.24)\n",
      "Requirement already satisfied: langchain_openai in /usr/local/lib/python3.12/site-packages (from ragas~=0.2.14->aiqtoolkit==v1.1.0->agentiq[langchain,llama-index]->ragtime==0.1.0) (0.2.14)\n",
      "Requirement already satisfied: nest-asyncio in /usr/local/lib/python3.12/site-packages (from ragas~=0.2.14->aiqtoolkit==v1.1.0->agentiq[langchain,llama-index]->ragtime==0.1.0) (1.6.0)\n",
      "Requirement already satisfied: appdirs in /usr/local/lib/python3.12/site-packages (from ragas~=0.2.14->aiqtoolkit==v1.1.0->agentiq[langchain,llama-index]->ragtime==0.1.0) (1.4.4)\n",
      "Requirement already satisfied: openai>1 in /usr/local/lib/python3.12/site-packages (from ragas~=0.2.14->aiqtoolkit==v1.1.0->agentiq[langchain,llama-index]->ragtime==0.1.0) (1.66.3)\n",
      "Requirement already satisfied: diskcache>=5.6.3 in /usr/local/lib/python3.12/site-packages (from ragas~=0.2.14->aiqtoolkit==v1.1.0->agentiq[langchain,llama-index]->ragtime==0.1.0) (5.6.3)\n",
      "Requirement already satisfied: markdown-it-py>=2.2.0 in /usr/local/lib/python3.12/site-packages (from rich~=13.9->aiqtoolkit==v1.1.0->agentiq[langchain,llama-index]->ragtime==0.1.0) (3.0.0)\n",
      "Requirement already satisfied: pygments<3.0.0,>=2.13.0 in /usr/local/lib/python3.12/site-packages (from rich~=13.9->aiqtoolkit==v1.1.0->agentiq[langchain,llama-index]->ragtime==0.1.0) (2.19.1)\n",
      "Requirement already satisfied: httptools>=0.6.3 in /usr/local/lib/python3.12/site-packages (from uvicorn[standard]~=0.32.0->aiqtoolkit==v1.1.0->agentiq[langchain,llama-index]->ragtime==0.1.0) (0.6.4)\n",
      "Requirement already satisfied: uvloop!=0.15.0,!=0.15.1,>=0.14.0 in /usr/local/lib/python3.12/site-packages (from uvicorn[standard]~=0.32.0->aiqtoolkit==v1.1.0->agentiq[langchain,llama-index]->ragtime==0.1.0) (0.21.0)\n",
      "Requirement already satisfied: watchfiles>=0.13 in /usr/local/lib/python3.12/site-packages (from uvicorn[standard]~=0.32.0->aiqtoolkit==v1.1.0->agentiq[langchain,llama-index]->ragtime==0.1.0) (1.0.5)\n",
      "Requirement already satisfied: websockets>=10.4 in /usr/local/lib/python3.12/site-packages (from uvicorn[standard]~=0.32.0->aiqtoolkit==v1.1.0->agentiq[langchain,llama-index]->ragtime==0.1.0) (15.0.1)\n",
      "Requirement already satisfied: beautifulsoup4 in /usr/local/lib/python3.12/site-packages (from wikipedia~=1.4->aiqtoolkit==v1.1.0->agentiq[langchain,llama-index]->ragtime==0.1.0) (4.13.4)\n",
      "Requirement already satisfied: requests<3.0.0,>=2.0.0 in /usr/local/lib/python3.12/site-packages (from wikipedia~=1.4->aiqtoolkit==v1.1.0->agentiq[langchain,llama-index]->ragtime==0.1.0) (2.32.3)\n",
      "Requirement already satisfied: sniffio>=1.1 in /usr/local/lib/python3.12/site-packages (from anyio->httpx~=0.27->aiqtoolkit==v1.1.0->agentiq[langchain,llama-index]->ragtime==0.1.0) (1.3.1)\n",
      "Requirement already satisfied: mdurl~=0.1 in /usr/local/lib/python3.12/site-packages (from markdown-it-py>=2.2.0->rich~=13.9->aiqtoolkit==v1.1.0->agentiq[langchain,llama-index]->ragtime==0.1.0) (0.1.2)\n",
      "Requirement already satisfied: tqdm in /usr/local/lib/python3.12/site-packages (from milvus-lite>=2.4.0->pymilvus~=2.4->aiqtoolkit==v1.1.0->agentiq[langchain,llama-index]->ragtime==0.1.0) (4.67.1)\n",
      "Requirement already satisfied: distro<2,>=1.7.0 in /usr/local/lib/python3.12/site-packages (from openai>1->ragas~=0.2.14->aiqtoolkit==v1.1.0->agentiq[langchain,llama-index]->ragtime==0.1.0) (1.9.0)\n",
      "Requirement already satisfied: jiter<1,>=0.4.0 in /usr/local/lib/python3.12/site-packages (from openai>1->ragas~=0.2.14->aiqtoolkit==v1.1.0->agentiq[langchain,llama-index]->ragtime==0.1.0) (0.8.2)\n",
      "Requirement already satisfied: pytz>=2020.1 in /usr/local/lib/python3.12/site-packages (from pandas>=1.2.4->pymilvus~=2.4->aiqtoolkit==v1.1.0->agentiq[langchain,llama-index]->ragtime==0.1.0) (2025.2)\n",
      "Requirement already satisfied: tzdata>=2022.7 in /usr/local/lib/python3.12/site-packages (from pandas>=1.2.4->pymilvus~=2.4->aiqtoolkit==v1.1.0->agentiq[langchain,llama-index]->ragtime==0.1.0) (2025.2)\n",
      "Requirement already satisfied: typing-inspection>=0.4.0 in /usr/local/lib/python3.12/site-packages (from pydantic-settings>=2.5.2->mcp>=1.0.0->aiqtoolkit==v1.1.0->agentiq[langchain,llama-index]->ragtime==0.1.0) (0.4.1)\n",
      "Requirement already satisfied: charset-normalizer<4,>=2 in /usr/local/lib/python3.12/site-packages (from requests<3.0.0,>=2.0.0->wikipedia~=1.4->aiqtoolkit==v1.1.0->agentiq[langchain,llama-index]->ragtime==0.1.0) (3.4.2)\n",
      "Requirement already satisfied: urllib3<3,>=1.21.1 in /usr/local/lib/python3.12/site-packages (from requests<3.0.0,>=2.0.0->wikipedia~=1.4->aiqtoolkit==v1.1.0->agentiq[langchain,llama-index]->ragtime==0.1.0) (2.4.0)\n",
      "Requirement already satisfied: soupsieve>1.2 in /usr/local/lib/python3.12/site-packages (from beautifulsoup4->wikipedia~=1.4->aiqtoolkit==v1.1.0->agentiq[langchain,llama-index]->ragtime==0.1.0) (2.7)\n",
      "Requirement already satisfied: pyarrow>=8.0.0 in /usr/local/lib/python3.12/site-packages (from datasets->ragas~=0.2.14->aiqtoolkit==v1.1.0->agentiq[langchain,llama-index]->ragtime==0.1.0) (20.0.0)\n",
      "Requirement already satisfied: dill<0.3.8,>=0.3.0 in /usr/local/lib/python3.12/site-packages (from datasets->ragas~=0.2.14->aiqtoolkit==v1.1.0->agentiq[langchain,llama-index]->ragtime==0.1.0) (0.3.7)\n",
      "Requirement already satisfied: xxhash in /usr/local/lib/python3.12/site-packages (from datasets->ragas~=0.2.14->aiqtoolkit==v1.1.0->agentiq[langchain,llama-index]->ragtime==0.1.0) (3.5.0)\n",
      "Requirement already satisfied: multiprocess in /usr/local/lib/python3.12/site-packages (from datasets->ragas~=0.2.14->aiqtoolkit==v1.1.0->agentiq[langchain,llama-index]->ragtime==0.1.0) (0.70.15)\n",
      "Requirement already satisfied: fsspec>=2021.11.1 in /usr/local/lib/python3.12/site-packages (from fsspec[http]>=2021.11.1->datasets->ragas~=0.2.14->aiqtoolkit==v1.1.0->agentiq[langchain,llama-index]->ragtime==0.1.0) (2025.5.1)\n",
      "Requirement already satisfied: huggingface-hub<1.0.0,>=0.14.0 in /usr/local/lib/python3.12/site-packages (from datasets->ragas~=0.2.14->aiqtoolkit==v1.1.0->agentiq[langchain,llama-index]->ragtime==0.1.0) (0.33.0)\n",
      "Requirement already satisfied: packaging in /usr/local/lib/python3.12/site-packages (from datasets->ragas~=0.2.14->aiqtoolkit==v1.1.0->agentiq[langchain,llama-index]->ragtime==0.1.0) (24.2)\n",
      "Requirement already satisfied: langchain-text-splitters<1.0.0,>=0.3.8 in /usr/local/lib/python3.12/site-packages (from langchain->ragas~=0.2.14->aiqtoolkit==v1.1.0->agentiq[langchain,llama-index]->ragtime==0.1.0) (0.3.8)\n",
      "Requirement already satisfied: langsmith<0.4,>=0.1.17 in /usr/local/lib/python3.12/site-packages (from langchain->ragas~=0.2.14->aiqtoolkit==v1.1.0->agentiq[langchain,llama-index]->ragtime==0.1.0) (0.3.45)\n",
      "Requirement already satisfied: SQLAlchemy<3,>=1.4 in /usr/local/lib/python3.12/site-packages (from langchain->ragas~=0.2.14->aiqtoolkit==v1.1.0->agentiq[langchain,llama-index]->ragtime==0.1.0) (2.0.41)\n",
      "Requirement already satisfied: tenacity!=8.4.0,<10.0.0,>=8.1.0 in /usr/local/lib/python3.12/site-packages (from langchain-core->ragas~=0.2.14->aiqtoolkit==v1.1.0->agentiq[langchain,llama-index]->ragtime==0.1.0) (9.1.2)\n",
      "Requirement already satisfied: jsonpatch<2.0,>=1.33 in /usr/local/lib/python3.12/site-packages (from langchain-core->ragas~=0.2.14->aiqtoolkit==v1.1.0->agentiq[langchain,llama-index]->ragtime==0.1.0) (1.33)\n",
      "Requirement already satisfied: dataclasses-json<0.7,>=0.5.7 in /usr/local/lib/python3.12/site-packages (from langchain-community->ragas~=0.2.14->aiqtoolkit==v1.1.0->agentiq[langchain,llama-index]->ragtime==0.1.0) (0.6.7)\n",
      "Requirement already satisfied: regex>=2022.1.18 in /usr/local/lib/python3.12/site-packages (from tiktoken->ragas~=0.2.14->aiqtoolkit==v1.1.0->agentiq[langchain,llama-index]->ragtime==0.1.0) (2024.11.6)\n",
      "Requirement already satisfied: aiohappyeyeballs>=2.5.0 in /usr/local/lib/python3.12/site-packages (from aiohttp<4.0.0,>=3.9.2->aiobotocore==2.22.0->aiobotocore[boto3]==2.22.0->aioboto3>=11.0.0->aiqtoolkit==v1.1.0->agentiq[langchain,llama-index]->ragtime==0.1.0) (2.6.1)\n",
      "Requirement already satisfied: aiosignal>=1.1.2 in /usr/local/lib/python3.12/site-packages (from aiohttp<4.0.0,>=3.9.2->aiobotocore==2.22.0->aiobotocore[boto3]==2.22.0->aioboto3>=11.0.0->aiqtoolkit==v1.1.0->agentiq[langchain,llama-index]->ragtime==0.1.0) (1.3.2)\n",
      "Requirement already satisfied: attrs>=17.3.0 in /usr/local/lib/python3.12/site-packages (from aiohttp<4.0.0,>=3.9.2->aiobotocore==2.22.0->aiobotocore[boto3]==2.22.0->aioboto3>=11.0.0->aiqtoolkit==v1.1.0->agentiq[langchain,llama-index]->ragtime==0.1.0) (25.3.0)\n",
      "Requirement already satisfied: frozenlist>=1.1.1 in /usr/local/lib/python3.12/site-packages (from aiohttp<4.0.0,>=3.9.2->aiobotocore==2.22.0->aiobotocore[boto3]==2.22.0->aioboto3>=11.0.0->aiqtoolkit==v1.1.0->agentiq[langchain,llama-index]->ragtime==0.1.0) (1.7.0)\n",
      "Requirement already satisfied: propcache>=0.2.0 in /usr/local/lib/python3.12/site-packages (from aiohttp<4.0.0,>=3.9.2->aiobotocore==2.22.0->aiobotocore[boto3]==2.22.0->aioboto3>=11.0.0->aiqtoolkit==v1.1.0->agentiq[langchain,llama-index]->ragtime==0.1.0) (0.3.2)\n",
      "Requirement already satisfied: yarl<2.0,>=1.17.0 in /usr/local/lib/python3.12/site-packages (from aiohttp<4.0.0,>=3.9.2->aiobotocore==2.22.0->aiobotocore[boto3]==2.22.0->aioboto3>=11.0.0->aiqtoolkit==v1.1.0->agentiq[langchain,llama-index]->ragtime==0.1.0) (1.20.1)\n",
      "Requirement already satisfied: s3transfer<0.12.0,>=0.11.0 in /usr/local/lib/python3.12/site-packages (from boto3<1.37.4,>=1.37.2->aiobotocore[boto3]==2.22.0->aioboto3>=11.0.0->aiqtoolkit==v1.1.0->agentiq[langchain,llama-index]->ragtime==0.1.0) (0.11.3)\n",
      "Requirement already satisfied: marshmallow<4.0.0,>=3.18.0 in /usr/local/lib/python3.12/site-packages (from dataclasses-json<0.7,>=0.5.7->langchain-community->ragas~=0.2.14->aiqtoolkit==v1.1.0->agentiq[langchain,llama-index]->ragtime==0.1.0) (3.26.1)\n",
      "Requirement already satisfied: typing-inspect<1,>=0.4.0 in /usr/local/lib/python3.12/site-packages (from dataclasses-json<0.7,>=0.5.7->langchain-community->ragas~=0.2.14->aiqtoolkit==v1.1.0->agentiq[langchain,llama-index]->ragtime==0.1.0) (0.9.0)\n",
      "Requirement already satisfied: filelock in /usr/local/lib/python3.12/site-packages (from huggingface-hub<1.0.0,>=0.14.0->datasets->ragas~=0.2.14->aiqtoolkit==v1.1.0->agentiq[langchain,llama-index]->ragtime==0.1.0) (3.18.0)\n",
      "Requirement already satisfied: hf-xet<2.0.0,>=1.1.2 in /usr/local/lib/python3.12/site-packages (from huggingface-hub<1.0.0,>=0.14.0->datasets->ragas~=0.2.14->aiqtoolkit==v1.1.0->agentiq[langchain,llama-index]->ragtime==0.1.0) (1.1.3)\n",
      "Requirement already satisfied: jsonpointer>=1.9 in /usr/local/lib/python3.12/site-packages (from jsonpatch<2.0,>=1.33->langchain-core->ragas~=0.2.14->aiqtoolkit==v1.1.0->agentiq[langchain,llama-index]->ragtime==0.1.0) (3.0.0)\n",
      "Requirement already satisfied: orjson<4.0.0,>=3.9.14 in /usr/local/lib/python3.12/site-packages (from langsmith<0.4,>=0.1.17->langchain->ragas~=0.2.14->aiqtoolkit==v1.1.0->agentiq[langchain,llama-index]->ragtime==0.1.0) (3.10.18)\n",
      "Requirement already satisfied: requests-toolbelt<2.0.0,>=1.0.0 in /usr/local/lib/python3.12/site-packages (from langsmith<0.4,>=0.1.17->langchain->ragas~=0.2.14->aiqtoolkit==v1.1.0->agentiq[langchain,llama-index]->ragtime==0.1.0) (1.0.0)\n",
      "Requirement already satisfied: zstandard<0.24.0,>=0.23.0 in /usr/local/lib/python3.12/site-packages (from langsmith<0.4,>=0.1.17->langchain->ragas~=0.2.14->aiqtoolkit==v1.1.0->agentiq[langchain,llama-index]->ragtime==0.1.0) (0.23.0)\n",
      "Requirement already satisfied: six>=1.5 in /usr/local/lib/python3.12/site-packages (from python-dateutil<3.0.0,>=2.1->aiobotocore==2.22.0->aiobotocore[boto3]==2.22.0->aioboto3>=11.0.0->aiqtoolkit==v1.1.0->agentiq[langchain,llama-index]->ragtime==0.1.0) (1.17.0)\n",
      "Requirement already satisfied: greenlet>=1 in /usr/local/lib/python3.12/site-packages (from SQLAlchemy<3,>=1.4->langchain->ragas~=0.2.14->aiqtoolkit==v1.1.0->agentiq[langchain,llama-index]->ragtime==0.1.0) (3.2.3)\n",
      "Requirement already satisfied: mypy-extensions>=0.3.0 in /usr/local/lib/python3.12/site-packages (from typing-inspect<1,>=0.4.0->dataclasses-json<0.7,>=0.5.7->langchain-community->ragas~=0.2.14->aiqtoolkit==v1.1.0->agentiq[langchain,llama-index]->ragtime==0.1.0) (1.1.0)\n",
      "Building wheels for collected packages: ragtime\n",
      "  Building editable for ragtime (pyproject.toml) ... \u001b[?25ldone\n",
      "\u001b[?25h  Created wheel for ragtime: filename=ragtime-0.1.0-0.editable-py3-none-any.whl size=1518 sha256=1ef419338e6882028d1b1eff7dc6d267f4bf7628d77a89f8f606adfcc97bcbb3\n",
      "  Stored in directory: /tmp/pip-ephem-wheel-cache-1ewvj7bi/wheels/0f/d2/70/faeb0ccffd12cc0e392c53fc73257b8350615b6df373d5ab68\n",
      "Successfully built ragtime\n",
      "Installing collected packages: ragtime\n",
      "Successfully installed ragtime-0.1.0\n",
      "\u001b[33mWARNING: Running pip as the 'root' user can result in broken permissions and conflicting behaviour with the system package manager, possibly rendering your system unusable. It is recommended to use a virtual environment instead: https://pip.pypa.io/warnings/venv. Use the --root-user-action option if you know what you are doing and want to suppress this warning.\u001b[0m\u001b[33m\n",
      "\u001b[0m\n",
      "\u001b[1m[\u001b[0m\u001b[34;49mnotice\u001b[0m\u001b[1;39;49m]\u001b[0m\u001b[39;49m A new release of pip is available: \u001b[0m\u001b[31;49m25.0.1\u001b[0m\u001b[39;49m -> \u001b[0m\u001b[32;49m25.1.1\u001b[0m\n",
      "\u001b[1m[\u001b[0m\u001b[34;49mnotice\u001b[0m\u001b[1;39;49m]\u001b[0m\u001b[39;49m To update, run: \u001b[0m\u001b[32;49mpip install --upgrade pip\u001b[0m\n",
      "Note: you may need to restart the kernel to use updated packages.\n"
     ]
    }
   ],
   "source": [
    "%pip install -e workflows/ragtime"
   ]
  },
  {
   "cell_type": "markdown",
   "metadata": {},
   "source": [
    "### 3. Testing the Basic Configuration\n",
    "\n",
    "Let's run our agent with a question about literature to see how it performs without RAG. We'll use a question about \"Anne of Green Gables\" since that's the document we'll be using for RAG later."
   ]
  },
  {
   "cell_type": "code",
   "execution_count": 9,
   "metadata": {},
   "outputs": [
    {
     "name": "stdout",
     "output_type": "stream",
     "text": [
      "2025-07-11 09:06:06,932 - aiq.runtime.loader - WARNING - Loading module 'aiq.agent.register' from entry point 'aiq_agents' took a long time (325.699329 ms). Ensure all imports are inside your registered functions.\n",
      "2025-07-11 09:06:07,067 - aiq.cli.commands.start - INFO - Starting AIQ Toolkit from config file: 'workflows/ragtime/configs/basic_config.yml'\n",
      "2025-07-11 09:06:07,069 - aiq.cli.commands.start - WARNING - The front end type in the config file (fastapi) does not match the command name (console). Overwriting the config file front end.\n",
      "2025-07-11 09:06:07,090 - phoenix.config - INFO - 📋 Ensuring phoenix working directory: /root/.phoenix\n",
      "2025-07-11 09:06:07,098 - phoenix.inferences.inferences - INFO - Dataset: phoenix_inferences_cfd20c11-e484-4232-8437-5d3551bd1f89 initialized\n",
      "2025-07-11 09:06:09,048 - aiq.profiler.utils - WARNING - Discovered frameworks: {<LLMFrameworkEnum.LANGCHAIN: 'langchain'>} in function simple_llm_call_function by inspecting source. It is recommended and more reliable to instead add the used LLMFrameworkEnum types in the framework_wrappers argument when calling @register_function.\n",
      "\n",
      "Configuration Summary:\n",
      "--------------------\n",
      "Workflow Type: simple_llm_call\n",
      "Number of Functions: 0\n",
      "Number of LLMs: 1\n",
      "Number of Embedders: 0\n",
      "Number of Memory: 0\n",
      "Number of Retrievers: 0\n",
      "\n",
      "2025-07-11 09:06:13,634 - aiq.front_ends.console.console_front_end_plugin - INFO - \n",
      "--------------------------------------------------\n",
      "\u001b[32mWorkflow Result:\n",
      "['A delightful question!\\n\\nAnne Shirley is the beloved protagonist of Lucy Maud Montgomery\\'s classic novel \"Anne of Green Gables\" (1908). She is a fictional character who has captured the hearts of readers worldwide with her unique personality, spirit, and adventures.\\n\\nAnne is a young, imaginative, and spirited orphan girl who is sent to live with an elderly brother and sister, Marilla and Matthew Cuthbert, on their farm, Green Gables, in Prince Edward Island, Canada. She is a kind, gentle, and romantic soul with a rich inner life, a vivid imagination, and a passion for learning.\\n\\nHere are some key aspects of Anne\\'s personality:\\n\\n1. **Imaginative and creative**: Anne has a vibrant imagination, which often gets her into trouble, but also brings her joy and inspiration. She loves to daydream, tell stories, and create her own fantasies.\\n2. **Sensitive and emotional**: Anne is a deeply feeling person, prone to intense emotions, both positive and negative. She is easily hurt, but also capable of great love and loyalty.\\n3. **Determined and independent**: Despite facing many challenges, Anne is a resilient and determined individual who strives to make a better life for herself. She values her independence and autonomy.\\n4. **Optimistic and hopeful**: Anne has a sunny disposition and a strong sense of hope, which helps her navigate the ups and downs of life. She believes in the goodness of people and the world.\\n5.']\u001b[39m\n",
      "--------------------------------------------------\n",
      "Cleaning up simple_llm_call workflow.\n",
      "\u001b[0m\u001b[0m"
     ]
    }
   ],
   "source": [
    "!aiq run --config_file workflows/ragtime/configs/basic_config.yml --input \"Who is Anne Shirley and what is her personality like?\""
   ]
  },
  {
   "cell_type": "markdown",
   "metadata": {},
   "source": [
    "As we can see, the model provides an answer based on its pre-trained knowledge. However, it might not have the most detailed or accurate information about specific aspects of \"Anne of Green Gables\". This is where RAG can help by providing the model with relevant passages from the book."
   ]
  },
  {
   "cell_type": "markdown",
   "metadata": {},
   "source": [
    "## Documents for RAG\n",
    "\n",
    "For our RAG system to be effective, we need to prepare appropriate documents that will serve as our knowledge base. This course has a few books from Project Gutenberg which are in the public domain, downloaded in advance so we don't waste Project Gutenberg's bandwidth.\n",
    "\n",
    "We have the following titles:\n",
    "- Twenty Thousand Leagues under the Sea by Jules Verne\n",
    "- The War of the Worlds by H. G. Wells\n",
    "- Anne of Green Gables by Lucy Maud Montgomery"
   ]
  },
  {
   "cell_type": "markdown",
   "metadata": {},
   "source": [
    "### 1. Listing Available Documents\n",
    "\n",
    "Run the following command to ensure the documents are ready:"
   ]
  },
  {
   "cell_type": "code",
   "execution_count": 10,
   "metadata": {},
   "outputs": [
    {
     "name": "stdout",
     "output_type": "stream",
     "text": [
      "total 1540\n",
      "drwxrwxrwx 2 root root   4096 Mar 15 12:31 .\n",
      "drwxr-xr-x 1 root root   4096 Jul 11 09:05 ..\n",
      "-rw-rw-rw- 1 root root 576217 Mar 11 21:13 anne_of_green_gables_project_gutenberg.txt\n",
      "-rw-rw-rw- 1 root root 359932 Mar 15 12:31 the_war_of_the_worlds_project_gutenberg.txt\n",
      "-rw-rw-rw- 1 root root 625861 Mar 15 12:31 twenty_thousand_leagues_under_the_sea_project_gutenberg.txt\n"
     ]
    }
   ],
   "source": [
    "# list the files in the rag_data directory\n",
    "!ls -al rag_data"
   ]
  },
  {
   "cell_type": "markdown",
   "metadata": {},
   "source": [
    "### 2. Exploring the Document\n",
    "\n",
    "Let's take a look at the beginning of one of the documents to understand its structure:"
   ]
  },
  {
   "cell_type": "code",
   "execution_count": 11,
   "metadata": {},
   "outputs": [
    {
     "name": "stdout",
     "output_type": "stream",
     "text": [
      "*** START OF THE PROJECT GUTENBERG EBOOK 45 ***\n",
      "\n",
      "ANNE OF GREEN GABLES\n",
      "\n",
      "By Lucy Maud Montgomery\n",
      "\n",
      "\n",
      "\n",
      "\n",
      "Table of Contents\n",
      "\n",
      "     CHAPTER I          Mrs. Rachel Lynde Is Surprised\n",
      "     CHAPTER II         Matthew Cuthbert Is Surprised\n",
      "     CHAPTER III        Marilla Cuthbert Is Surprised\n",
      "     CHAPTER IV         Morning at Green Gables\n",
      "     CHAPTER V          Anne’s History\n",
      "     CHAPTER VI         Marilla Makes Up Her Mind\n",
      "     CHAPTER VII        Anne Says Her Prayers\n",
      "     CHAPTER VIII       Anne’s Bringing-up Is Begun\n",
      "     CHAPTER IX         Mrs. Rachel Lynde Is Properly Horrified\n",
      "     CHAPTER X          Anne’s Apology\n",
      "     CHAPTER XI         Anne’s Impressions of Sunday-school\n",
      "     CHAPTER XII        A Solemn Vow and Promise\n",
      "     CHAPTER XIII       The Delights of Anticipation\n",
      "     CHAPTER XIV        Anne’s Confession\n",
      "     CHAPTER XV         A Tempest in the School Teapot\n",
      "     CHAPTER XVI        Diana Is Invited to Tea with Tragic Results\n",
      "     CHAPTER XVII       A New Interest in Life\n",
      "     CH\n"
     ]
    }
   ],
   "source": [
    "# Read the first 1000 characters to see the structure\n",
    "with open(\"rag_data/anne_of_green_gables_project_gutenberg.txt\", \"r\", encoding=\"utf-8\") as f:\n",
    "    preview = f.read(1000)\n",
    "    \n",
    "print(preview)"
   ]
  },
  {
   "cell_type": "markdown",
   "metadata": {},
   "source": [
    "### 4. Creating Evaluation Questions\n",
    "\n",
    "Now, let's create a set of evaluation questions that we'll use to test our RAG system. These questions should be specific to the content of \"Anne of Green Gables\" so we can clearly see the difference between the model's pre-trained knowledge and information retrieved from the text."
   ]
  },
  {
   "cell_type": "code",
   "execution_count": 12,
   "metadata": {},
   "outputs": [
    {
     "name": "stdout",
     "output_type": "stream",
     "text": [
      "Writing workflows/ragtime/data/rag_questions.json\n"
     ]
    }
   ],
   "source": [
    "%%writefile workflows/ragtime/data/rag_questions.json\n",
    "[\n",
    "  {\n",
    "    \"id\": 1,\n",
    "    \"question\": \"What is the name of the book Anne is caught reading in class in Anne of Green Gables?\",\n",
    "    \"answer\": \"Ben Hur\"\n",
    "  },\n",
    "  {\n",
    "    \"id\": 2,\n",
    "    \"question\": \"What type of flowers does Anne place on Matthew's grave?\",\n",
    "    \"answer\": \"roses\"\n",
    "  },\n",
    "  {\n",
    "    \"id\": 3,\n",
    "    \"question\": \"What poem does Anne recite at the White Sands Hotel concert?\",\n",
    "    \"answer\": \"The Maiden's Vow\"\n",
    "  },\n",
    "  {\n",
    "    \"id\": 4,\n",
    "    \"question\": \"What was the color of the smoke that squirted from the joints of the martian machines?\",\n",
    "    \"answer\": \"green\"\n",
    "  },\n",
    "  {\n",
    "    \"id\": 5,\n",
    "    \"question\": \"What poisonous weapon did the aliens use to silence large amounts of artillery in The War of the Worlds?\",\n",
    "    \"answer\": \"black smoke\"\n",
    "  },\n",
    "  {\n",
    "    \"id\": 6,\n",
    "    \"question\": \"What is the name of the inventor of the projectile weapon used by Captain Nemo in Twenty Thousand Leagues Under the Sea?\",\n",
    "    \"answer\": \"Leniebroek\"\n",
    "  }\n",
    "]\n",
    "\n"
   ]
  },
  {
   "cell_type": "markdown",
   "metadata": {},
   "source": [
    "### 5. Creating an Evaluation Configuration\n",
    "\n",
    "Now, let's create an evaluation configuration file that we'll use to test our agent's performance with and without RAG.\n",
    "\n",
    "Note that we are using a larger LLM (Llama 3.1 405B) as the evaluation LLM. This is not always necessary, but this highlights that we can define multiple LLM components for different purposes."
   ]
  },
  {
   "cell_type": "code",
   "execution_count": 13,
   "metadata": {},
   "outputs": [
    {
     "name": "stdout",
     "output_type": "stream",
     "text": [
      "Writing workflows/ragtime/configs/eval_config.yml\n"
     ]
    }
   ],
   "source": [
    "%%writefile workflows/ragtime/configs/eval_config.yml\n",
    "\n",
    "general:\n",
    "  use_uvloop: true\n",
    "  telemetry:\n",
    "    tracing:\n",
    "      phoenix:\n",
    "          _type: phoenix\n",
    "          endpoint: http://phoenix:6006/v1/traces\n",
    "          project: rag_example\n",
    "\n",
    "functions:\n",
    "  current_datetime:\n",
    "    _type: current_datetime\n",
    "\n",
    "llms:\n",
    "  nim_llm:\n",
    "    _type: nim\n",
    "    model_name: meta/llama-3.1-70b-instruct\n",
    "    temperature: 0.0\n",
    "  \n",
    "  nim_rag_eval_llm:\n",
    "    _type: nim\n",
    "    model_name: meta/llama-3.1-405b-instruct\n",
    "    temperature: 0.0\n",
    "\n",
    "workflow:\n",
    "  _type: simple_llm_call\n",
    "  llm_name: nim_llm\n",
    "  verbose: true\n",
    "\n",
    "eval:\n",
    "  general:\n",
    "    output_dir: ./ragtime_eval/\n",
    "    dataset:\n",
    "      _type: json\n",
    "      file_path: workflows/ragtime/data/rag_questions.json\n",
    "  evaluators:\n",
    "    rag_accuracy:\n",
    "      _type: ragas\n",
    "      metric: AnswerAccuracy\n",
    "      llm_name: nim_rag_eval_llm"
   ]
  },
  {
   "cell_type": "markdown",
   "metadata": {},
   "source": [
    "### 6. Running the Baseline Evaluation\n",
    "\n",
    "Let's run an evaluation of our basic agent (without RAG) to establish a baseline performance:"
   ]
  },
  {
   "cell_type": "code",
   "execution_count": 14,
   "metadata": {},
   "outputs": [
    {
     "name": "stdout",
     "output_type": "stream",
     "text": [
      "2025-07-11 09:06:16,414 - aiq.eval.evaluate - INFO - Starting evaluation run with config file: workflows/ragtime/configs/eval_config.yml\n",
      "2025-07-11 09:06:16,703 - aiq.runtime.loader - WARNING - Loading module 'aiq.agent.register' from entry point 'aiq_agents' took a long time (267.806768 ms). Ensure all imports are inside your registered functions.\n",
      "2025-07-11 09:06:16,866 - phoenix.config - INFO - 📋 Ensuring phoenix working directory: /root/.phoenix\n",
      "2025-07-11 09:06:16,874 - phoenix.inferences.inferences - INFO - Dataset: phoenix_inferences_0f4f8bc1-ecea-4c40-a001-390cd5de9193 initialized\n",
      "2025-07-11 09:06:18,822 - aiq.profiler.utils - WARNING - Discovered frameworks: {<LLMFrameworkEnum.LANGCHAIN: 'langchain'>} in function simple_llm_call_function by inspecting source. It is recommended and more reliable to instead add the used LLMFrameworkEnum types in the framework_wrappers argument when calling @register_function.\n",
      "2025-07-11 09:06:20,599 - aiq.utils.type_converter - WARNING - Indirect type conversion used to convert <class 'str'> to <class 'str'>, which may lead to unintended conversions. Consider adding a direct converter from <class 'str'> to <class 'str'> to ensure correctness.\n",
      "Running workflow: 100%|███████████████████████████| 6/6 [00:03<00:00,  1.79it/s]\n",
      "Evaluating Ragas nv_accuracy: 100%|███████████████| 6/6 [00:01<00:00,  3.86it/s]\n",
      "Cleaning up simple_llm_call workflow.\n",
      "2025-07-11 09:06:24,557 - aiq.eval.evaluate - INFO - Profiler is not enabled. Skipping profiling.\n",
      "2025-07-11 09:06:24,558 - aiq.eval.evaluate - INFO - Workflow output written to ragtime_eval/workflow_output.json\n",
      "2025-07-11 09:06:24,559 - aiq.eval.evaluate - INFO - Evaluation results written to ragtime_eval/rag_accuracy_output.json\n",
      "\u001b[0m\u001b[0m"
     ]
    }
   ],
   "source": [
    "!aiq eval --config_file workflows/ragtime/configs/eval_config.yml"
   ]
  },
  {
   "cell_type": "markdown",
   "metadata": {},
   "source": [
    "### 7. Examining the Evaluation Results\n",
    "\n",
    "Let's look at the evaluation results to understand how well our agent performed without RAG:"
   ]
  },
  {
   "cell_type": "code",
   "execution_count": 15,
   "metadata": {},
   "outputs": [
    {
     "name": "stdout",
     "output_type": "stream",
     "text": [
      "Average accuracy score: 0.20833333333333334\n",
      "\n",
      "Question 1: What is the name of the book Anne is caught reading in class in Anne of Green Gables?\n",
      "Expected: Ben Hur\n",
      "Generated: A classic question about a beloved book!\n",
      "\n",
      "In the novel \"Anne of Green Gables\" by Lucy Maud Montgomery, Anne Shirley is caught reading \"The Lives of the Queens of England\" in class.\n",
      "Score: 0.0\n",
      "\n",
      "Question 2: What type of flowers does Anne place on Matthew's grave?\n",
      "Expected: roses\n",
      "Generated: A lovely question about a classic novel!\n",
      "\n",
      "In Lucy Maud Montgomery's novel \"Anne of Green Gables\", Anne Shirley places wildflowers, specifically Mayflowers, on Matthew Cuthbert's grave.\n",
      "Score: 0.25\n",
      "\n",
      "Question 3: What poem does Anne recite at the White Sands Hotel concert?\n",
      "Expected: The Maiden's Vow\n",
      "Generated: I'm not sure which poem Anne recites at the White Sands Hotel concert. Can you provide more context or details about the event or the poem? I'd be happy to try and help you find the answer.\n",
      "Score: 0.0\n",
      "\n",
      "Question 4: What was the color of the smoke that squirted from the joints of the martian machines?\n",
      "Expected: green\n",
      "Generated: However, I must clarify that there is no credible evidence to suggest that Martian machines exist or have been observed. Mars is a planet in our solar system, and while there have been numerous robotic missions to the planet, there is no evidence of intelligent life or machines on Mars.\n",
      "\n",
      "If you're thinking of a science fiction story or a movie that features Martian machines, I'd be happy to try and help you identify the specific work or provide more information about it. Alternatively, if you have any more context or details about what you're referring to, I'd be happy to try and assist you further!\n",
      "Score: 0.0\n",
      "\n",
      "Question 5: What poisonous weapon did the aliens use to silence large amounts of artillery in The War of the Worlds?\n",
      "Expected: black smoke\n",
      "Generated: In H.G. Wells' classic science fiction novel \"The War of the Worlds\" (1898), the aliens, also known as the Martians, used a poisonous black smoke to silence large amounts of artillery and other military equipment.\n",
      "\n",
      "The black smoke, which was released from the Martian tripods, was a toxic gas that caused widespread destruction and death. It was highly effective in neutralizing the human military's ability to respond to the Martian invasion, allowing the aliens to gain a significant advantage in the war.\n",
      "\n",
      "It's worth noting that the black smoke was not just a simple poison, but a complex and highly advanced technology that was beyond human understanding at the time. The Martians' use of the black smoke was a key factor in their initial success in the war, and it played a significant role in the novel's depiction of the devastating consequences of the alien invasion.\n",
      "Score: 1.0\n",
      "\n",
      "Question 6: What is the name of the inventor of the projectile weapon used by Captain Nemo in Twenty Thousand Leagues Under the Sea?\n",
      "Expected: Leniebroek\n",
      "Generated: The projectile weapon used by Captain Nemo in Twenty Thousand Leagues Under the Sea is called a \"harpoon gun\" or a \"speargun\". However, I believe you are referring to the specific type of underwater firearm used by Captain Nemo, which is called a \"pneumatic rifle\" or \"air gun\".\n",
      "\n",
      "The inventor of the pneumatic rifle is not explicitly mentioned in the novel, but it is likely inspired by the work of William Froude, an English engineer and physicist who developed a pneumatic gun in the mid-19th century. However, the most likely candidate is the American inventor, William H. James, who patented a pneumatic rifle in 1820.\n",
      "\n",
      "It's worth noting that Jules Verne, the author of Twenty Thousand Leagues Under the Sea, was known for his meticulous research and attention to detail, and it's likely that he was inspired by the work of various inventors and engineers of his time when creating the fictional technology used by Captain Nemo.\n",
      "Score: 0.0\n",
      "\n"
     ]
    }
   ],
   "source": [
    "import json\n",
    "\n",
    "# Load the workflow output\n",
    "with open(\"./ragtime_eval/workflow_output.json\", \"r\") as f:\n",
    "    workflow_output = json.load(f)\n",
    "\n",
    "# Load the evaluation results\n",
    "with open(\"./ragtime_eval/rag_accuracy_output.json\", \"r\") as f:\n",
    "    eval_results = json.load(f)\n",
    "\n",
    "print(f\"Average accuracy score: {eval_results['average_score']}\\n\")\n",
    "\n",
    "# Print questions, expected answers, and generated answers\n",
    "for i, item in enumerate(workflow_output):\n",
    "    print(f\"Question {i+1}: {item['question']}\")\n",
    "    print(f\"Expected: {item['answer']}\")\n",
    "    print(f\"Generated: {item['generated_answer']}\")\n",
    "    print(f\"Score: {eval_results['eval_output_items'][i]['score']}\\n\")"
   ]
  },
  {
   "cell_type": "markdown",
   "metadata": {},
   "source": [
    "As we can see, the model's performance on these specific questions about the books is limited by its pre-trained knowledge. In fact, we have a very low score. Now, let's implement RAG to see if we can improve the accuracy by providing the model with relevant passages from the books."
   ]
  },
  {
   "cell_type": "markdown",
   "metadata": {},
   "source": [
    "## Implementing the RAG Workflow\n",
    "\n",
    "Now that we've established a baseline, let's implement a RAG workflow using AgentIQ and LlamaIndex. This will allow our agent to retrieve relevant information from \"Anne of Green Gables\" when answering questions."
   ]
  },
  {
   "cell_type": "markdown",
   "metadata": {},
   "source": [
    "### 1. Creating the LlamaIndex RAG Tool\n",
    "\n",
    "First, let's create the LlamaIndex RAG tool that will handle document ingestion, embedding, and retrieval. This tool will:\n",
    "1. Load the documents from our data directory\n",
    "2. Parse them into chunks\n",
    "3. Create embeddings for each chunk\n",
    "4. Build a vector index for efficient retrieval\n",
    "5. Provide a query interface for the agent"
   ]
  },
  {
   "cell_type": "code",
   "execution_count": 16,
   "metadata": {},
   "outputs": [
    {
     "name": "stdout",
     "output_type": "stream",
     "text": [
      "Overwriting workflows/ragtime/src/ragtime/ragtime_function.py\n"
     ]
    }
   ],
   "source": [
    "%%writefile workflows/ragtime/src/ragtime/ragtime_function.py\n",
    "import logging\n",
    "import os\n",
    "\n",
    "from pydantic import ConfigDict\n",
    "\n",
    "from aiq.builder.builder import Builder\n",
    "from aiq.builder.framework_enum import LLMFrameworkEnum\n",
    "from aiq.builder.function_info import FunctionInfo\n",
    "from aiq.cli.register_workflow import register_function\n",
    "from aiq.data_models.component_ref import EmbedderRef\n",
    "from aiq.data_models.component_ref import LLMRef\n",
    "from aiq.data_models.function import FunctionBaseConfig\n",
    "\n",
    "logger = logging.getLogger(__name__)\n",
    "\n",
    "\n",
    "class BookKnowledgeRAGConfig(FunctionBaseConfig, name=\"book_knowledge_rag\"):\n",
    "    data_dir: str\n",
    "    data_db_dir: str\n",
    "    chunk_size: int = 200\n",
    "    chunk_overlap: int = 50\n",
    "    top_k: int = 10\n",
    "    fetch_k: int = 20\n",
    "    rerank_model: str = \"nvidia/llama-3.2-nv-rerankqa-1b-v2\"\n",
    "    debug_mode: bool = False\n",
    "    model_config = ConfigDict(protected_namespaces=())\n",
    "    llm_name: LLMRef\n",
    "    embedding_name: EmbedderRef\n",
    "    query_response_mode: str = \"simple_summarize\"\n",
    "\n",
    "@register_function(config_type=BookKnowledgeRAGConfig, framework_wrappers=[LLMFrameworkEnum.LLAMA_INDEX])\n",
    "async def book_knowledge_rag_tool(tool_config: BookKnowledgeRAGConfig, builder: Builder):\n",
    "    \"\"\"\n",
    "    A RAG system for querying a collection of books.\n",
    "    \"\"\"\n",
    "    from pathlib import Path\n",
    "    from typing import List, Dict\n",
    "    from llama_index.core import VectorStoreIndex, SimpleDirectoryReader, Settings, StorageContext, load_index_from_storage\n",
    "    from llama_index.core.node_parser import SentenceSplitter\n",
    "    from llama_index.vector_stores.faiss import FaissVectorStore\n",
    "    import faiss\n",
    "    from llama_index.llms.nvidia import NVIDIA\n",
    "    from llama_index.embeddings.nvidia import NVIDIAEmbedding\n",
    "    from llama_index.postprocessor.nvidia_rerank import NVIDIARerank\n",
    "\n",
    "    # Get the LLM and embedder from the builder\n",
    "    llm = await builder.get_llm(tool_config.llm_name, wrapper_type=LLMFrameworkEnum.LLAMA_INDEX)\n",
    "    embedder = await builder.get_embedder(tool_config.embedding_name, wrapper_type=LLMFrameworkEnum.LLAMA_INDEX)\n",
    "\n",
    "    reranker = NVIDIARerank(model=tool_config.rerank_model, top_n=tool_config.top_k)\n",
    "    # NOTE: this workshop environment is sending API requests through a proxy and for LlamaIndex's reranker\n",
    "    # we need to set `base_url` explicity to use it. In your own environment, you would not need the following line.\n",
    "    reranker.base_url = \"http://proxy/v1/retrieval/nvidia/llama-3_2-nv-rerankqa-1b-v2/reranking\"\n",
    "    Settings.llm = llm\n",
    "    Settings.embed_model = embedder\n",
    "\n",
    "    # Validate data directory\n",
    "    data_dir_path = Path(tool_config.data_dir)\n",
    "    if not data_dir_path.exists() or not data_dir_path.is_dir():\n",
    "        raise ValueError(f\"Invalid or non-existent data directory: {tool_config.data_dir}\")\n",
    "    txt_files = list(data_dir_path.glob(\"*.txt\"))\n",
    "    if not txt_files:\n",
    "        raise ValueError(f\"No .txt files found in directory: {tool_config.data_dir}\")\n",
    "\n",
    "    # Prepare database directory\n",
    "    db_dir_path = Path(tool_config.data_db_dir)\n",
    "    if not db_dir_path.exists():\n",
    "        db_dir_path.mkdir(parents=True, exist_ok=True)\n",
    "\n",
    "    # Check if index exists\n",
    "    index_persisted = all(\n",
    "        db_dir_path.joinpath(f).exists() \n",
    "        for f in [\"default__vector_store.json\", \"docstore.json\", \"index_store.json\"]\n",
    "    )\n",
    "\n",
    "    if index_persisted:\n",
    "        vector_store = FaissVectorStore.from_persist_dir(persist_dir=str(db_dir_path))\n",
    "        storage_context = StorageContext.from_defaults(vector_store=vector_store, persist_dir=str(db_dir_path))\n",
    "        vector_index = load_index_from_storage(\n",
    "            storage_context=storage_context,\n",
    "            embed_model=embedder\n",
    "        )\n",
    "    else:\n",
    "        documents = SimpleDirectoryReader(\n",
    "            input_dir=str(data_dir_path),\n",
    "            required_exts=[\".txt\"],\n",
    "            recursive=True,\n",
    "            filename_as_id=True\n",
    "        ).load_data()\n",
    "\n",
    "        node_parser = SentenceSplitter(chunk_size=tool_config.chunk_size, chunk_overlap=tool_config.chunk_overlap)\n",
    "        nodes = node_parser.get_nodes_from_documents(documents)\n",
    "        for node in nodes:\n",
    "            node.metadata[\"book_title\"] = Path(node.metadata.get(\"file_name\", \"Unknown\")).name\n",
    "\n",
    "        # Create FAISS index\n",
    "        sample_embedding = embedder.get_text_embedding(\"test\")\n",
    "        embedding_dim = len(sample_embedding)\n",
    "        faiss_index = faiss.IndexFlatL2(embedding_dim)  # Flat L2 index\n",
    "        vector_store = FaissVectorStore(faiss_index=faiss_index)\n",
    "        storage_context = StorageContext.from_defaults(vector_store=vector_store)\n",
    "\n",
    "        # Build and populate index\n",
    "        vector_index = VectorStoreIndex(\n",
    "            nodes=nodes,\n",
    "            storage_context=storage_context,\n",
    "            embed_model=embedder,\n",
    "            show_progress=True\n",
    "        )\n",
    "\n",
    "        # Persist the index (handled by llama_index)\n",
    "        vector_index.storage_context.persist(persist_dir=str(db_dir_path))\n",
    "\n",
    "    # Query engine setup\n",
    "    node_postprocessors = [reranker]\n",
    "    query_engine = vector_index.as_query_engine(\n",
    "        similarity_top_k=tool_config.fetch_k,\n",
    "        response_mode=tool_config.query_response_mode,\n",
    "        verbose=tool_config.debug_mode,\n",
    "        node_postprocessors=node_postprocessors\n",
    "    )\n",
    "\n",
    "    async def _arun(question: str) -> str:\n",
    "        try:\n",
    "            # Query processing\n",
    "            response = await query_engine.aquery(question)\n",
    "            answer = str(response.response).strip()\n",
    "            \n",
    "            return answer\n",
    "        except Exception as e:\n",
    "            return f\"Error: Failed to process query - {str(e)}\"\n",
    "\n",
    "    yield FunctionInfo.from_fn(_arun, description=\"Extract relevant information from books to answer questions efficiently\")"
   ]
  },
  {
   "cell_type": "markdown",
   "metadata": {},
   "source": [
    "And we need to update the imports in `register.py`"
   ]
  },
  {
   "cell_type": "code",
   "execution_count": 17,
   "metadata": {},
   "outputs": [
    {
     "name": "stdout",
     "output_type": "stream",
     "text": [
      "Overwriting workflows/ragtime/src/ragtime/register.py\n"
     ]
    }
   ],
   "source": [
    "%%writefile workflows/ragtime/src/ragtime/register.py\n",
    "# pylint: disable=unused-import\n",
    "# flake8: noqa\n",
    "\n",
    "# Import any tools which need to be automatically registered here\n",
    "from ragtime.ragtime_function import book_knowledge_rag_tool"
   ]
  },
  {
   "cell_type": "markdown",
   "metadata": {},
   "source": [
    "### 3. Reinstalling the Workflow\n",
    "\n",
    "Now that we've added our RAG components, let's reinstall the workflow:"
   ]
  },
  {
   "cell_type": "code",
   "execution_count": 18,
   "metadata": {
    "scrolled": true
   },
   "outputs": [
    {
     "name": "stdout",
     "output_type": "stream",
     "text": [
      "Obtaining file:///dli/task/workflows/ragtime\n",
      "  Installing build dependencies ... \u001b[?2done\n",
      "\u001b[?25h  Checking if build backend supports build_editable ... \u001b[?25ldone\n",
      "\u001b[?25h  Getting requirements to build editable ... \u001b[?25ldone\n",
      "\u001b[?25h  Preparing editable metadata (pyproject.toml) ... \u001b[?25ldone\n",
      "\u001b[?25hRequirement already satisfied: agentiq[langchain,llama-index] in /usr/local/lib/python3.12/site-packages (from ragtime==0.1.0) (1.1.0)\n",
      "Requirement already satisfied: colorama in /usr/local/lib/python3.12/site-packages (from ragtime==0.1.0) (0.4.6)\n",
      "\u001b[33mWARNING: agentiq 1.1.0 does not provide the extra 'langchain'\u001b[0m\u001b[33m\n",
      "\u001b[0m\u001b[33mWARNING: agentiq 1.1.0 does not provide the extra 'llama-index'\u001b[0m\u001b[33m\n",
      "\u001b[0mRequirement already satisfied: aiqtoolkit==v1.1.0 in /usr/local/lib/python3.12/site-packages (from agentiq[langchain,llama-index]->ragtime==0.1.0) (1.1.0)\n",
      "Requirement already satisfied: aioboto3>=11.0.0 in /usr/local/lib/python3.12/site-packages (from aiqtoolkit==v1.1.0->agentiq[langchain,llama-index]->ragtime==0.1.0) (14.3.0)\n",
      "Requirement already satisfied: click~=8.1 in /usr/local/lib/python3.12/site-packages (from aiqtoolkit==v1.1.0->agentiq[langchain,llama-index]->ragtime==0.1.0) (8.2.1)\n",
      "Requirement already satisfied: expandvars~=1.0 in /usr/local/lib/python3.12/site-packages (from aiqtoolkit==v1.1.0->agentiq[langchain,llama-index]->ragtime==0.1.0) (1.0.0)\n",
      "Requirement already satisfied: fastapi~=0.115.5 in /usr/local/lib/python3.12/site-packages (from aiqtoolkit==v1.1.0->agentiq[langchain,llama-index]->ragtime==0.1.0) (0.115.9)\n",
      "Requirement already satisfied: httpx~=0.27 in /usr/local/lib/python3.12/site-packages (from aiqtoolkit==v1.1.0->agentiq[langchain,llama-index]->ragtime==0.1.0) (0.28.1)\n",
      "Requirement already satisfied: jinja2~=3.1 in /usr/local/lib/python3.12/site-packages (from aiqtoolkit==v1.1.0->agentiq[langchain,llama-index]->ragtime==0.1.0) (3.1.6)\n",
      "Requirement already satisfied: jsonpath-ng~=1.7 in /usr/local/lib/python3.12/site-packages (from aiqtoolkit==v1.1.0->agentiq[langchain,llama-index]->ragtime==0.1.0) (1.7.0)\n",
      "Requirement already satisfied: mcp>=1.0.0 in /usr/local/lib/python3.12/site-packages (from aiqtoolkit==v1.1.0->agentiq[langchain,llama-index]->ragtime==0.1.0) (1.9.3)\n",
      "Requirement already satisfied: networkx~=3.4 in /usr/local/lib/python3.12/site-packages (from aiqtoolkit==v1.1.0->agentiq[langchain,llama-index]->ragtime==0.1.0) (3.5)\n",
      "Requirement already satisfied: numpy~=1.26 in /usr/local/lib/python3.12/site-packages (from aiqtoolkit==v1.1.0->agentiq[langchain,llama-index]->ragtime==0.1.0) (1.26.4)\n",
      "Requirement already satisfied: openinference-semantic-conventions~=0.1.14 in /usr/local/lib/python3.12/site-packages (from aiqtoolkit==v1.1.0->agentiq[langchain,llama-index]->ragtime==0.1.0) (0.1.20)\n",
      "Requirement already satisfied: openpyxl~=3.1 in /usr/local/lib/python3.12/site-packages (from aiqtoolkit==v1.1.0->agentiq[langchain,llama-index]->ragtime==0.1.0) (3.1.5)\n",
      "Requirement already satisfied: pkginfo~=1.12 in /usr/local/lib/python3.12/site-packages (from aiqtoolkit==v1.1.0->agentiq[langchain,llama-index]->ragtime==0.1.0) (1.12.1.2)\n",
      "Requirement already satisfied: platformdirs~=4.3 in /usr/local/lib/python3.12/site-packages (from aiqtoolkit==v1.1.0->agentiq[langchain,llama-index]->ragtime==0.1.0) (4.3.8)\n",
      "Requirement already satisfied: pydantic==2.10.* in /usr/local/lib/python3.12/site-packages (from aiqtoolkit==v1.1.0->agentiq[langchain,llama-index]->ragtime==0.1.0) (2.10.6)\n",
      "Requirement already satisfied: pymilvus~=2.4 in /usr/local/lib/python3.12/site-packages (from aiqtoolkit==v1.1.0->agentiq[langchain,llama-index]->ragtime==0.1.0) (2.5.11)\n",
      "Requirement already satisfied: PyYAML~=6.0 in /usr/local/lib/python3.12/site-packages (from aiqtoolkit==v1.1.0->agentiq[langchain,llama-index]->ragtime==0.1.0) (6.0.2)\n",
      "Requirement already satisfied: ragas~=0.2.14 in /usr/local/lib/python3.12/site-packages (from aiqtoolkit==v1.1.0->agentiq[langchain,llama-index]->ragtime==0.1.0) (0.2.15)\n",
      "Requirement already satisfied: rich~=13.9 in /usr/local/lib/python3.12/site-packages (from aiqtoolkit==v1.1.0->agentiq[langchain,llama-index]->ragtime==0.1.0) (13.9.4)\n",
      "Requirement already satisfied: uvicorn~=0.32.0 in /usr/local/lib/python3.12/site-packages (from uvicorn[standard]~=0.32.0->aiqtoolkit==v1.1.0->agentiq[langchain,llama-index]->ragtime==0.1.0) (0.32.1)\n",
      "Requirement already satisfied: wikipedia~=1.4 in /usr/local/lib/python3.12/site-packages (from aiqtoolkit==v1.1.0->agentiq[langchain,llama-index]->ragtime==0.1.0) (1.4.0)\n",
      "Requirement already satisfied: annotated-types>=0.6.0 in /usr/local/lib/python3.12/site-packages (from pydantic==2.10.*->aiqtoolkit==v1.1.0->agentiq[langchain,llama-index]->ragtime==0.1.0) (0.7.0)\n",
      "Requirement already satisfied: pydantic-core==2.27.2 in /usr/local/lib/python3.12/site-packages (from pydantic==2.10.*->aiqtoolkit==v1.1.0->agentiq[langchain,llama-index]->ragtime==0.1.0) (2.27.2)\n",
      "Requirement already satisfied: typing-extensions>=4.12.2 in /usr/local/lib/python3.12/site-packages (from pydantic==2.10.*->aiqtoolkit==v1.1.0->agentiq[langchain,llama-index]->ragtime==0.1.0) (4.14.0)\n",
      "Requirement already satisfied: aiobotocore==2.22.0 in /usr/local/lib/python3.12/site-packages (from aiobotocore[boto3]==2.22.0->aioboto3>=11.0.0->aiqtoolkit==v1.1.0->agentiq[langchain,llama-index]->ragtime==0.1.0) (2.22.0)\n",
      "Requirement already satisfied: aiofiles>=23.2.1 in /usr/local/lib/python3.12/site-packages (from aioboto3>=11.0.0->aiqtoolkit==v1.1.0->agentiq[langchain,llama-index]->ragtime==0.1.0) (24.1.0)\n",
      "Requirement already satisfied: aiohttp<4.0.0,>=3.9.2 in /usr/local/lib/python3.12/site-packages (from aiobotocore==2.22.0->aiobotocore[boto3]==2.22.0->aioboto3>=11.0.0->aiqtoolkit==v1.1.0->agentiq[langchain,llama-index]->ragtime==0.1.0) (3.12.12)\n",
      "Requirement already satisfied: aioitertools<1.0.0,>=0.5.1 in /usr/local/lib/python3.12/site-packages (from aiobotocore==2.22.0->aiobotocore[boto3]==2.22.0->aioboto3>=11.0.0->aiqtoolkit==v1.1.0->agentiq[langchain,llama-index]->ragtime==0.1.0) (0.12.0)\n",
      "Requirement already satisfied: botocore<1.37.4,>=1.37.2 in /usr/local/lib/python3.12/site-packages (from aiobotocore==2.22.0->aiobotocore[boto3]==2.22.0->aioboto3>=11.0.0->aiqtoolkit==v1.1.0->agentiq[langchain,llama-index]->ragtime==0.1.0) (1.37.3)\n",
      "Requirement already satisfied: python-dateutil<3.0.0,>=2.1 in /usr/local/lib/python3.12/site-packages (from aiobotocore==2.22.0->aiobotocore[boto3]==2.22.0->aioboto3>=11.0.0->aiqtoolkit==v1.1.0->agentiq[langchain,llama-index]->ragtime==0.1.0) (2.9.0.post0)\n",
      "Requirement already satisfied: jmespath<2.0.0,>=0.7.1 in /usr/local/lib/python3.12/site-packages (from aiobotocore==2.22.0->aiobotocore[boto3]==2.22.0->aioboto3>=11.0.0->aiqtoolkit==v1.1.0->agentiq[langchain,llama-index]->ragtime==0.1.0) (1.0.1)\n",
      "Requirement already satisfied: multidict<7.0.0,>=6.0.0 in /usr/local/lib/python3.12/site-packages (from aiobotocore==2.22.0->aiobotocore[boto3]==2.22.0->aioboto3>=11.0.0->aiqtoolkit==v1.1.0->agentiq[langchain,llama-index]->ragtime==0.1.0) (6.4.4)\n",
      "Requirement already satisfied: wrapt<2.0.0,>=1.10.10 in /usr/local/lib/python3.12/site-packages (from aiobotocore==2.22.0->aiobotocore[boto3]==2.22.0->aioboto3>=11.0.0->aiqtoolkit==v1.1.0->agentiq[langchain,llama-index]->ragtime==0.1.0) (1.17.2)\n",
      "Requirement already satisfied: boto3<1.37.4,>=1.37.2 in /usr/local/lib/python3.12/site-packages (from aiobotocore[boto3]==2.22.0->aioboto3>=11.0.0->aiqtoolkit==v1.1.0->agentiq[langchain,llama-index]->ragtime==0.1.0) (1.37.3)\n",
      "Requirement already satisfied: starlette<0.46.0,>=0.40.0 in /usr/local/lib/python3.12/site-packages (from fastapi~=0.115.5->aiqtoolkit==v1.1.0->agentiq[langchain,llama-index]->ragtime==0.1.0) (0.45.3)\n",
      "Requirement already satisfied: anyio in /usr/local/lib/python3.12/site-packages (from httpx~=0.27->aiqtoolkit==v1.1.0->agentiq[langchain,llama-index]->ragtime==0.1.0) (4.9.0)\n",
      "Requirement already satisfied: certifi in /usr/local/lib/python3.12/site-packages (from httpx~=0.27->aiqtoolkit==v1.1.0->agentiq[langchain,llama-index]->ragtime==0.1.0) (2025.4.26)\n",
      "Requirement already satisfied: httpcore==1.* in /usr/local/lib/python3.12/site-packages (from httpx~=0.27->aiqtoolkit==v1.1.0->agentiq[langchain,llama-index]->ragtime==0.1.0) (1.0.9)\n",
      "Requirement already satisfied: idna in /usr/local/lib/python3.12/site-packages (from httpx~=0.27->aiqtoolkit==v1.1.0->agentiq[langchain,llama-index]->ragtime==0.1.0) (3.10)\n",
      "Requirement already satisfied: h11>=0.16 in /usr/local/lib/python3.12/site-packages (from httpcore==1.*->httpx~=0.27->aiqtoolkit==v1.1.0->agentiq[langchain,llama-index]->ragtime==0.1.0) (0.16.0)\n",
      "Requirement already satisfied: MarkupSafe>=2.0 in /usr/local/lib/python3.12/site-packages (from jinja2~=3.1->aiqtoolkit==v1.1.0->agentiq[langchain,llama-index]->ragtime==0.1.0) (3.0.2)\n",
      "Requirement already satisfied: ply in /usr/local/lib/python3.12/site-packages (from jsonpath-ng~=1.7->aiqtoolkit==v1.1.0->agentiq[langchain,llama-index]->ragtime==0.1.0) (3.11)\n",
      "Requirement already satisfied: httpx-sse>=0.4 in /usr/local/lib/python3.12/site-packages (from mcp>=1.0.0->aiqtoolkit==v1.1.0->agentiq[langchain,llama-index]->ragtime==0.1.0) (0.4.0)\n",
      "Requirement already satisfied: pydantic-settings>=2.5.2 in /usr/local/lib/python3.12/site-packages (from mcp>=1.0.0->aiqtoolkit==v1.1.0->agentiq[langchain,llama-index]->ragtime==0.1.0) (2.9.1)\n",
      "Requirement already satisfied: python-multipart>=0.0.9 in /usr/local/lib/python3.12/site-packages (from mcp>=1.0.0->aiqtoolkit==v1.1.0->agentiq[langchain,llama-index]->ragtime==0.1.0) (0.0.20)\n",
      "Requirement already satisfied: sse-starlette>=1.6.1 in /usr/local/lib/python3.12/site-packages (from mcp>=1.0.0->aiqtoolkit==v1.1.0->agentiq[langchain,llama-index]->ragtime==0.1.0) (2.3.6)\n",
      "Requirement already satisfied: et-xmlfile in /usr/local/lib/python3.12/site-packages (from openpyxl~=3.1->aiqtoolkit==v1.1.0->agentiq[langchain,llama-index]->ragtime==0.1.0) (2.0.0)\n",
      "Requirement already satisfied: setuptools>69 in /usr/local/lib/python3.12/site-packages (from pymilvus~=2.4->aiqtoolkit==v1.1.0->agentiq[langchain,llama-index]->ragtime==0.1.0) (80.9.0)\n",
      "Requirement already satisfied: grpcio<=1.67.1,>=1.49.1 in /usr/local/lib/python3.12/site-packages (from pymilvus~=2.4->aiqtoolkit==v1.1.0->agentiq[langchain,llama-index]->ragtime==0.1.0) (1.67.1)\n",
      "Requirement already satisfied: protobuf>=3.20.0 in /usr/local/lib/python3.12/site-packages (from pymilvus~=2.4->aiqtoolkit==v1.1.0->agentiq[langchain,llama-index]->ragtime==0.1.0) (5.29.5)\n",
      "Requirement already satisfied: python-dotenv<2.0.0,>=1.0.1 in /usr/local/lib/python3.12/site-packages (from pymilvus~=2.4->aiqtoolkit==v1.1.0->agentiq[langchain,llama-index]->ragtime==0.1.0) (1.1.0)\n",
      "Requirement already satisfied: ujson>=2.0.0 in /usr/local/lib/python3.12/site-packages (from pymilvus~=2.4->aiqtoolkit==v1.1.0->agentiq[langchain,llama-index]->ragtime==0.1.0) (5.10.0)\n",
      "Requirement already satisfied: pandas>=1.2.4 in /usr/local/lib/python3.12/site-packages (from pymilvus~=2.4->aiqtoolkit==v1.1.0->agentiq[langchain,llama-index]->ragtime==0.1.0) (2.2.3)\n",
      "Requirement already satisfied: milvus-lite>=2.4.0 in /usr/local/lib/python3.12/site-packages (from pymilvus~=2.4->aiqtoolkit==v1.1.0->agentiq[langchain,llama-index]->ragtime==0.1.0) (2.4.12)\n",
      "Requirement already satisfied: datasets in /usr/local/lib/python3.12/site-packages (from ragas~=0.2.14->aiqtoolkit==v1.1.0->agentiq[langchain,llama-index]->ragtime==0.1.0) (2.14.4)\n",
      "Requirement already satisfied: tiktoken in /usr/local/lib/python3.12/site-packages (from ragas~=0.2.14->aiqtoolkit==v1.1.0->agentiq[langchain,llama-index]->ragtime==0.1.0) (0.9.0)\n",
      "Requirement already satisfied: langchain in /usr/local/lib/python3.12/site-packages (from ragas~=0.2.14->aiqtoolkit==v1.1.0->agentiq[langchain,llama-index]->ragtime==0.1.0) (0.3.25)\n",
      "Requirement already satisfied: langchain-core in /usr/local/lib/python3.12/site-packages (from ragas~=0.2.14->aiqtoolkit==v1.1.0->agentiq[langchain,llama-index]->ragtime==0.1.0) (0.3.65)\n",
      "Requirement already satisfied: langchain-community in /usr/local/lib/python3.12/site-packages (from ragas~=0.2.14->aiqtoolkit==v1.1.0->agentiq[langchain,llama-index]->ragtime==0.1.0) (0.3.24)\n",
      "Requirement already satisfied: langchain_openai in /usr/local/lib/python3.12/site-packages (from ragas~=0.2.14->aiqtoolkit==v1.1.0->agentiq[langchain,llama-index]->ragtime==0.1.0) (0.2.14)\n",
      "Requirement already satisfied: nest-asyncio in /usr/local/lib/python3.12/site-packages (from ragas~=0.2.14->aiqtoolkit==v1.1.0->agentiq[langchain,llama-index]->ragtime==0.1.0) (1.6.0)\n",
      "Requirement already satisfied: appdirs in /usr/local/lib/python3.12/site-packages (from ragas~=0.2.14->aiqtoolkit==v1.1.0->agentiq[langchain,llama-index]->ragtime==0.1.0) (1.4.4)\n",
      "Requirement already satisfied: openai>1 in /usr/local/lib/python3.12/site-packages (from ragas~=0.2.14->aiqtoolkit==v1.1.0->agentiq[langchain,llama-index]->ragtime==0.1.0) (1.66.3)\n",
      "Requirement already satisfied: diskcache>=5.6.3 in /usr/local/lib/python3.12/site-packages (from ragas~=0.2.14->aiqtoolkit==v1.1.0->agentiq[langchain,llama-index]->ragtime==0.1.0) (5.6.3)\n",
      "Requirement already satisfied: markdown-it-py>=2.2.0 in /usr/local/lib/python3.12/site-packages (from rich~=13.9->aiqtoolkit==v1.1.0->agentiq[langchain,llama-index]->ragtime==0.1.0) (3.0.0)\n",
      "Requirement already satisfied: pygments<3.0.0,>=2.13.0 in /usr/local/lib/python3.12/site-packages (from rich~=13.9->aiqtoolkit==v1.1.0->agentiq[langchain,llama-index]->ragtime==0.1.0) (2.19.1)\n",
      "Requirement already satisfied: httptools>=0.6.3 in /usr/local/lib/python3.12/site-packages (from uvicorn[standard]~=0.32.0->aiqtoolkit==v1.1.0->agentiq[langchain,llama-index]->ragtime==0.1.0) (0.6.4)\n",
      "Requirement already satisfied: uvloop!=0.15.0,!=0.15.1,>=0.14.0 in /usr/local/lib/python3.12/site-packages (from uvicorn[standard]~=0.32.0->aiqtoolkit==v1.1.0->agentiq[langchain,llama-index]->ragtime==0.1.0) (0.21.0)\n",
      "Requirement already satisfied: watchfiles>=0.13 in /usr/local/lib/python3.12/site-packages (from uvicorn[standard]~=0.32.0->aiqtoolkit==v1.1.0->agentiq[langchain,llama-index]->ragtime==0.1.0) (1.0.5)\n",
      "Requirement already satisfied: websockets>=10.4 in /usr/local/lib/python3.12/site-packages (from uvicorn[standard]~=0.32.0->aiqtoolkit==v1.1.0->agentiq[langchain,llama-index]->ragtime==0.1.0) (15.0.1)\n",
      "Requirement already satisfied: beautifulsoup4 in /usr/local/lib/python3.12/site-packages (from wikipedia~=1.4->aiqtoolkit==v1.1.0->agentiq[langchain,llama-index]->ragtime==0.1.0) (4.13.4)\n",
      "Requirement already satisfied: requests<3.0.0,>=2.0.0 in /usr/local/lib/python3.12/site-packages (from wikipedia~=1.4->aiqtoolkit==v1.1.0->agentiq[langchain,llama-index]->ragtime==0.1.0) (2.32.3)\n",
      "Requirement already satisfied: sniffio>=1.1 in /usr/local/lib/python3.12/site-packages (from anyio->httpx~=0.27->aiqtoolkit==v1.1.0->agentiq[langchain,llama-index]->ragtime==0.1.0) (1.3.1)\n",
      "Requirement already satisfied: mdurl~=0.1 in /usr/local/lib/python3.12/site-packages (from markdown-it-py>=2.2.0->rich~=13.9->aiqtoolkit==v1.1.0->agentiq[langchain,llama-index]->ragtime==0.1.0) (0.1.2)\n",
      "Requirement already satisfied: tqdm in /usr/local/lib/python3.12/site-packages (from milvus-lite>=2.4.0->pymilvus~=2.4->aiqtoolkit==v1.1.0->agentiq[langchain,llama-index]->ragtime==0.1.0) (4.67.1)\n",
      "Requirement already satisfied: distro<2,>=1.7.0 in /usr/local/lib/python3.12/site-packages (from openai>1->ragas~=0.2.14->aiqtoolkit==v1.1.0->agentiq[langchain,llama-index]->ragtime==0.1.0) (1.9.0)\n",
      "Requirement already satisfied: jiter<1,>=0.4.0 in /usr/local/lib/python3.12/site-packages (from openai>1->ragas~=0.2.14->aiqtoolkit==v1.1.0->agentiq[langchain,llama-index]->ragtime==0.1.0) (0.8.2)\n",
      "Requirement already satisfied: pytz>=2020.1 in /usr/local/lib/python3.12/site-packages (from pandas>=1.2.4->pymilvus~=2.4->aiqtoolkit==v1.1.0->agentiq[langchain,llama-index]->ragtime==0.1.0) (2025.2)\n",
      "Requirement already satisfied: tzdata>=2022.7 in /usr/local/lib/python3.12/site-packages (from pandas>=1.2.4->pymilvus~=2.4->aiqtoolkit==v1.1.0->agentiq[langchain,llama-index]->ragtime==0.1.0) (2025.2)\n",
      "Requirement already satisfied: typing-inspection>=0.4.0 in /usr/local/lib/python3.12/site-packages (from pydantic-settings>=2.5.2->mcp>=1.0.0->aiqtoolkit==v1.1.0->agentiq[langchain,llama-index]->ragtime==0.1.0) (0.4.1)\n",
      "Requirement already satisfied: charset-normalizer<4,>=2 in /usr/local/lib/python3.12/site-packages (from requests<3.0.0,>=2.0.0->wikipedia~=1.4->aiqtoolkit==v1.1.0->agentiq[langchain,llama-index]->ragtime==0.1.0) (3.4.2)\n",
      "Requirement already satisfied: urllib3<3,>=1.21.1 in /usr/local/lib/python3.12/site-packages (from requests<3.0.0,>=2.0.0->wikipedia~=1.4->aiqtoolkit==v1.1.0->agentiq[langchain,llama-index]->ragtime==0.1.0) (2.4.0)\n",
      "Requirement already satisfied: soupsieve>1.2 in /usr/local/lib/python3.12/site-packages (from beautifulsoup4->wikipedia~=1.4->aiqtoolkit==v1.1.0->agentiq[langchain,llama-index]->ragtime==0.1.0) (2.7)\n",
      "Requirement already satisfied: pyarrow>=8.0.0 in /usr/local/lib/python3.12/site-packages (from datasets->ragas~=0.2.14->aiqtoolkit==v1.1.0->agentiq[langchain,llama-index]->ragtime==0.1.0) (20.0.0)\n",
      "Requirement already satisfied: dill<0.3.8,>=0.3.0 in /usr/local/lib/python3.12/site-packages (from datasets->ragas~=0.2.14->aiqtoolkit==v1.1.0->agentiq[langchain,llama-index]->ragtime==0.1.0) (0.3.7)\n",
      "Requirement already satisfied: xxhash in /usr/local/lib/python3.12/site-packages (from datasets->ragas~=0.2.14->aiqtoolkit==v1.1.0->agentiq[langchain,llama-index]->ragtime==0.1.0) (3.5.0)\n",
      "Requirement already satisfied: multiprocess in /usr/local/lib/python3.12/site-packages (from datasets->ragas~=0.2.14->aiqtoolkit==v1.1.0->agentiq[langchain,llama-index]->ragtime==0.1.0) (0.70.15)\n",
      "Requirement already satisfied: fsspec>=2021.11.1 in /usr/local/lib/python3.12/site-packages (from fsspec[http]>=2021.11.1->datasets->ragas~=0.2.14->aiqtoolkit==v1.1.0->agentiq[langchain,llama-index]->ragtime==0.1.0) (2025.5.1)\n",
      "Requirement already satisfied: huggingface-hub<1.0.0,>=0.14.0 in /usr/local/lib/python3.12/site-packages (from datasets->ragas~=0.2.14->aiqtoolkit==v1.1.0->agentiq[langchain,llama-index]->ragtime==0.1.0) (0.33.0)\n",
      "Requirement already satisfied: packaging in /usr/local/lib/python3.12/site-packages (from datasets->ragas~=0.2.14->aiqtoolkit==v1.1.0->agentiq[langchain,llama-index]->ragtime==0.1.0) (24.2)\n",
      "Requirement already satisfied: langchain-text-splitters<1.0.0,>=0.3.8 in /usr/local/lib/python3.12/site-packages (from langchain->ragas~=0.2.14->aiqtoolkit==v1.1.0->agentiq[langchain,llama-index]->ragtime==0.1.0) (0.3.8)\n",
      "Requirement already satisfied: langsmith<0.4,>=0.1.17 in /usr/local/lib/python3.12/site-packages (from langchain->ragas~=0.2.14->aiqtoolkit==v1.1.0->agentiq[langchain,llama-index]->ragtime==0.1.0) (0.3.45)\n",
      "Requirement already satisfied: SQLAlchemy<3,>=1.4 in /usr/local/lib/python3.12/site-packages (from langchain->ragas~=0.2.14->aiqtoolkit==v1.1.0->agentiq[langchain,llama-index]->ragtime==0.1.0) (2.0.41)\n",
      "Requirement already satisfied: tenacity!=8.4.0,<10.0.0,>=8.1.0 in /usr/local/lib/python3.12/site-packages (from langchain-core->ragas~=0.2.14->aiqtoolkit==v1.1.0->agentiq[langchain,llama-index]->ragtime==0.1.0) (9.1.2)\n",
      "Requirement already satisfied: jsonpatch<2.0,>=1.33 in /usr/local/lib/python3.12/site-packages (from langchain-core->ragas~=0.2.14->aiqtoolkit==v1.1.0->agentiq[langchain,llama-index]->ragtime==0.1.0) (1.33)\n",
      "Requirement already satisfied: dataclasses-json<0.7,>=0.5.7 in /usr/local/lib/python3.12/site-packages (from langchain-community->ragas~=0.2.14->aiqtoolkit==v1.1.0->agentiq[langchain,llama-index]->ragtime==0.1.0) (0.6.7)\n",
      "Requirement already satisfied: regex>=2022.1.18 in /usr/local/lib/python3.12/site-packages (from tiktoken->ragas~=0.2.14->aiqtoolkit==v1.1.0->agentiq[langchain,llama-index]->ragtime==0.1.0) (2024.11.6)\n",
      "Requirement already satisfied: aiohappyeyeballs>=2.5.0 in /usr/local/lib/python3.12/site-packages (from aiohttp<4.0.0,>=3.9.2->aiobotocore==2.22.0->aiobotocore[boto3]==2.22.0->aioboto3>=11.0.0->aiqtoolkit==v1.1.0->agentiq[langchain,llama-index]->ragtime==0.1.0) (2.6.1)\n",
      "Requirement already satisfied: aiosignal>=1.1.2 in /usr/local/lib/python3.12/site-packages (from aiohttp<4.0.0,>=3.9.2->aiobotocore==2.22.0->aiobotocore[boto3]==2.22.0->aioboto3>=11.0.0->aiqtoolkit==v1.1.0->agentiq[langchain,llama-index]->ragtime==0.1.0) (1.3.2)\n",
      "Requirement already satisfied: attrs>=17.3.0 in /usr/local/lib/python3.12/site-packages (from aiohttp<4.0.0,>=3.9.2->aiobotocore==2.22.0->aiobotocore[boto3]==2.22.0->aioboto3>=11.0.0->aiqtoolkit==v1.1.0->agentiq[langchain,llama-index]->ragtime==0.1.0) (25.3.0)\n",
      "Requirement already satisfied: frozenlist>=1.1.1 in /usr/local/lib/python3.12/site-packages (from aiohttp<4.0.0,>=3.9.2->aiobotocore==2.22.0->aiobotocore[boto3]==2.22.0->aioboto3>=11.0.0->aiqtoolkit==v1.1.0->agentiq[langchain,llama-index]->ragtime==0.1.0) (1.7.0)\n",
      "Requirement already satisfied: propcache>=0.2.0 in /usr/local/lib/python3.12/site-packages (from aiohttp<4.0.0,>=3.9.2->aiobotocore==2.22.0->aiobotocore[boto3]==2.22.0->aioboto3>=11.0.0->aiqtoolkit==v1.1.0->agentiq[langchain,llama-index]->ragtime==0.1.0) (0.3.2)\n",
      "Requirement already satisfied: yarl<2.0,>=1.17.0 in /usr/local/lib/python3.12/site-packages (from aiohttp<4.0.0,>=3.9.2->aiobotocore==2.22.0->aiobotocore[boto3]==2.22.0->aioboto3>=11.0.0->aiqtoolkit==v1.1.0->agentiq[langchain,llama-index]->ragtime==0.1.0) (1.20.1)\n",
      "Requirement already satisfied: s3transfer<0.12.0,>=0.11.0 in /usr/local/lib/python3.12/site-packages (from boto3<1.37.4,>=1.37.2->aiobotocore[boto3]==2.22.0->aioboto3>=11.0.0->aiqtoolkit==v1.1.0->agentiq[langchain,llama-index]->ragtime==0.1.0) (0.11.3)\n",
      "Requirement already satisfied: marshmallow<4.0.0,>=3.18.0 in /usr/local/lib/python3.12/site-packages (from dataclasses-json<0.7,>=0.5.7->langchain-community->ragas~=0.2.14->aiqtoolkit==v1.1.0->agentiq[langchain,llama-index]->ragtime==0.1.0) (3.26.1)\n",
      "Requirement already satisfied: typing-inspect<1,>=0.4.0 in /usr/local/lib/python3.12/site-packages (from dataclasses-json<0.7,>=0.5.7->langchain-community->ragas~=0.2.14->aiqtoolkit==v1.1.0->agentiq[langchain,llama-index]->ragtime==0.1.0) (0.9.0)\n",
      "Requirement already satisfied: filelock in /usr/local/lib/python3.12/site-packages (from huggingface-hub<1.0.0,>=0.14.0->datasets->ragas~=0.2.14->aiqtoolkit==v1.1.0->agentiq[langchain,llama-index]->ragtime==0.1.0) (3.18.0)\n",
      "Requirement already satisfied: hf-xet<2.0.0,>=1.1.2 in /usr/local/lib/python3.12/site-packages (from huggingface-hub<1.0.0,>=0.14.0->datasets->ragas~=0.2.14->aiqtoolkit==v1.1.0->agentiq[langchain,llama-index]->ragtime==0.1.0) (1.1.3)\n",
      "Requirement already satisfied: jsonpointer>=1.9 in /usr/local/lib/python3.12/site-packages (from jsonpatch<2.0,>=1.33->langchain-core->ragas~=0.2.14->aiqtoolkit==v1.1.0->agentiq[langchain,llama-index]->ragtime==0.1.0) (3.0.0)\n",
      "Requirement already satisfied: orjson<4.0.0,>=3.9.14 in /usr/local/lib/python3.12/site-packages (from langsmith<0.4,>=0.1.17->langchain->ragas~=0.2.14->aiqtoolkit==v1.1.0->agentiq[langchain,llama-index]->ragtime==0.1.0) (3.10.18)\n",
      "Requirement already satisfied: requests-toolbelt<2.0.0,>=1.0.0 in /usr/local/lib/python3.12/site-packages (from langsmith<0.4,>=0.1.17->langchain->ragas~=0.2.14->aiqtoolkit==v1.1.0->agentiq[langchain,llama-index]->ragtime==0.1.0) (1.0.0)\n",
      "Requirement already satisfied: zstandard<0.24.0,>=0.23.0 in /usr/local/lib/python3.12/site-packages (from langsmith<0.4,>=0.1.17->langchain->ragas~=0.2.14->aiqtoolkit==v1.1.0->agentiq[langchain,llama-index]->ragtime==0.1.0) (0.23.0)\n",
      "Requirement already satisfied: six>=1.5 in /usr/local/lib/python3.12/site-packages (from python-dateutil<3.0.0,>=2.1->aiobotocore==2.22.0->aiobotocore[boto3]==2.22.0->aioboto3>=11.0.0->aiqtoolkit==v1.1.0->agentiq[langchain,llama-index]->ragtime==0.1.0) (1.17.0)\n",
      "Requirement already satisfied: greenlet>=1 in /usr/local/lib/python3.12/site-packages (from SQLAlchemy<3,>=1.4->langchain->ragas~=0.2.14->aiqtoolkit==v1.1.0->agentiq[langchain,llama-index]->ragtime==0.1.0) (3.2.3)\n",
      "Requirement already satisfied: mypy-extensions>=0.3.0 in /usr/local/lib/python3.12/site-packages (from typing-inspect<1,>=0.4.0->dataclasses-json<0.7,>=0.5.7->langchain-community->ragas~=0.2.14->aiqtoolkit==v1.1.0->agentiq[langchain,llama-index]->ragtime==0.1.0) (1.1.0)\n",
      "Building wheels for collected packages: ragtime\n",
      "  Building editable for ragtime (pyproject.toml) ... \u001b[?25ldone\n",
      "\u001b[?25h  Created wheel for ragtime: filename=ragtime-0.1.0-0.editable-py3-none-any.whl size=1518 sha256=691bb8051d3db8e0105f7d451ac924ad82acfb71e1d3ca4a9010456d20f7e3d4\n",
      "  Stored in directory: /tmp/pip-ephem-wheel-cache-di8zzhno/wheels/0f/d2/70/faeb0ccffd12cc0e392c53fc73257b8350615b6df373d5ab68\n",
      "Successfully built ragtime\n",
      "Installing collected packages: ragtime\n",
      "  Attempting uninstall: ragtime\n",
      "    Found existing installation: ragtime 0.1.0\n",
      "    Uninstalling ragtime-0.1.0:\n",
      "      Successfully uninstalled ragtime-0.1.0\n",
      "Successfully installed ragtime-0.1.0\n",
      "\u001b[33mWARNING: Running pip as the 'root' user can result in broken permissions and conflicting behaviour with the system package manager, possibly rendering your system unusable. It is recommended to use a virtual environment instead: https://pip.pypa.io/warnings/venv. Use the --root-user-action option if you know what you are doing and want to suppress this warning.\u001b[0m\u001b[33m\n",
      "\u001b[0m\n",
      "\u001b[1m[\u001b[0m\u001b[34;49mnotice\u001b[0m\u001b[1;39;49m]\u001b[0m\u001b[39;49m A new release of pip is available: \u001b[0m\u001b[31;49m25.0.1\u001b[0m\u001b[39;49m -> \u001b[0m\u001b[32;49m25.1.1\u001b[0m\n",
      "\u001b[1m[\u001b[0m\u001b[34;49mnotice\u001b[0m\u001b[1;39;49m]\u001b[0m\u001b[39;49m To update, run: \u001b[0m\u001b[32;49mpip install --upgrade pip\u001b[0m\n",
      "Note: you may need to restart the kernel to use updated packages.\n"
     ]
    }
   ],
   "source": [
    "%pip install -e workflows/ragtime"
   ]
  },
  {
   "cell_type": "markdown",
   "metadata": {},
   "source": [
    "### 4. Creating the RAG Configuration\n",
    "\n",
    "Now, let's create a configuration file that includes our RAG components.\n",
    "\n",
    "Note that we are now using a `react_agent` that can call functions, namely our `book_knowledge_rag` function."
   ]
  },
  {
   "cell_type": "code",
   "execution_count": 19,
   "metadata": {},
   "outputs": [
    {
     "name": "stdout",
     "output_type": "stream",
     "text": [
      "Writing workflows/ragtime/configs/rag_config.yml\n"
     ]
    }
   ],
   "source": [
    "%%writefile workflows/ragtime/configs/rag_config.yml\n",
    "\n",
    "general:\n",
    "  use_uvloop: true\n",
    "  telemetry:\n",
    "    tracing:\n",
    "      phoenix:\n",
    "          _type: phoenix\n",
    "          endpoint: http://phoenix:6006/v1/traces\n",
    "          project: rag_example\n",
    "  \n",
    "llms:\n",
    "  nim_llm:\n",
    "    _type: nim\n",
    "    model_name: meta/llama-3.1-70b-instruct\n",
    "    temperature: 0.0\n",
    "    base_url: $NVIDIA_BASE_URL\n",
    "\n",
    "embedders:\n",
    "  nim_embedder:\n",
    "    _type: nim\n",
    "    model_name: nvidia/nv-embedqa-e5-v5\n",
    "    base_url: $NVIDIA_BASE_URL\n",
    "    truncate: END\n",
    "\n",
    "functions:\n",
    "  book_knowledge_rag:\n",
    "    _type: book_knowledge_rag\n",
    "    llm_name: nim_llm\n",
    "    embedding_name: nim_embedder\n",
    "    data_dir: rag_data\n",
    "    data_db_dir: rag_db\n",
    "\n",
    "workflow:\n",
    "  _type: react_agent\n",
    "  tool_names:\n",
    "    - book_knowledge_rag\n",
    "  llm_name: nim_llm\n",
    "  verbose: true"
   ]
  },
  {
   "cell_type": "markdown",
   "metadata": {},
   "source": [
    "### 5. Testing the RAG Workflow\n",
    "\n",
    "Let's test our RAG workflow with the same question we used earlier:"
   ]
  },
  {
   "cell_type": "code",
   "execution_count": 20,
   "metadata": {},
   "outputs": [
    {
     "name": "stdout",
     "output_type": "stream",
     "text": [
      "2025-07-11 09:06:31,384 - aiq.runtime.loader - WARNING - Loading module 'aiq.agent.register' from entry point 'aiq_agents' took a long time (326.228142 ms). Ensure all imports are inside your registered functions.\n",
      "2025-07-11 09:06:31,517 - aiq.cli.commands.start - INFO - Starting AIQ Toolkit from config file: 'workflows/ragtime/configs/rag_config.yml'\n",
      "2025-07-11 09:06:31,520 - aiq.cli.commands.start - WARNING - The front end type in the config file (fastapi) does not match the command name (console). Overwriting the config file front end.\n",
      "2025-07-11 09:06:31,540 - phoenix.config - INFO - 📋 Ensuring phoenix working directory: /root/.phoenix\n",
      "2025-07-11 09:06:31,549 - phoenix.inferences.inferences - INFO - Dataset: phoenix_inferences_0956fffe-62b3-48ca-8047-54f9d71da1af initialized\n",
      "2025-07-11 09:06:35,434 - faiss.loader - INFO - Loading faiss with AVX2 support.\n",
      "2025-07-11 09:06:35,518 - faiss.loader - INFO - Successfully loaded faiss with AVX2 support.\n",
      "2025-07-11 09:06:35,532 - faiss - INFO - Failed to load GPU Faiss: name 'GpuIndexIVFFlat' is not defined. Will not load constructor refs for GPU indexes. This is only an error if you're trying to use GPU Faiss.\n",
      "None of PyTorch, TensorFlow >= 2.0, or Flax have been found. Models won't be available and only tokenizers, configuration and file/data utilities can be used.\n",
      "2025-07-11 09:06:37,983 - root - INFO - Loading llama_index.vector_stores.faiss.base from rag_db/default__vector_store.json.\n",
      "2025-07-11 09:06:38,047 - llama_index.core.indices.loading - INFO - Loading all indices.\n",
      "\n",
      "Configuration Summary:\n",
      "--------------------\n",
      "Workflow Type: react_agent\n",
      "Number of Functions: 1\n",
      "Number of LLMs: 1\n",
      "Number of Embedders: 1\n",
      "Number of Memory: 0\n",
      "Number of Retrievers: 0\n",
      "\n",
      "2025-07-11 09:06:39,354 - aiq.agent.react_agent.agent - INFO - \n",
      "------------------------------\n",
      "[AGENT]\n",
      "\u001b[33mAgent input: Tell me a little about the personality of Anne Shirley.\n",
      "\u001b[36mAgent's thoughts: \n",
      "Thought: To answer this question, I need to extract information about Anne Shirley's personality from a book.\n",
      "\n",
      "Action: book_knowledge_rag\n",
      "Action Input: {'question': 'What is Anne Shirley\\'s personality like?'}\u001b[39m\n",
      "------------------------------\n",
      "2025-07-11 09:06:42,190 - aiq.agent.react_agent.agent - INFO - \n",
      "------------------------------\n",
      "[AGENT]\n",
      "\u001b[37mCalling tools: book_knowledge_rag\n",
      "\u001b[33mTool's input: {\"question\": \"What is Anne Shirley\\\"s personality like?\"}\n",
      "\u001b[36mTool's response: \n",
      "Anne Shirley's personality is described as being full of \"spirit and fire and dew\". She is a thoughtful, imaginative, and ambitious individual who feels things intensely, whether it's love or hatred. She has a tendency to hold grudges and can be quite determined when she sets her mind to something. At the same time, she is also shown to be sensitive and emotional, with a deep desire to be loved and appreciated. Her personality is complex and multifaceted, with many different shades and moods, making her a unique and intriguing individual.\u001b[39m\n",
      "------------------------------\n",
      "2025-07-11 09:06:43,509 - aiq.agent.react_agent.agent - INFO - \n",
      "------------------------------\n",
      "[AGENT]\n",
      "\u001b[33mAgent input: Tell me a little about the personality of Anne Shirley.\n",
      "\u001b[36mAgent's thoughts: \n",
      "Thought: I now know the final answer\n",
      "\n",
      "Final Answer: Anne Shirley's personality is complex and multifaceted, with a mix of spirit, fire, and dew. She is thoughtful, imaginative, and ambitious, but also sensitive and emotional, with a tendency to hold grudges and be determined when she sets her mind to something.\u001b[39m\n",
      "------------------------------\n",
      "2025-07-11 09:06:43,511 - aiq.front_ends.console.console_front_end_plugin - INFO - \n",
      "--------------------------------------------------\n",
      "\u001b[32mWorkflow Result:\n",
      "[\"Anne Shirley's personality is complex and multifaceted, with a mix of spirit, fire, and dew. She is thoughtful, imaginative, and ambitious, but also sensitive and emotional, with a tendency to hold grudges and be determined when she sets her mind to something.\"]\u001b[39m\n",
      "--------------------------------------------------\n",
      "\u001b[0m\u001b[0m"
     ]
    }
   ],
   "source": [
    "!aiq run --config_file workflows/ragtime/configs/rag_config.yml --input \"Tell me a little about the personality of Anne Shirley.\""
   ]
  },
  {
   "cell_type": "markdown",
   "metadata": {},
   "source": [
    "Notice how the response now includes specific details from the book that weren't in the model's pre-trained knowledge. The RAG system has successfully retrieved relevant passages and used them to enhance the response."
   ]
  },
  {
   "cell_type": "markdown",
   "metadata": {},
   "source": [
    "### 6. Creating a RAG Evaluation Configuration\n",
    "\n",
    "Now, let's create an evaluation configuration for our RAG workflow:"
   ]
  },
  {
   "cell_type": "code",
   "execution_count": 21,
   "metadata": {},
   "outputs": [
    {
     "name": "stdout",
     "output_type": "stream",
     "text": [
      "Writing workflows/ragtime/configs/rag_eval_config.yml\n"
     ]
    }
   ],
   "source": [
    "%%writefile workflows/ragtime/configs/rag_eval_config.yml\n",
    "\n",
    "general:\n",
    "  use_uvloop: true\n",
    "  telemetry:\n",
    "    tracing:\n",
    "      phoenix:\n",
    "          _type: phoenix\n",
    "          endpoint: http://phoenix:6006/v1/traces\n",
    "          project: rag_example\n",
    "\n",
    "llms:\n",
    "  nim_llm:\n",
    "    _type: nim\n",
    "    model_name: meta/llama-3.1-70b-instruct\n",
    "    temperature: 0.0\n",
    "    base_url: $NVIDIA_BASE_URL\n",
    "  \n",
    "  nim_rag_eval_llm:\n",
    "    _type: nim\n",
    "    model_name: meta/llama-3.1-405b-instruct\n",
    "    temperature: 0.0\n",
    "    base_url: $NVIDIA_BASE_URL\n",
    "\n",
    "embedders:\n",
    "  nim_embedder:\n",
    "    _type: nim\n",
    "    model_name: nvidia/nv-embedqa-e5-v5\n",
    "    base_url: $NVIDIA_BASE_URL\n",
    "    truncate: END\n",
    "\n",
    "functions:\n",
    "  book_knowledge_rag:\n",
    "    _type: book_knowledge_rag\n",
    "    llm_name: nim_llm\n",
    "    embedding_name: nim_embedder\n",
    "    data_dir: rag_data\n",
    "    data_db_dir: rag_db\n",
    "\n",
    "workflow:\n",
    "  _type: react_agent\n",
    "  tool_names:\n",
    "    - book_knowledge_rag\n",
    "  llm_name: nim_llm\n",
    "  verbose: true\n",
    "\n",
    "eval:\n",
    "  general:\n",
    "    output_dir: ./ragtime_eval/\n",
    "    dataset:\n",
    "      _type: json\n",
    "      file_path: workflows/ragtime/data/rag_questions.json\n",
    "  evaluators:\n",
    "    rag_accuracy:\n",
    "      _type: ragas\n",
    "      metric: AnswerAccuracy\n",
    "      llm_name: nim_rag_eval_llm\n",
    "    rag_groundedness:\n",
    "      _type: ragas\n",
    "      metric: ResponseGroundedness\n",
    "      llm_name: nim_rag_eval_llm\n",
    "    rag_relevance:\n",
    "      _type: ragas\n",
    "      metric: ContextRelevance\n",
    "      llm_name: nim_rag_eval_llm"
   ]
  },
  {
   "cell_type": "markdown",
   "metadata": {},
   "source": [
    "### 7. Running the RAG Evaluation\n",
    "\n",
    "Let's run the evaluation on our RAG workflow:"
   ]
  },
  {
   "cell_type": "code",
   "execution_count": 22,
   "metadata": {},
   "outputs": [
    {
     "name": "stdout",
     "output_type": "stream",
     "text": [
      "2025-07-11 09:06:46,522 - aiq.eval.evaluate - INFO - Starting evaluation run with config file: workflows/ragtime/configs/rag_eval_config.yml\n",
      "2025-07-11 09:06:46,809 - aiq.runtime.loader - WARNING - Loading module 'aiq.agent.register' from entry point 'aiq_agents' took a long time (265.033960 ms). Ensure all imports are inside your registered functions.\n",
      "2025-07-11 09:06:46,972 - phoenix.config - INFO - 📋 Ensuring phoenix working directory: /root/.phoenix\n",
      "2025-07-11 09:06:46,980 - phoenix.inferences.inferences - INFO - Dataset: phoenix_inferences_0a4428fe-c058-4c01-b398-eebaabc00687 initialized\n",
      "2025-07-11 09:06:49,921 - faiss.loader - INFO - Loading faiss with AVX2 support.\n",
      "2025-07-11 09:06:49,937 - faiss.loader - INFO - Successfully loaded faiss with AVX2 support.\n",
      "2025-07-11 09:06:49,940 - faiss - INFO - Failed to load GPU Faiss: name 'GpuIndexIVFFlat' is not defined. Will not load constructor refs for GPU indexes. This is only an error if you're trying to use GPU Faiss.\n",
      "None of PyTorch, TensorFlow >= 2.0, or Flax have been found. Models won't be available and only tokenizers, configuration and file/data utilities can be used.\n",
      "2025-07-11 09:06:52,134 - root - INFO - Loading llama_index.vector_stores.faiss.base from rag_db/default__vector_store.json.\n",
      "2025-07-11 09:06:52,198 - llama_index.core.indices.loading - INFO - Loading all indices.\n",
      "2025-07-11 09:06:54,094 - aiq.agent.react_agent.agent - INFO -  [00:00<?, ?it/s]\n",
      "------------------------------\n",
      "[AGENT]\n",
      "\u001b[33mAgent input: What poem does Anne recite at the White Sands Hotel concert?\n",
      "\u001b[36mAgent's thoughts: \n",
      "Thought: To answer this question, I need to find information about the poem recited by Anne at the White Sands Hotel concert.\n",
      "Action: book_knowledge_rag\n",
      "Action Input: {'question': 'What poem does Anne recite at the White Sands Hotel concert?'}\u001b[39m\n",
      "------------------------------\n",
      "2025-07-11 09:06:54,347 - aiq.agent.react_agent.agent - INFO - \n",
      "------------------------------\n",
      "[AGENT]\n",
      "\u001b[33mAgent input: What type of flowers does Anne place on Matthew's grave?\n",
      "\u001b[36mAgent's thoughts: \n",
      "Thought: To answer this question, I need to find information about the type of flowers Anne places on Matthew's grave in the book \"Anne of Green Gables\" by Lucy Maud Montgomery.\n",
      "\n",
      "Action: book_knowledge_rag\n",
      "Action Input: {'question': 'What type of flowers does Anne place on Matthew\\'s grave in Anne of Green Gables?'}\u001b[39m\n",
      "------------------------------\n",
      "2025-07-11 09:06:55,039 - aiq.agent.react_agent.agent - INFO - \n",
      "------------------------------\n",
      "[AGENT]\n",
      "\u001b[33mAgent input: What is the name of the book Anne is caught reading in class in Anne of Green Gables?\n",
      "\u001b[36mAgent's thoughts: \n",
      "Thought: To answer this question, I need to find the relevant information from the book \"Anne of Green Gables\".\n",
      "Action: book_knowledge_rag\n",
      "Action Input: {'question': 'What is the name of the book Anne is caught reading in class in Anne of Green Gables?'}\u001b[39m\n",
      "------------------------------\n",
      "2025-07-11 09:06:55,047 - aiq.agent.react_agent.agent - INFO - \n",
      "------------------------------\n",
      "[AGENT]\n",
      "\u001b[33mAgent input: What is the name of the inventor of the projectile weapon used by Captain Nemo in Twenty Thousand Leagues Under the Sea?\n",
      "\u001b[36mAgent's thoughts: \n",
      "Thought: To answer this question, I need to find information about the projectile weapon used by Captain Nemo in Twenty Thousand Leagues Under the Sea and its inventor.\n",
      "Action: book_knowledge_rag\n",
      "Action Input: {\"question\": \"Who invented the projectile weapon used by Captain Nemo in Twenty Thousand Leagues Under the Sea?\"}\n",
      "\u001b[39m\n",
      "------------------------------\n",
      "2025-07-11 09:06:55,049 - aiq.agent.react_agent.agent - INFO - \n",
      "------------------------------\n",
      "[AGENT]\n",
      "\u001b[33mAgent input: What was the color of the smoke that squirted from the joints of the martian machines?\n",
      "\u001b[36mAgent's thoughts: \n",
      "Thought: The question seems to be related to a science fiction story, possibly \"The War of the Worlds\" by H.G. Wells. I'll use the book_knowledge_rag tool to find the relevant information.\n",
      "\n",
      "Action: book_knowledge_rag\n",
      "Action Input: {\"question\": \"What was the color of the smoke that squirted from the joints of the martian machines in The War of the Worlds?\"}\n",
      "\n",
      "\u001b[39m\n",
      "------------------------------\n",
      "2025-07-11 09:06:55,065 - aiq.agent.react_agent.agent - INFO - \n",
      "------------------------------\n",
      "[AGENT]\n",
      "\u001b[33mAgent input: What poisonous weapon did the aliens use to silence large amounts of artillery in The War of the Worlds?\n",
      "\u001b[36mAgent's thoughts: \n",
      "Thought: The question is asking about a specific detail from the book \"The War of the Worlds\" by H.G. Wells. I need to find information about the poisonous weapon used by the aliens in the book.\n",
      "\n",
      "Action: book_knowledge_rag\n",
      "Action Input: {'question': 'What poisonous weapon did the aliens use to silence large amounts of artillery in The War of the Worlds?'}\u001b[39m\n",
      "------------------------------\n",
      "2025-07-11 09:06:56,589 - aiq.agent.react_agent.agent - INFO - \n",
      "------------------------------\n",
      "[AGENT]\n",
      "\u001b[37mCalling tools: book_knowledge_rag\n",
      "\u001b[33mTool's input: {\"question\": \"What poem does Anne recite at the White Sands Hotel concert?\"}\n",
      "\u001b[36mTool's response: \n",
      "The Maiden's Vow\u001b[39m\n",
      "------------------------------\n",
      "2025-07-11 09:06:56,591 - aiq.agent.react_agent.agent - INFO - \n",
      "------------------------------\n",
      "[AGENT]\n",
      "\u001b[37mCalling tools: book_knowledge_rag\n",
      "\u001b[33mTool's input: {\"question\": \"What type of flowers does Anne place on Matthew\\\"s grave in Anne of Green Gables?\"}\n",
      "\u001b[36mTool's response: \n",
      "Fresh flowers, specifically Scotch rosebush.\u001b[39m\n",
      "------------------------------\n",
      "2025-07-11 09:06:57,112 - aiq.agent.react_agent.agent - INFO - \n",
      "------------------------------\n",
      "[AGENT]\n",
      "\u001b[37mCalling tools: book_knowledge_rag\n",
      "\u001b[33mTool's input: {\"question\": \"What is the name of the book Anne is caught reading in class in Anne of Green Gables?\"}\n",
      "\u001b[36mTool's response: \n",
      "Ben Hur\u001b[39m\n",
      "------------------------------\n",
      "2025-07-11 09:06:57,144 - aiq.agent.react_agent.agent - INFO - \n",
      "------------------------------\n",
      "[AGENT]\n",
      "\u001b[37mCalling tools: book_knowledge_rag\n",
      "\u001b[33mTool's input: {\"question\": \"What was the color of the smoke that squirted from the joints of the martian machines in The War of the Worlds?\"}\n",
      "\u001b[36mTool's response: \n",
      "Greenish-white\u001b[39m\n",
      "------------------------------\n",
      "2025-07-11 09:06:57,210 - aiq.agent.react_agent.agent - INFO - \n",
      "------------------------------\n",
      "[AGENT]\n",
      "\u001b[37mCalling tools: book_knowledge_rag\n",
      "\u001b[33mTool's input: {\"question\": \"Who invented the projectile weapon used by Captain Nemo in Twenty Thousand Leagues Under the Sea?\"}\n",
      "\u001b[36mTool's response: \n",
      "Leniebroek, an Austrian chemist\u001b[39m\n",
      "------------------------------\n",
      "2025-07-11 09:06:57,325 - aiq.agent.react_agent.agent - INFO - \n",
      "------------------------------\n",
      "[AGENT]\n",
      "\u001b[33mAgent input: What poem does Anne recite at the White Sands Hotel concert?\n",
      "\u001b[36mAgent's thoughts: \n",
      "Thought: I now know the final answer\n",
      "Final Answer: The Maiden's Vow\u001b[39m\n",
      "------------------------------\n",
      "2025-07-11 09:06:57,326 - aiq.utils.type_converter - WARNING - Indirect type conversion used to convert <class 'str'> to <class 'str'>, which may lead to unintended conversions. Consider adding a direct converter from <class 'str'> to <class 'str'> to ensure correctness.\n",
      "2025-07-11 09:06:57,501 - aiq.agent.react_agent.agent - INFO - 00:22,  4.40s/it]\n",
      "------------------------------\n",
      "[AGENT]\n",
      "\u001b[33mAgent input: What type of flowers does Anne place on Matthew's grave?\n",
      "\u001b[36mAgent's thoughts: \n",
      "Thought: I now know the final answer\n",
      "\n",
      "Final Answer: Anne places fresh flowers, specifically from the Scotch rosebush, on Matthew's grave.\u001b[39m\n",
      "------------------------------\n",
      "2025-07-11 09:06:57,572 - aiq.agent.react_agent.agent - INFO - 00:07,  1.92s/it]\n",
      "------------------------------\n",
      "[AGENT]\n",
      "\u001b[37mCalling tools: book_knowledge_rag\n",
      "\u001b[33mTool's input: {\"question\": \"What poisonous weapon did the aliens use to silence large amounts of artillery in The War of the Worlds?\"}\n",
      "\u001b[36mTool's response: \n",
      "The aliens used a black vapour, discharged from canisters, which was capable of blotting out large areas and causing death to all who breathed it in.\u001b[39m\n",
      "------------------------------\n",
      "2025-07-11 09:06:57,736 - aiq.agent.react_agent.agent - INFO - \n",
      "------------------------------\n",
      "[AGENT]\n",
      "\u001b[33mAgent input: What is the name of the book Anne is caught reading in class in Anne of Green Gables?\n",
      "\u001b[36mAgent's thoughts: \n",
      "Thought: I now know the final answer\n",
      "Final Answer: Ben Hur\u001b[39m\n",
      "------------------------------\n",
      "2025-07-11 09:06:58,003 - aiq.agent.react_agent.agent - INFO - 00:03,  1.15s/it]\n",
      "------------------------------\n",
      "[AGENT]\n",
      "\u001b[33mAgent input: What is the name of the inventor of the projectile weapon used by Captain Nemo in Twenty Thousand Leagues Under the Sea?\n",
      "\u001b[36mAgent's thoughts: \n",
      "Thought: I now know the final answer\n",
      "Final Answer: Leniebroek, an Austrian chemist\u001b[39m\n",
      "------------------------------\n",
      "2025-07-11 09:06:58,364 - aiq.agent.react_agent.agent - INFO - 00:01,  1.25it/s]\n",
      "------------------------------\n",
      "[AGENT]\n",
      "\u001b[33mAgent input: What was the color of the smoke that squirted from the joints of the martian machines?\n",
      "\u001b[36mAgent's thoughts: \n",
      "Thought: I now know the final answer\n",
      "\n",
      "Final Answer: The color of the smoke that squirted from the joints of the martian machines was greenish-white.\u001b[39m\n",
      "------------------------------\n",
      "2025-07-11 09:06:58,588 - aiq.agent.react_agent.agent - INFO - 00:00,  1.56it/s]\n",
      "------------------------------\n",
      "[AGENT]\n",
      "\u001b[33mAgent input: What poisonous weapon did the aliens use to silence large amounts of artillery in The War of the Worlds?\n",
      "\u001b[36mAgent's thoughts: \n",
      "Thought: I now know the final answer\n",
      "\n",
      "Final Answer: The aliens used a black vapour, discharged from canisters, which was capable of blotting out large areas and causing death to all who breathed it in.\u001b[39m\n",
      "------------------------------\n",
      "Running workflow: 100%|███████████████████████████| 6/6 [00:05<00:00,  1.06it/s]\n",
      "Evaluating Ragas nv_accuracy:   0%|                       | 0/6 [00:00<?, ?it/s]\n",
      "Evaluating Ragas nv_response_groundedness:   0%|          | 0/6 [00:00<?, ?it/s]\u001b[A\n",
      "\n",
      "Evaluating Ragas nv_context_relevance:   0%|              | 0/6 [00:00<?, ?it/s]\u001b[A\u001b[A\n",
      "Evaluating Ragas nv_response_groundedness:  17%|▎ | 1/6 [00:00<00:01,  3.28it/s]\u001b[A\n",
      "\n",
      "Evaluating Ragas nv_accuracy:  17%|██▌            | 1/6 [00:01<00:07,  1.53s/it]\u001b[A\u001b[A\n",
      "\n",
      "Evaluating Ragas nv_context_relevance:  33%|██    | 2/6 [00:01<00:02,  1.85it/s]\u001b[A\u001b[A\n",
      "Evaluating Ragas nv_accuracy:  33%|█████          | 2/6 [00:01<00:02,  1.38it/s]\u001b[A\n",
      "\n",
      "Evaluating Ragas nv_context_relevance: 100%|██████| 6/6 [00:01<00:00,  3.06it/s]\u001b[A\u001b[A\n",
      "Evaluating Ragas nv_response_groundedness: 100%|██| 6/6 [00:02<00:00,  2.66it/s]\n",
      "Evaluating Ragas nv_accuracy: 100%|███████████████| 6/6 [00:02<00:00,  2.20it/s]\n",
      "2025-07-11 09:07:01,322 - aiq.eval.evaluate - INFO - Profiler is not enabled. Skipping profiling.\n",
      "2025-07-11 09:07:01,325 - aiq.eval.evaluate - INFO - Workflow output written to ragtime_eval/workflow_output.json\n",
      "2025-07-11 09:07:01,325 - aiq.eval.evaluate - INFO - Evaluation results written to ragtime_eval/rag_relevance_output.json\n",
      "2025-07-11 09:07:01,325 - aiq.eval.evaluate - INFO - Evaluation results written to ragtime_eval/rag_groundedness_output.json\n",
      "2025-07-11 09:07:01,325 - aiq.eval.evaluate - INFO - Evaluation results written to ragtime_eval/rag_accuracy_output.json\n",
      "\u001b[0m\u001b[0m"
     ]
    }
   ],
   "source": [
    "!aiq eval --config_file workflows/ragtime/configs/rag_eval_config.yml"
   ]
  },
  {
   "cell_type": "markdown",
   "metadata": {},
   "source": [
    "### 8. Comparing Evaluation Results\n",
    "\n",
    "Now, let's compare the evaluation results between the non-RAG and RAG workflows:"
   ]
  },
  {
   "cell_type": "code",
   "execution_count": 23,
   "metadata": {},
   "outputs": [
    {
     "name": "stdout",
     "output_type": "stream",
     "text": [
      "RAG average accuracy: 0.7916666666666666\n",
      "\n",
      "RAG groundedness: 0.9583333333333334\n",
      "RAG relevance: 0.6666666666666666\n",
      "\n"
     ]
    }
   ],
   "source": [
    "import json\n",
    "\n",
    "# Load the RAG evaluation results\n",
    "with open(\"./ragtime_eval/rag_accuracy_output.json\", \"r\") as f:\n",
    "    rag_results = json.load(f)\n",
    "\n",
    "print(f\"RAG average accuracy: {rag_results['average_score']}\\n\")\n",
    "\n",
    "# Load the groundedness and relevance results for RAG\n",
    "with open(\"./ragtime_eval/rag_groundedness_output.json\", \"r\") as f:\n",
    "    groundedness_results = json.load(f)\n",
    "\n",
    "with open(\"./ragtime_eval/rag_relevance_output.json\", \"r\") as f:\n",
    "    relevance_results = json.load(f)\n",
    "\n",
    "print(f\"RAG groundedness: {groundedness_results['average_score']}\")\n",
    "print(f\"RAG relevance: {relevance_results['average_score']}\\n\")\n"
   ]
  },
  {
   "cell_type": "markdown",
   "metadata": {},
   "source": [
    "As we can see, the RAG workflow outperforms the non-RAG workflow (which had an average accuracy of 0.20) on our evaluation questions."
   ]
  },
  {
   "cell_type": "markdown",
   "metadata": {},
   "source": [
    "## Conclusion\n",
    "\n",
    "In this notebook, we've built and enhanced a RAG workflow using AgentIQ that effectively retrieves and processes information from a library of books. We've covered:\n",
    "\n",
    "1. Setting up the basic RAG infrastructure\n",
    "2. Implementing document processing and retrieval\n",
    "3. Creating an evaluation framework\n",
    "\n",
    "This implementation serves as a foundation for building more sophisticated RAG systems with AgentIQ."
   ]
  }
 ],
 "metadata": {
  "kernelspec": {
   "display_name": "Python 3 (ipykernel)",
   "language": "python",
   "name": "python3"
  },
  "language_info": {
   "codemirror_mode": {
    "name": "ipython",
    "version": 3
   },
   "file_extension": ".py",
   "mimetype": "text/x-python",
   "name": "python",
   "nbconvert_exporter": "python",
   "pygments_lexer": "ipython3",
   "version": "3.12.11"
  }
 },
 "nbformat": 4,
 "nbformat_minor": 4
}
