{
 "cells": [
  {
   "cell_type": "markdown",
   "metadata": {},
   "source": [
    "<a href=\"https://www.nvidia.com/dli\"> <img src=\"images/nvidia_header.png\" style=\"margin-left: -30px; width: 300px; float: left;\"> </a>"
   ]
  },
  {
   "cell_type": "markdown",
   "metadata": {},
   "source": [
    "# Learn to Build Agentic AI Workflows for Enterprise Applications\n",
    "\n",
    "Using NVIDIA technologies, you will build configurable tools and workflows for agentic AI. Learn to deploy an agentic AI workflow, create tools for an AI agent, and quickly augment existing workflows with new tools. With these workflows and tools, you'll increase productivity when dealing with multiple enterprise data sources.\n",
    "\n"
   ]
  },
  {
   "cell_type": "markdown",
   "metadata": {},
   "source": [
    "## Table of Contents\n",
    "We will go through the following steps in this lab to learn how to build agentic AI workflows for enterprise applications. Each notebook provides hands-on experience with different aspects of agentic AI development using NVIDIA technologies.\n",
    "\n",
    "\n",
    "1. [Surge of Agents](01_Surge_of_Agents.ipynb)<br>\n",
    "    A comprehensive tour of modern agentic frameworks including:\n",
    "    - OpenAI Python Library\n",
    "    - LangChain\n",
    "    - CrewAI\n",
    "    - LangGraph\n",
    "    Using a common task of generating and solving mathematical word problems to showcase each framework's approach.\n",
    "<br><br>\n",
    "2. [AgentIQ - First Contact](02_AgentIQ_First_Contact.ipynb)<br>\n",
    "    An introduction to AgentIQ, NVIDIA's open-source library for composing and configuring agents:\n",
    "    - Understanding the AgentIQ CLI\n",
    "    - Exploring available commands\n",
    "    - Discovering built-in components and tools\n",
    "<br><br>\n",
    "3. [Build A Math Pro Agent](03_Build_A_Math_Pro_Agent.ipynb)<br>\n",
    "    Creating and running a custom AgentIQ workflow:\n",
    "    - Understanding different agent types in AgentIQ\n",
    "    - Creating a workflow configuration\n",
    "    - Building a ReAct agent with mathematical capabilities\n",
    "    - Implementing and testing custom tools\n",
    "<br><br>\n",
    "4. [Evals And Observability](04_Evals_And_o11y.ipynb)<br>\n",
    "    Evaluating and profiling AgentIQ workflows:\n",
    "    - Setting up agent evaluation\n",
    "    - Using RAGAS and Trajectory evaluators\n",
    "    - Creating test cases with expected answers\n",
    "    - Analyzing performance metrics\n",
    "    - Implementing observability for your workflows\n",
    "<br><br>\n",
    "5. [RAG It Is Ragtime](05_RAG_It_Is_Ragtime.ipynb)<br>\n",
    "    Building a Retrieval Augmented Generation (RAG) workflow with AgentIQ:\n",
    "    - Understanding RAG architecture and benefits\n",
    "    - Configuring a RAG workflow in AgentIQ\n",
    "    - Ingesting and processing documents\n",
    "    - Creating vector embeddings for efficient retrieval\n",
    "    - Evaluating RAG system performance\n",
    "<br><br>\n",
    "6. [Surge of Agents with AgentIQ](06_Surge_of_Agents_with_AgentIQ.ipynb)<br>\n",
    "    Integrating multiple AI frameworks with AgentIQ:\n",
    "    - Creating AgentIQ components that wrap existing framework code\n",
    "    - Configuring a unified workflow that connects multiple frameworks\n",
    "    - Orchestrating OpenAI, LangChain, LangGraph, and CrewAI components\n",
    "    - Running the integrated system as a cohesive workflow"
   ]
  },
  {
   "cell_type": "markdown",
   "metadata": {},
   "source": [
    "### JupyterLab\n",
    "For this hands-on lab, we use [JupyterLab](https://jupyterlab.readthedocs.io/en/stable/) to manage our environment.  The [JupyterLab Interface](https://jupyterlab.readthedocs.io/en/stable/user/interface.html) is a dashboard that provides access to interactive iPython notebooks, as well as the folder structure of our environment and a terminal window into the Ubuntu operating system. The first view you'll see includes a **menu bar** at the top, a **file browser** in the **left sidebar**, and a **main work area** that is initially open to the \"Launcher\" page. \n",
    "\n",
    "<img src=\"images/jl_launcher.png\">\n",
    "\n",
    "The file browser can be navigated just like any other file explorer. A double click on any of the items will open a new tab with its content.\n",
    "\n",
    "The main work area includes tabbed views of open files that can be closed, moved, and edited as needed. \n",
    "\n",
    "The notebooks, including this one, consist of a series of content and code **cells**.  To execute code in a code cell, press `Shift+Enter` or the \"Run\" button in the menu bar above, while a cell is highlighted. Sometimes, a content cell will get switched to editing mode. Pressing `Shift+Enter` will switch it back to a readable form.\n",
    "\n",
    "Try executing the simple print statement in the cell below."
   ]
  },
  {
   "cell_type": "code",
   "execution_count": null,
   "metadata": {},
   "outputs": [],
   "source": [
    "# Highlight this cell and click [Shift+Enter] to execute\n",
    "print('This is just a simple print statement')"
   ]
  },
  {
   "cell_type": "markdown",
   "metadata": {},
   "source": [
    "<a href=\"https://www.nvidia.com/dli\"> <img src=\"images/nvidia_header.png\" style=\"margin-left: -30px; width: 300px; float: left;\"> </a>"
   ]
  }
 ],
 "metadata": {
  "jupytext": {
   "formats": "ipynb,py:percent"
  },
  "kernelspec": {
   "display_name": "Python 3 (ipykernel)",
   "language": "python",
   "name": "python3"
  },
  "language_info": {
   "codemirror_mode": {
    "name": "ipython",
    "version": 3
   },
   "file_extension": ".py",
   "mimetype": "text/x-python",
   "name": "python",
   "nbconvert_exporter": "python",
   "pygments_lexer": "ipython3",
   "version": "3.12.11"
  }
 },
 "nbformat": 4,
 "nbformat_minor": 4
}
